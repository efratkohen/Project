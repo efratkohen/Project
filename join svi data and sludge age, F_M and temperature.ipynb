{
 "cells": [
  {
   "cell_type": "code",
   "execution_count": 1,
   "metadata": {},
   "outputs": [
    {
     "name": "stderr",
     "output_type": "stream",
     "text": [
      "Using TensorFlow backend.\n"
     ]
    }
   ],
   "source": [
    "import clean_data_svi as cds\n",
    "import supervised as sup\n",
    "import pathlib\n",
    "import keras_model as km\n",
    "import pandas as pd\n",
    "import numpy as np\n",
    "import matplotlib.pyplot as plt\n",
    "from math import sqrt\n",
    "from datetime import timedelta, datetime\n",
    "from sklearn.model_selection import train_test_split\n",
    "from sklearn.preprocessing import MinMaxScaler\n",
    "from sklearn.metrics import mean_squared_error\n",
    "from tqdm import tqdm\n",
    "import tensorflow as tf\n",
    "from tensorflow import keras\n",
    "from keras.models import Sequential\n",
    "from keras.layers import Activation, Dense, LSTM\n",
    "from keras.optimizers import Adam\n",
    "from keras.metrics import categorical_crossentropy\n",
    "from sklearn import preprocessing\n",
    "from sklearn.decomposition import PCA\n",
    "from sklearn.metrics import mean_squared_error, median_absolute_error, roc_curve, auc, f1_score, precision_recall_curve, r2_score\n",
    "from sklearn.metrics import confusion_matrix\n",
    "from sklearn.metrics import plot_confusion_matrix\n"
   ]
  },
  {
   "cell_type": "code",
   "execution_count": 2,
   "metadata": {},
   "outputs": [],
   "source": [
    "SVI_list = []\n",
    "for i in range(4):\n",
    "    df = pd.read_csv(f\"clean_tables/svi_{i+1}.csv\", index_col=\"date\")\n",
    "    df = df.drop(columns=['Settling_velocity', 'SV_label', 'SVI_label'])\n",
    "    df.index = pd.to_datetime(df.index, dayfirst=True)\n",
    "    SVI_list.append(df)"
   ]
  },
  {
   "cell_type": "code",
   "execution_count": 3,
   "metadata": {},
   "outputs": [],
   "source": [
    "temp_df = pd.read_csv(\"clean_tables/temperatur.csv\", index_col=\"date\")\n",
    "temp_df.index = pd.to_datetime(temp_df.index, dayfirst=True)\n",
    "sludge_age_df = pd.read_csv(\"clean_tables/sludge_age_f_m.csv\", index_col=\"date\")\n",
    "sludge_age_df.index = pd.to_datetime(sludge_age_df.index, dayfirst=True)"
   ]
  },
  {
   "cell_type": "code",
   "execution_count": 4,
   "metadata": {},
   "outputs": [],
   "source": [
    "reactor_list = []\n",
    "for i in range(4):\n",
    "    join = pd.concat([SVI_list[i], temp_df], axis=1)\n",
    "    if i <=1:\n",
    "        join = pd.concat([join, sludge_age_df.iloc[:, np.r_[0, 2]]], axis=1)\n",
    "    else:\n",
    "        join = pd.concat([join, sludge_age_df.iloc[:, np.r_[1, 3]]], axis=1)\n",
    "    months_df = pd.get_dummies(join.index.month, prefix='month')\n",
    "    months_df.index=join.index\n",
    "    join = pd.concat([join, months_df], axis=1)\n",
    "    reactor_list.append(join)"
   ]
  },
  {
   "cell_type": "code",
   "execution_count": 5,
   "metadata": {},
   "outputs": [
    {
     "data": {
      "text/html": [
       "<div>\n",
       "<style scoped>\n",
       "    .dataframe tbody tr th:only-of-type {\n",
       "        vertical-align: middle;\n",
       "    }\n",
       "\n",
       "    .dataframe tbody tr th {\n",
       "        vertical-align: top;\n",
       "    }\n",
       "\n",
       "    .dataframe thead th {\n",
       "        text-align: right;\n",
       "    }\n",
       "</style>\n",
       "<table border=\"1\" class=\"dataframe\">\n",
       "  <thead>\n",
       "    <tr style=\"text-align: right;\">\n",
       "      <th></th>\n",
       "      <th>SVI</th>\n",
       "      <th>Temperature</th>\n",
       "      <th>F_M - A</th>\n",
       "      <th>Sludge Age - A</th>\n",
       "      <th>month_1</th>\n",
       "      <th>month_2</th>\n",
       "      <th>month_3</th>\n",
       "      <th>month_4</th>\n",
       "      <th>month_5</th>\n",
       "      <th>month_6</th>\n",
       "      <th>month_7</th>\n",
       "      <th>month_8</th>\n",
       "      <th>month_9</th>\n",
       "      <th>month_10</th>\n",
       "      <th>month_11</th>\n",
       "      <th>month_12</th>\n",
       "    </tr>\n",
       "    <tr>\n",
       "      <th>date</th>\n",
       "      <th></th>\n",
       "      <th></th>\n",
       "      <th></th>\n",
       "      <th></th>\n",
       "      <th></th>\n",
       "      <th></th>\n",
       "      <th></th>\n",
       "      <th></th>\n",
       "      <th></th>\n",
       "      <th></th>\n",
       "      <th></th>\n",
       "      <th></th>\n",
       "      <th></th>\n",
       "      <th></th>\n",
       "      <th></th>\n",
       "      <th></th>\n",
       "    </tr>\n",
       "  </thead>\n",
       "  <tbody>\n",
       "    <tr>\n",
       "      <th>2010-01-01</th>\n",
       "      <td>90.943683</td>\n",
       "      <td>22.030</td>\n",
       "      <td>0.23</td>\n",
       "      <td>3.44</td>\n",
       "      <td>1</td>\n",
       "      <td>0</td>\n",
       "      <td>0</td>\n",
       "      <td>0</td>\n",
       "      <td>0</td>\n",
       "      <td>0</td>\n",
       "      <td>0</td>\n",
       "      <td>0</td>\n",
       "      <td>0</td>\n",
       "      <td>0</td>\n",
       "      <td>0</td>\n",
       "      <td>0</td>\n",
       "    </tr>\n",
       "    <tr>\n",
       "      <th>2010-01-02</th>\n",
       "      <td>84.365325</td>\n",
       "      <td>21.985</td>\n",
       "      <td>0.18</td>\n",
       "      <td>3.78</td>\n",
       "      <td>1</td>\n",
       "      <td>0</td>\n",
       "      <td>0</td>\n",
       "      <td>0</td>\n",
       "      <td>0</td>\n",
       "      <td>0</td>\n",
       "      <td>0</td>\n",
       "      <td>0</td>\n",
       "      <td>0</td>\n",
       "      <td>0</td>\n",
       "      <td>0</td>\n",
       "      <td>0</td>\n",
       "    </tr>\n",
       "    <tr>\n",
       "      <th>2010-01-03</th>\n",
       "      <td>94.541139</td>\n",
       "      <td>21.740</td>\n",
       "      <td>0.21</td>\n",
       "      <td>3.82</td>\n",
       "      <td>1</td>\n",
       "      <td>0</td>\n",
       "      <td>0</td>\n",
       "      <td>0</td>\n",
       "      <td>0</td>\n",
       "      <td>0</td>\n",
       "      <td>0</td>\n",
       "      <td>0</td>\n",
       "      <td>0</td>\n",
       "      <td>0</td>\n",
       "      <td>0</td>\n",
       "      <td>0</td>\n",
       "    </tr>\n",
       "    <tr>\n",
       "      <th>2010-01-04</th>\n",
       "      <td>97.402597</td>\n",
       "      <td>21.815</td>\n",
       "      <td>0.21</td>\n",
       "      <td>3.40</td>\n",
       "      <td>1</td>\n",
       "      <td>0</td>\n",
       "      <td>0</td>\n",
       "      <td>0</td>\n",
       "      <td>0</td>\n",
       "      <td>0</td>\n",
       "      <td>0</td>\n",
       "      <td>0</td>\n",
       "      <td>0</td>\n",
       "      <td>0</td>\n",
       "      <td>0</td>\n",
       "      <td>0</td>\n",
       "    </tr>\n",
       "    <tr>\n",
       "      <th>2010-01-05</th>\n",
       "      <td>107.937685</td>\n",
       "      <td>21.890</td>\n",
       "      <td>0.23</td>\n",
       "      <td>3.70</td>\n",
       "      <td>1</td>\n",
       "      <td>0</td>\n",
       "      <td>0</td>\n",
       "      <td>0</td>\n",
       "      <td>0</td>\n",
       "      <td>0</td>\n",
       "      <td>0</td>\n",
       "      <td>0</td>\n",
       "      <td>0</td>\n",
       "      <td>0</td>\n",
       "      <td>0</td>\n",
       "      <td>0</td>\n",
       "    </tr>\n",
       "    <tr>\n",
       "      <th>...</th>\n",
       "      <td>...</td>\n",
       "      <td>...</td>\n",
       "      <td>...</td>\n",
       "      <td>...</td>\n",
       "      <td>...</td>\n",
       "      <td>...</td>\n",
       "      <td>...</td>\n",
       "      <td>...</td>\n",
       "      <td>...</td>\n",
       "      <td>...</td>\n",
       "      <td>...</td>\n",
       "      <td>...</td>\n",
       "      <td>...</td>\n",
       "      <td>...</td>\n",
       "      <td>...</td>\n",
       "      <td>...</td>\n",
       "    </tr>\n",
       "    <tr>\n",
       "      <th>2020-12-27</th>\n",
       "      <td>166.666667</td>\n",
       "      <td>22.540</td>\n",
       "      <td>0.25</td>\n",
       "      <td>2.75</td>\n",
       "      <td>0</td>\n",
       "      <td>0</td>\n",
       "      <td>0</td>\n",
       "      <td>0</td>\n",
       "      <td>0</td>\n",
       "      <td>0</td>\n",
       "      <td>0</td>\n",
       "      <td>0</td>\n",
       "      <td>0</td>\n",
       "      <td>0</td>\n",
       "      <td>0</td>\n",
       "      <td>1</td>\n",
       "    </tr>\n",
       "    <tr>\n",
       "      <th>2020-12-28</th>\n",
       "      <td>147.453083</td>\n",
       "      <td>22.535</td>\n",
       "      <td>0.26</td>\n",
       "      <td>2.91</td>\n",
       "      <td>0</td>\n",
       "      <td>0</td>\n",
       "      <td>0</td>\n",
       "      <td>0</td>\n",
       "      <td>0</td>\n",
       "      <td>0</td>\n",
       "      <td>0</td>\n",
       "      <td>0</td>\n",
       "      <td>0</td>\n",
       "      <td>0</td>\n",
       "      <td>0</td>\n",
       "      <td>1</td>\n",
       "    </tr>\n",
       "    <tr>\n",
       "      <th>2020-12-29</th>\n",
       "      <td>154.702970</td>\n",
       "      <td>22.660</td>\n",
       "      <td>0.26</td>\n",
       "      <td>2.82</td>\n",
       "      <td>0</td>\n",
       "      <td>0</td>\n",
       "      <td>0</td>\n",
       "      <td>0</td>\n",
       "      <td>0</td>\n",
       "      <td>0</td>\n",
       "      <td>0</td>\n",
       "      <td>0</td>\n",
       "      <td>0</td>\n",
       "      <td>0</td>\n",
       "      <td>0</td>\n",
       "      <td>1</td>\n",
       "    </tr>\n",
       "    <tr>\n",
       "      <th>2020-12-30</th>\n",
       "      <td>159.722222</td>\n",
       "      <td>22.660</td>\n",
       "      <td>0.27</td>\n",
       "      <td>2.91</td>\n",
       "      <td>0</td>\n",
       "      <td>0</td>\n",
       "      <td>0</td>\n",
       "      <td>0</td>\n",
       "      <td>0</td>\n",
       "      <td>0</td>\n",
       "      <td>0</td>\n",
       "      <td>0</td>\n",
       "      <td>0</td>\n",
       "      <td>0</td>\n",
       "      <td>0</td>\n",
       "      <td>1</td>\n",
       "    </tr>\n",
       "    <tr>\n",
       "      <th>2020-12-31</th>\n",
       "      <td>167.597765</td>\n",
       "      <td>22.735</td>\n",
       "      <td>0.27</td>\n",
       "      <td>2.91</td>\n",
       "      <td>0</td>\n",
       "      <td>0</td>\n",
       "      <td>0</td>\n",
       "      <td>0</td>\n",
       "      <td>0</td>\n",
       "      <td>0</td>\n",
       "      <td>0</td>\n",
       "      <td>0</td>\n",
       "      <td>0</td>\n",
       "      <td>0</td>\n",
       "      <td>0</td>\n",
       "      <td>1</td>\n",
       "    </tr>\n",
       "  </tbody>\n",
       "</table>\n",
       "<p>4018 rows × 16 columns</p>\n",
       "</div>"
      ],
      "text/plain": [
       "                   SVI  Temperature  F_M - A  Sludge Age - A  month_1  \\\n",
       "date                                                                    \n",
       "2010-01-01   90.943683       22.030     0.23            3.44        1   \n",
       "2010-01-02   84.365325       21.985     0.18            3.78        1   \n",
       "2010-01-03   94.541139       21.740     0.21            3.82        1   \n",
       "2010-01-04   97.402597       21.815     0.21            3.40        1   \n",
       "2010-01-05  107.937685       21.890     0.23            3.70        1   \n",
       "...                ...          ...      ...             ...      ...   \n",
       "2020-12-27  166.666667       22.540     0.25            2.75        0   \n",
       "2020-12-28  147.453083       22.535     0.26            2.91        0   \n",
       "2020-12-29  154.702970       22.660     0.26            2.82        0   \n",
       "2020-12-30  159.722222       22.660     0.27            2.91        0   \n",
       "2020-12-31  167.597765       22.735     0.27            2.91        0   \n",
       "\n",
       "            month_2  month_3  month_4  month_5  month_6  month_7  month_8  \\\n",
       "date                                                                        \n",
       "2010-01-01        0        0        0        0        0        0        0   \n",
       "2010-01-02        0        0        0        0        0        0        0   \n",
       "2010-01-03        0        0        0        0        0        0        0   \n",
       "2010-01-04        0        0        0        0        0        0        0   \n",
       "2010-01-05        0        0        0        0        0        0        0   \n",
       "...             ...      ...      ...      ...      ...      ...      ...   \n",
       "2020-12-27        0        0        0        0        0        0        0   \n",
       "2020-12-28        0        0        0        0        0        0        0   \n",
       "2020-12-29        0        0        0        0        0        0        0   \n",
       "2020-12-30        0        0        0        0        0        0        0   \n",
       "2020-12-31        0        0        0        0        0        0        0   \n",
       "\n",
       "            month_9  month_10  month_11  month_12  \n",
       "date                                               \n",
       "2010-01-01        0         0         0         0  \n",
       "2010-01-02        0         0         0         0  \n",
       "2010-01-03        0         0         0         0  \n",
       "2010-01-04        0         0         0         0  \n",
       "2010-01-05        0         0         0         0  \n",
       "...             ...       ...       ...       ...  \n",
       "2020-12-27        0         0         0         1  \n",
       "2020-12-28        0         0         0         1  \n",
       "2020-12-29        0         0         0         1  \n",
       "2020-12-30        0         0         0         1  \n",
       "2020-12-31        0         0         0         1  \n",
       "\n",
       "[4018 rows x 16 columns]"
      ]
     },
     "execution_count": 5,
     "metadata": {},
     "output_type": "execute_result"
    }
   ],
   "source": [
    "reactor_list[0]"
   ]
  },
  {
   "cell_type": "code",
   "execution_count": 6,
   "metadata": {},
   "outputs": [],
   "source": [
    "X, Y = km.create_join_x_y_arr(reactor_list, n_steps_in=2, binary=True)"
   ]
  },
  {
   "cell_type": "code",
   "execution_count": 7,
   "metadata": {},
   "outputs": [
    {
     "data": {
      "text/plain": [
       "(16064, 2, 16)"
      ]
     },
     "execution_count": 7,
     "metadata": {},
     "output_type": "execute_result"
    }
   ],
   "source": [
    "X.shape"
   ]
  },
  {
   "cell_type": "code",
   "execution_count": 8,
   "metadata": {},
   "outputs": [
    {
     "data": {
      "text/plain": [
       "array([[90.94368341, 22.03      ,  0.23      ,  3.44      ,  1.        ,\n",
       "         0.        ,  0.        ,  0.        ,  0.        ,  0.        ,\n",
       "         0.        ,  0.        ,  0.        ,  0.        ,  0.        ,\n",
       "         0.        ],\n",
       "       [84.36532508, 21.985     ,  0.18      ,  3.78      ,  1.        ,\n",
       "         0.        ,  0.        ,  0.        ,  0.        ,  0.        ,\n",
       "         0.        ,  0.        ,  0.        ,  0.        ,  0.        ,\n",
       "         0.        ]])"
      ]
     },
     "execution_count": 8,
     "metadata": {},
     "output_type": "execute_result"
    }
   ],
   "source": [
    "X[0]"
   ]
  },
  {
   "cell_type": "code",
   "execution_count": 9,
   "metadata": {},
   "outputs": [
    {
     "data": {
      "text/plain": [
       "array([1.])"
      ]
     },
     "execution_count": 9,
     "metadata": {},
     "output_type": "execute_result"
    }
   ],
   "source": [
    "Y[0]"
   ]
  },
  {
   "cell_type": "code",
   "execution_count": 10,
   "metadata": {},
   "outputs": [
    {
     "name": "stderr",
     "output_type": "stream",
     "text": [
      "100%|██████████| 2/2 [00:00<00:00, 234.96it/s]\n"
     ]
    },
    {
     "name": "stdout",
     "output_type": "stream",
     "text": [
      "Epoch 1/30\n",
      "14457/14457 [==============================] - 10s 709us/step - loss: 0.4953 - binary_accuracy: 0.7079\n",
      "Epoch 2/30\n",
      "14457/14457 [==============================] - 7s 491us/step - loss: 0.4118 - binary_accuracy: 0.7732\n",
      "Epoch 3/30\n",
      "14457/14457 [==============================] - 7s 467us/step - loss: 0.4011 - binary_accuracy: 0.7892\n",
      "Epoch 4/30\n",
      "14457/14457 [==============================] - 7s 451us/step - loss: 0.3960 - binary_accuracy: 0.7966\n",
      "Epoch 5/30\n",
      "14457/14457 [==============================] - 6s 434us/step - loss: 0.3941 - binary_accuracy: 0.8014\n",
      "Epoch 6/30\n",
      "14457/14457 [==============================] - 7s 470us/step - loss: 0.3918 - binary_accuracy: 0.8045\n",
      "Epoch 7/30\n",
      "14457/14457 [==============================] - 6s 402us/step - loss: 0.3900 - binary_accuracy: 0.8068\n",
      "Epoch 8/30\n",
      "14457/14457 [==============================] - 6s 410us/step - loss: 0.3910 - binary_accuracy: 0.8085\n",
      "Epoch 9/30\n",
      "14457/14457 [==============================] - 7s 480us/step - loss: 0.3889 - binary_accuracy: 0.8100\n",
      "Epoch 10/30\n",
      "14457/14457 [==============================] - 6s 408us/step - loss: 0.3888 - binary_accuracy: 0.8110\n",
      "Epoch 11/30\n",
      "14457/14457 [==============================] - 5s 366us/step - loss: 0.3871 - binary_accuracy: 0.8119\n",
      "Epoch 12/30\n",
      "14457/14457 [==============================] - 6s 389us/step - loss: 0.3868 - binary_accuracy: 0.8128\n",
      "Epoch 13/30\n",
      "14457/14457 [==============================] - 5s 370us/step - loss: 0.3875 - binary_accuracy: 0.8135\n",
      "Epoch 14/30\n",
      "14457/14457 [==============================] - 5s 376us/step - loss: 0.3851 - binary_accuracy: 0.8142\n",
      "Epoch 15/30\n",
      "14457/14457 [==============================] - 5s 371us/step - loss: 0.3844 - binary_accuracy: 0.8147\n",
      "Epoch 16/30\n",
      "14457/14457 [==============================] - 5s 369us/step - loss: 0.3833 - binary_accuracy: 0.8153\n",
      "Epoch 17/30\n",
      "14457/14457 [==============================] - 5s 371us/step - loss: 0.3839 - binary_accuracy: 0.8159\n",
      "Epoch 18/30\n",
      "14457/14457 [==============================] - 5s 368us/step - loss: 0.3834 - binary_accuracy: 0.8163\n",
      "Epoch 19/30\n",
      "14457/14457 [==============================] - 5s 372us/step - loss: 0.3825 - binary_accuracy: 0.8168\n",
      "Epoch 20/30\n",
      "14457/14457 [==============================] - 6s 405us/step - loss: 0.3806 - binary_accuracy: 0.8172\n",
      "Epoch 21/30\n",
      "14457/14457 [==============================] - 5s 371us/step - loss: 0.3815 - binary_accuracy: 0.8176\n",
      "Epoch 22/30\n",
      "14457/14457 [==============================] - 6s 381us/step - loss: 0.3807 - binary_accuracy: 0.8180\n",
      "Epoch 23/30\n",
      "14457/14457 [==============================] - 5s 369us/step - loss: 0.3787 - binary_accuracy: 0.8182\n",
      "Epoch 24/30\n",
      "14457/14457 [==============================] - 5s 368us/step - loss: 0.3797 - binary_accuracy: 0.8186\n",
      "Epoch 25/30\n",
      "14457/14457 [==============================] - 5s 368us/step - loss: 0.3795 - binary_accuracy: 0.8189\n",
      "Epoch 26/30\n",
      "14457/14457 [==============================] - 5s 369us/step - loss: 0.3787 - binary_accuracy: 0.8192\n",
      "Epoch 27/30\n",
      "14457/14457 [==============================] - 5s 368us/step - loss: 0.3777 - binary_accuracy: 0.8194\n",
      "Epoch 28/30\n",
      "14457/14457 [==============================] - 5s 367us/step - loss: 0.3783 - binary_accuracy: 0.8196\n",
      "Epoch 29/30\n",
      "14457/14457 [==============================] - 5s 369us/step - loss: 0.3763 - binary_accuracy: 0.8199\n",
      "Epoch 30/30\n",
      "14457/14457 [==============================] - 5s 371us/step - loss: 0.3777 - binary_accuracy: 0.8201\n"
     ]
    },
    {
     "data": {
      "text/plain": [
       "<keras.callbacks.callbacks.History at 0x7f9be7ecf7d0>"
      ]
     },
     "execution_count": 10,
     "metadata": {},
     "output_type": "execute_result"
    }
   ],
   "source": [
    "X_normalize, Y_normalize, scalers = km.normalize(X, Y)\n",
    "Xtrain, Xtest, ytrain, ytest = train_test_split(X_normalize, Y_normalize, test_size=0.10, random_state=42)\n",
    "model = Sequential()\n",
    "model.add(LSTM(units=50, activation='relu', name='first_lstm', recurrent_dropout=0.1, input_shape=(Xtrain.shape[1], Xtrain.shape[2])))\n",
    "model.add(Dense(25, activation='relu'))\n",
    "model.add(Dense(1, activation=\"sigmoid\"))\n",
    "model.compile(optimizer='adam', loss='binary_crossentropy', \n",
    "              metrics=[keras.metrics.BinaryAccuracy(name='binary_accuracy', dtype=None, threshold=0.5)])\n",
    "model.fit(Xtrain, ytrain, epochs=30, batch_size=10, shuffle=True)\n"
   ]
  },
  {
   "cell_type": "code",
   "execution_count": 11,
   "metadata": {},
   "outputs": [],
   "source": [
    "Yhat, Ytest = km.evaluate(model, Xtest, ytest, scalers, binary=True)"
   ]
  },
  {
   "cell_type": "code",
   "execution_count": 12,
   "metadata": {},
   "outputs": [],
   "source": [
    "threshold = 0.5\n",
    "y_predict = np.where(Yhat > threshold, 1, 0).astype(int)\n",
    "y_real = Ytest.astype(int)"
   ]
  },
  {
   "cell_type": "code",
   "execution_count": 13,
   "metadata": {},
   "outputs": [],
   "source": [
    "classes = ['High_svi', 'Low_svi']"
   ]
  },
  {
   "cell_type": "code",
   "execution_count": 14,
   "metadata": {},
   "outputs": [],
   "source": [
    "cm = confusion_matrix(y_real, y_predict)"
   ]
  },
  {
   "cell_type": "code",
   "execution_count": 15,
   "metadata": {},
   "outputs": [
    {
     "name": "stdout",
     "output_type": "stream",
     "text": [
      "Confusion matrix, without normalization\n",
      "[[366 141]\n",
      " [160 940]]\n"
     ]
    },
    {
     "data": {
      "image/png": "[encoded data removed]",
      "text/plain": [
       "<Figure size 432x288 with 2 Axes>"
      ]
     },
     "metadata": {
      "needs_background": "light"
     },
     "output_type": "display_data"
    }
   ],
   "source": [
    "sup.plot_confusion_matrix(cm, classes,\n",
    "                          normalize=False,\n",
    "                          title='Confusion matrix',\n",
    "                          cmap=plt.cm.Blues)"
   ]
  },
  {
   "cell_type": "code",
   "execution_count": 16,
   "metadata": {},
   "outputs": [],
   "source": [
    "results = km.results(y_real, y_predict, binary=True)"
   ]
  },
  {
   "cell_type": "code",
   "execution_count": 17,
   "metadata": {},
   "outputs": [
    {
     "data": {
      "text/plain": [
       "(0.8126944617299315,\n",
       " 0.7218934911242604,\n",
       " 0.6958174904942965,\n",
       " 0.7086156824782188)"
      ]
     },
     "execution_count": 17,
     "metadata": {},
     "output_type": "execute_result"
    }
   ],
   "source": [
    "results"
   ]
  },
  {
   "cell_type": "code",
   "execution_count": 18,
   "metadata": {},
   "outputs": [],
   "source": [
    "fpr, tpr, thresholds = roc_curve(Ytest, Yhat)"
   ]
  },
  {
   "cell_type": "code",
   "execution_count": 19,
   "metadata": {},
   "outputs": [
    {
     "data": {
      "text/plain": [
       "0.8805791644253184"
      ]
     },
     "execution_count": 19,
     "metadata": {},
     "output_type": "execute_result"
    }
   ],
   "source": [
    "auc(fpr, tpr)"
   ]
  },
  {
   "cell_type": "code",
   "execution_count": 20,
   "metadata": {},
   "outputs": [
    {
     "data": {
      "text/plain": [
       "Text(0.5, 1.0, 'ROC curve')"
      ]
     },
     "execution_count": 20,
     "metadata": {},
     "output_type": "execute_result"
    },
    {
     "data": {
      "image/png": "[encoded data removed]",
      "text/plain": [
       "<Figure size 432x288 with 1 Axes>"
      ]
     },
     "metadata": {
      "needs_background": "light"
     },
     "output_type": "display_data"
    }
   ],
   "source": [
    "plt.plot(fpr, tpr)\n",
    "plt.xlabel('False Positive Rate')\n",
    "plt.ylabel('True Positive Rate')\n",
    "plt.title('ROC curve')"
   ]
  },
  {
   "cell_type": "code",
   "execution_count": 21,
   "metadata": {},
   "outputs": [
    {
     "name": "stderr",
     "output_type": "stream",
     "text": [
      "100%|██████████| 1/1 [00:00<00:00, 335.57it/s]\n"
     ]
    },
    {
     "name": "stdout",
     "output_type": "stream",
     "text": [
      "Epoch 1/3\n",
      "12854/12854 [==============================] - 5s 400us/step - loss: 0.6408\n",
      "Epoch 2/3\n",
      "12854/12854 [==============================] - 4s 282us/step - loss: 0.6080\n",
      "Epoch 3/3\n",
      "12854/12854 [==============================] - 4s 285us/step - loss: 0.5880\n"
     ]
    },
    {
     "name": "stderr",
     "output_type": "stream",
     "text": [
      "100%|██████████| 1/1 [00:00<00:00, 259.47it/s]\n"
     ]
    },
    {
     "name": "stdout",
     "output_type": "stream",
     "text": [
      "Epoch 1/3\n",
      "12851/12851 [==============================] - 5s 409us/step - loss: 0.6437\n",
      "Epoch 2/3\n",
      "12851/12851 [==============================] - 4s 285us/step - loss: 0.6168\n",
      "Epoch 3/3\n",
      "12851/12851 [==============================] - 4s 288us/step - loss: 0.6026\n"
     ]
    },
    {
     "name": "stderr",
     "output_type": "stream",
     "text": [
      "100%|██████████| 1/1 [00:00<00:00, 355.39it/s]\n"
     ]
    },
    {
     "name": "stdout",
     "output_type": "stream",
     "text": [
      "Epoch 1/3\n",
      "12848/12848 [==============================] - 5s 392us/step - loss: 0.6360\n",
      "Epoch 2/3\n",
      "12848/12848 [==============================] - 4s 287us/step - loss: 0.6078\n",
      "Epoch 3/3\n",
      "12848/12848 [==============================] - 4s 287us/step - loss: 0.5898\n"
     ]
    },
    {
     "name": "stderr",
     "output_type": "stream",
     "text": [
      "100%|██████████| 1/1 [00:00<00:00, 261.44it/s]\n"
     ]
    },
    {
     "name": "stdout",
     "output_type": "stream",
     "text": [
      "Epoch 1/3\n",
      "12844/12844 [==============================] - 5s 387us/step - loss: 0.6399\n",
      "Epoch 2/3\n",
      "12844/12844 [==============================] - 4s 280us/step - loss: 0.6140\n",
      "Epoch 3/3\n",
      "12844/12844 [==============================] - 4s 281us/step - loss: 0.5995\n"
     ]
    },
    {
     "name": "stderr",
     "output_type": "stream",
     "text": [
      "100%|██████████| 1/1 [00:00<00:00, 242.84it/s]\n"
     ]
    },
    {
     "name": "stdout",
     "output_type": "stream",
     "text": [
      "Epoch 1/3\n",
      "12841/12841 [==============================] - 5s 392us/step - loss: 0.6447\n",
      "Epoch 2/3\n",
      "12841/12841 [==============================] - 4s 310us/step - loss: 0.6143\n",
      "Epoch 3/3\n",
      "12841/12841 [==============================] - 4s 291us/step - loss: 0.6005\n"
     ]
    },
    {
     "name": "stderr",
     "output_type": "stream",
     "text": [
      "100%|██████████| 1/1 [00:00<00:00, 243.01it/s]\n"
     ]
    },
    {
     "name": "stdout",
     "output_type": "stream",
     "text": [
      "Epoch 1/3\n",
      "12838/12838 [==============================] - 5s 394us/step - loss: 0.6465\n",
      "Epoch 2/3\n",
      "12838/12838 [==============================] - 4s 280us/step - loss: 0.6163\n",
      "Epoch 3/3\n",
      "12838/12838 [==============================] - 4s 280us/step - loss: 0.6039\n"
     ]
    },
    {
     "name": "stderr",
     "output_type": "stream",
     "text": [
      "100%|██████████| 1/1 [00:00<00:00, 231.82it/s]\n"
     ]
    },
    {
     "name": "stdout",
     "output_type": "stream",
     "text": [
      "Epoch 1/3\n",
      "12835/12835 [==============================] - 5s 397us/step - loss: 0.6529\n",
      "Epoch 2/3\n",
      "12835/12835 [==============================] - 4s 283us/step - loss: 0.6183\n",
      "Epoch 3/3\n",
      "12835/12835 [==============================] - 4s 284us/step - loss: 0.6086\n"
     ]
    },
    {
     "name": "stderr",
     "output_type": "stream",
     "text": [
      "100%|██████████| 1/1 [00:00<00:00, 238.10it/s]\n"
     ]
    },
    {
     "name": "stdout",
     "output_type": "stream",
     "text": [
      "Epoch 1/3\n",
      "12832/12832 [==============================] - 5s 388us/step - loss: 0.6470\n",
      "Epoch 2/3\n",
      "12832/12832 [==============================] - 4s 278us/step - loss: 0.6165\n",
      "Epoch 3/3\n",
      "12832/12832 [==============================] - 4s 278us/step - loss: 0.6062\n"
     ]
    },
    {
     "name": "stderr",
     "output_type": "stream",
     "text": [
      "100%|██████████| 1/1 [00:00<00:00, 303.85it/s]\n"
     ]
    },
    {
     "name": "stdout",
     "output_type": "stream",
     "text": [
      "Epoch 1/3\n",
      "12828/12828 [==============================] - 5s 388us/step - loss: 0.6439\n",
      "Epoch 2/3\n",
      "12828/12828 [==============================] - 4s 279us/step - loss: 0.6180\n",
      "Epoch 3/3\n",
      "12828/12828 [==============================] - 4s 279us/step - loss: 0.6100\n"
     ]
    },
    {
     "name": "stderr",
     "output_type": "stream",
     "text": [
      "/Users/sammitchell/Desktop/Mekorot/Project/keras_model.py:93: RuntimeWarning: invalid value encountered in long_scalars\n",
      "  NPV = (tn) / (tn + fn)\n",
      "100%|██████████| 1/1 [00:00<00:00, 244.32it/s]\n"
     ]
    },
    {
     "name": "stdout",
     "output_type": "stream",
     "text": [
      "Epoch 1/3\n",
      "12825/12825 [==============================] - 5s 393us/step - loss: 0.6502\n",
      "Epoch 2/3\n",
      "12825/12825 [==============================] - 4s 280us/step - loss: 0.6183\n",
      "Epoch 3/3\n",
      "12825/12825 [==============================] - 4s 285us/step - loss: 0.6115\n"
     ]
    },
    {
     "name": "stderr",
     "output_type": "stream",
     "text": [
      "/Users/sammitchell/Desktop/Mekorot/Project/keras_model.py:93: RuntimeWarning: invalid value encountered in long_scalars\n",
      "  NPV = (tn) / (tn + fn)\n",
      "100%|██████████| 2/2 [00:00<00:00, 277.27it/s]\n"
     ]
    },
    {
     "name": "stdout",
     "output_type": "stream",
     "text": [
      "Epoch 1/3\n",
      "12851/12851 [==============================] - 6s 480us/step - loss: 0.6304\n",
      "Epoch 2/3\n",
      "12851/12851 [==============================] - 5s 370us/step - loss: 0.5940\n",
      "Epoch 3/3\n",
      "12851/12851 [==============================] - 5s 370us/step - loss: 0.5452\n"
     ]
    },
    {
     "name": "stderr",
     "output_type": "stream",
     "text": [
      "100%|██████████| 2/2 [00:00<00:00, 255.13it/s]\n"
     ]
    },
    {
     "name": "stdout",
     "output_type": "stream",
     "text": [
      "Epoch 1/3\n",
      "12848/12848 [==============================] - 6s 476us/step - loss: 0.6393\n",
      "Epoch 2/3\n",
      "12848/12848 [==============================] - 5s 366us/step - loss: 0.6058\n",
      "Epoch 3/3\n",
      "12848/12848 [==============================] - 5s 366us/step - loss: 0.5751\n"
     ]
    },
    {
     "name": "stderr",
     "output_type": "stream",
     "text": [
      "100%|██████████| 2/2 [00:00<00:00, 290.48it/s]\n"
     ]
    },
    {
     "name": "stdout",
     "output_type": "stream",
     "text": [
      "Epoch 1/3\n",
      "12844/12844 [==============================] - 6s 480us/step - loss: 0.6369\n",
      "Epoch 2/3\n",
      "12844/12844 [==============================] - 5s 412us/step - loss: 0.6086\n",
      "Epoch 3/3\n",
      "12844/12844 [==============================] - 5s 373us/step - loss: 0.5852\n"
     ]
    },
    {
     "name": "stderr",
     "output_type": "stream",
     "text": [
      "100%|██████████| 2/2 [00:00<00:00, 290.45it/s]\n"
     ]
    },
    {
     "name": "stdout",
     "output_type": "stream",
     "text": [
      "Epoch 1/3\n",
      "12841/12841 [==============================] - 6s 486us/step - loss: 0.6387\n",
      "Epoch 2/3\n",
      "12841/12841 [==============================] - 5s 372us/step - loss: 0.6098\n",
      "Epoch 3/3\n",
      "12841/12841 [==============================] - 5s 366us/step - loss: 0.5858\n"
     ]
    },
    {
     "name": "stderr",
     "output_type": "stream",
     "text": [
      "100%|██████████| 2/2 [00:00<00:00, 290.05it/s]\n"
     ]
    },
    {
     "name": "stdout",
     "output_type": "stream",
     "text": [
      "Epoch 1/3\n",
      "12838/12838 [==============================] - 6s 489us/step - loss: 0.6387\n",
      "Epoch 2/3\n",
      "12838/12838 [==============================] - 5s 368us/step - loss: 0.6093\n",
      "Epoch 3/3\n",
      "12838/12838 [==============================] - 5s 368us/step - loss: 0.5928\n"
     ]
    },
    {
     "name": "stderr",
     "output_type": "stream",
     "text": [
      "100%|██████████| 2/2 [00:00<00:00, 292.75it/s]\n"
     ]
    },
    {
     "name": "stdout",
     "output_type": "stream",
     "text": [
      "Epoch 1/3\n",
      "12835/12835 [==============================] - 6s 473us/step - loss: 0.6428\n",
      "Epoch 2/3\n",
      "12835/12835 [==============================] - 5s 365us/step - loss: 0.6084\n",
      "Epoch 3/3\n",
      "12835/12835 [==============================] - 5s 366us/step - loss: 0.5864\n"
     ]
    },
    {
     "name": "stderr",
     "output_type": "stream",
     "text": [
      "100%|██████████| 2/2 [00:00<00:00, 294.38it/s]\n"
     ]
    },
    {
     "name": "stdout",
     "output_type": "stream",
     "text": [
      "Epoch 1/3\n",
      "12832/12832 [==============================] - 6s 480us/step - loss: 0.6387\n",
      "Epoch 2/3\n",
      "12832/12832 [==============================] - 5s 366us/step - loss: 0.6057\n",
      "Epoch 3/3\n",
      "12832/12832 [==============================] - 5s 367us/step - loss: 0.5860\n"
     ]
    },
    {
     "name": "stderr",
     "output_type": "stream",
     "text": [
      "100%|██████████| 2/2 [00:00<00:00, 296.25it/s]\n"
     ]
    },
    {
     "name": "stdout",
     "output_type": "stream",
     "text": [
      "Epoch 1/3\n",
      "12828/12828 [==============================] - 6s 470us/step - loss: 0.6391\n",
      "Epoch 2/3\n",
      "12828/12828 [==============================] - 5s 371us/step - loss: 0.6124\n",
      "Epoch 3/3\n",
      "12828/12828 [==============================] - 5s 372us/step - loss: 0.6003\n"
     ]
    },
    {
     "name": "stderr",
     "output_type": "stream",
     "text": [
      "100%|██████████| 2/2 [00:00<00:00, 278.43it/s]\n"
     ]
    },
    {
     "name": "stdout",
     "output_type": "stream",
     "text": [
      "Epoch 1/3\n",
      "12825/12825 [==============================] - 6s 483us/step - loss: 0.6392\n",
      "Epoch 2/3\n",
      "12825/12825 [==============================] - 5s 367us/step - loss: 0.6077\n",
      "Epoch 3/3\n",
      "12825/12825 [==============================] - 5s 368us/step - loss: 0.5906\n"
     ]
    },
    {
     "name": "stderr",
     "output_type": "stream",
     "text": [
      "100%|██████████| 2/2 [00:00<00:00, 260.61it/s]\n"
     ]
    },
    {
     "name": "stdout",
     "output_type": "stream",
     "text": [
      "Epoch 1/3\n",
      "12822/12822 [==============================] - 6s 494us/step - loss: 0.6377\n",
      "Epoch 2/3\n",
      "12822/12822 [==============================] - 5s 391us/step - loss: 0.6132\n",
      "Epoch 3/3\n",
      "12822/12822 [==============================] - 5s 370us/step - loss: 0.6009\n"
     ]
    },
    {
     "name": "stderr",
     "output_type": "stream",
     "text": [
      "100%|██████████| 3/3 [00:00<00:00, 279.40it/s]\n"
     ]
    },
    {
     "name": "stdout",
     "output_type": "stream",
     "text": [
      "Epoch 1/3\n",
      "12848/12848 [==============================] - 7s 567us/step - loss: 0.6285\n",
      "Epoch 2/3\n",
      "12848/12848 [==============================] - 6s 452us/step - loss: 0.5896\n",
      "Epoch 3/3\n",
      "12848/12848 [==============================] - 6s 451us/step - loss: 0.5086\n"
     ]
    },
    {
     "name": "stderr",
     "output_type": "stream",
     "text": [
      "100%|██████████| 3/3 [00:00<00:00, 267.59it/s]\n"
     ]
    },
    {
     "name": "stdout",
     "output_type": "stream",
     "text": [
      "Epoch 1/3\n",
      "12844/12844 [==============================] - 7s 564us/step - loss: 0.6299\n",
      "Epoch 2/3\n",
      "12844/12844 [==============================] - 6s 461us/step - loss: 0.5924\n",
      "Epoch 3/3\n",
      "12844/12844 [==============================] - 6s 452us/step - loss: 0.5299\n"
     ]
    },
    {
     "name": "stderr",
     "output_type": "stream",
     "text": [
      "100%|██████████| 3/3 [00:00<00:00, 286.67it/s]\n"
     ]
    },
    {
     "name": "stdout",
     "output_type": "stream",
     "text": [
      "Epoch 1/3\n",
      "12841/12841 [==============================] - 7s 563us/step - loss: 0.6326\n",
      "Epoch 2/3\n",
      "12841/12841 [==============================] - 6s 457us/step - loss: 0.5864\n",
      "Epoch 3/3\n",
      "12841/12841 [==============================] - 6s 458us/step - loss: 0.5269\n"
     ]
    },
    {
     "name": "stderr",
     "output_type": "stream",
     "text": [
      "100%|██████████| 3/3 [00:00<00:00, 287.89it/s]\n"
     ]
    },
    {
     "name": "stdout",
     "output_type": "stream",
     "text": [
      "Epoch 1/3\n",
      "12838/12838 [==============================] - 7s 578us/step - loss: 0.6281\n",
      "Epoch 2/3\n",
      "12838/12838 [==============================] - 6s 457us/step - loss: 0.5982\n",
      "Epoch 3/3\n",
      "12838/12838 [==============================] - 6s 456us/step - loss: 0.5656\n"
     ]
    },
    {
     "name": "stderr",
     "output_type": "stream",
     "text": [
      "100%|██████████| 3/3 [00:00<00:00, 285.53it/s]\n"
     ]
    },
    {
     "name": "stdout",
     "output_type": "stream",
     "text": [
      "Epoch 1/3\n",
      "12835/12835 [==============================] - 7s 564us/step - loss: 0.6410\n",
      "Epoch 2/3\n",
      "12835/12835 [==============================] - 6s 457us/step - loss: 0.5943\n",
      "Epoch 3/3\n",
      "12835/12835 [==============================] - 6s 457us/step - loss: 0.5514\n"
     ]
    },
    {
     "name": "stderr",
     "output_type": "stream",
     "text": [
      "100%|██████████| 3/3 [00:00<00:00, 285.09it/s]\n"
     ]
    },
    {
     "name": "stdout",
     "output_type": "stream",
     "text": [
      "Epoch 1/3\n",
      "12832/12832 [==============================] - 8s 609us/step - loss: 0.6323\n",
      "Epoch 2/3\n",
      "12832/12832 [==============================] - 6s 463us/step - loss: 0.6058\n",
      "Epoch 3/3\n",
      "12832/12832 [==============================] - 6s 463us/step - loss: 0.5715\n"
     ]
    },
    {
     "name": "stderr",
     "output_type": "stream",
     "text": [
      "100%|██████████| 3/3 [00:00<00:00, 286.02it/s]\n"
     ]
    },
    {
     "name": "stdout",
     "output_type": "stream",
     "text": [
      "Epoch 1/3\n",
      "12828/12828 [==============================] - 7s 561us/step - loss: 0.6320\n",
      "Epoch 2/3\n",
      "12828/12828 [==============================] - 6s 455us/step - loss: 0.6013\n",
      "Epoch 3/3\n",
      "12828/12828 [==============================] - 6s 455us/step - loss: 0.5652\n"
     ]
    },
    {
     "name": "stderr",
     "output_type": "stream",
     "text": [
      "100%|██████████| 3/3 [00:00<00:00, 278.48it/s]\n"
     ]
    },
    {
     "name": "stdout",
     "output_type": "stream",
     "text": [
      "Epoch 1/3\n",
      "12825/12825 [==============================] - 7s 568us/step - loss: 0.6293\n",
      "Epoch 2/3\n",
      "12825/12825 [==============================] - 6s 478us/step - loss: 0.6051\n",
      "Epoch 3/3\n",
      "12825/12825 [==============================] - 6s 456us/step - loss: 0.5874\n"
     ]
    },
    {
     "name": "stderr",
     "output_type": "stream",
     "text": [
      "100%|██████████| 3/3 [00:00<00:00, 285.06it/s]\n"
     ]
    },
    {
     "name": "stdout",
     "output_type": "stream",
     "text": [
      "Epoch 1/3\n",
      "12822/12822 [==============================] - 8s 625us/step - loss: 0.6377\n",
      "Epoch 2/3\n",
      "12822/12822 [==============================] - 6s 472us/step - loss: 0.6112\n",
      "Epoch 3/3\n",
      "12822/12822 [==============================] - 6s 461us/step - loss: 0.5956\n"
     ]
    },
    {
     "name": "stderr",
     "output_type": "stream",
     "text": [
      "100%|██████████| 3/3 [00:00<00:00, 285.34it/s]\n"
     ]
    },
    {
     "name": "stdout",
     "output_type": "stream",
     "text": [
      "Epoch 1/3\n",
      "12819/12819 [==============================] - 7s 567us/step - loss: 0.6315\n",
      "Epoch 2/3\n",
      "12819/12819 [==============================] - 6s 456us/step - loss: 0.6028\n",
      "Epoch 3/3\n",
      "12819/12819 [==============================] - 6s 455us/step - loss: 0.5786\n"
     ]
    },
    {
     "name": "stderr",
     "output_type": "stream",
     "text": [
      "100%|██████████| 4/4 [00:00<00:00, 184.69it/s]\n"
     ]
    },
    {
     "name": "stdout",
     "output_type": "stream",
     "text": [
      "Epoch 1/3\n",
      "12844/12844 [==============================] - 8s 655us/step - loss: 0.6375\n",
      "Epoch 2/3\n",
      "12844/12844 [==============================] - 8s 584us/step - loss: 0.5879\n",
      "Epoch 3/3\n",
      "12844/12844 [==============================] - 7s 545us/step - loss: 0.4919\n"
     ]
    },
    {
     "name": "stderr",
     "output_type": "stream",
     "text": [
      "100%|██████████| 4/4 [00:00<00:00, 252.35it/s]\n"
     ]
    },
    {
     "name": "stdout",
     "output_type": "stream",
     "text": [
      "Epoch 1/3\n",
      "12841/12841 [==============================] - 8s 654us/step - loss: 0.6301\n",
      "Epoch 2/3\n",
      "12841/12841 [==============================] - 7s 541us/step - loss: 0.5752\n",
      "Epoch 3/3\n",
      "12841/12841 [==============================] - 7s 556us/step - loss: 0.4935\n"
     ]
    },
    {
     "name": "stderr",
     "output_type": "stream",
     "text": [
      "100%|██████████| 4/4 [00:00<00:00, 101.97it/s]\n"
     ]
    },
    {
     "name": "stdout",
     "output_type": "stream",
     "text": [
      "Epoch 1/3\n",
      "12838/12838 [==============================] - 22s 2ms/step - loss: 0.6276\n",
      "Epoch 2/3\n",
      "12838/12838 [==============================] - 43s 3ms/step - loss: 0.5929\n",
      "Epoch 3/3\n",
      "12838/12838 [==============================] - 50s 4ms/step - loss: 0.5283\n"
     ]
    },
    {
     "name": "stderr",
     "output_type": "stream",
     "text": [
      "100%|██████████| 4/4 [00:00<00:00, 69.48it/s]\n"
     ]
    },
    {
     "name": "stdout",
     "output_type": "stream",
     "text": [
      "Epoch 1/3\n",
      "12835/12835 [==============================] - 45s 3ms/step - loss: 0.6332\n",
      "Epoch 2/3\n",
      "12835/12835 [==============================] - 39s 3ms/step - loss: 0.5904\n",
      "Epoch 3/3\n",
      "12835/12835 [==============================] - 38s 3ms/step - loss: 0.5249\n"
     ]
    },
    {
     "name": "stderr",
     "output_type": "stream",
     "text": [
      "100%|██████████| 4/4 [00:00<00:00, 55.65it/s]\n"
     ]
    },
    {
     "name": "stdout",
     "output_type": "stream",
     "text": [
      "Epoch 1/3\n",
      "12832/12832 [==============================] - 40s 3ms/step - loss: 0.6276\n",
      "Epoch 2/3\n",
      "12832/12832 [==============================] - 34s 3ms/step - loss: 0.5902\n",
      "Epoch 3/3\n",
      "12832/12832 [==============================] - 30s 2ms/step - loss: 0.5278\n"
     ]
    },
    {
     "name": "stderr",
     "output_type": "stream",
     "text": [
      "100%|██████████| 4/4 [00:00<00:00, 106.80it/s]\n"
     ]
    },
    {
     "name": "stdout",
     "output_type": "stream",
     "text": [
      "Epoch 1/3\n",
      "12828/12828 [==============================] - 35s 3ms/step - loss: 0.6304\n",
      "Epoch 2/3\n",
      "12828/12828 [==============================] - 31s 2ms/step - loss: 0.5906\n",
      "Epoch 3/3\n",
      "12828/12828 [==============================] - 33s 3ms/step - loss: 0.5383\n"
     ]
    },
    {
     "name": "stderr",
     "output_type": "stream",
     "text": [
      "100%|██████████| 4/4 [00:00<00:00, 84.68it/s]\n"
     ]
    },
    {
     "name": "stdout",
     "output_type": "stream",
     "text": [
      "Epoch 1/3\n",
      "12825/12825 [==============================] - 37s 3ms/step - loss: 0.6296\n",
      "Epoch 2/3\n",
      "12825/12825 [==============================] - 31s 2ms/step - loss: 0.5958\n",
      "Epoch 3/3\n",
      "12825/12825 [==============================] - 31s 2ms/step - loss: 0.5519\n"
     ]
    },
    {
     "name": "stderr",
     "output_type": "stream",
     "text": [
      "100%|██████████| 4/4 [00:00<00:00, 94.69it/s]\n"
     ]
    },
    {
     "name": "stdout",
     "output_type": "stream",
     "text": [
      "Epoch 1/3\n",
      "12822/12822 [==============================] - 33s 3ms/step - loss: 0.6273\n",
      "Epoch 2/3\n",
      "12822/12822 [==============================] - 27s 2ms/step - loss: 0.6013\n",
      "Epoch 3/3\n",
      "12822/12822 [==============================] - 29s 2ms/step - loss: 0.5712\n"
     ]
    },
    {
     "name": "stderr",
     "output_type": "stream",
     "text": [
      "100%|██████████| 4/4 [00:00<00:00, 80.86it/s]\n"
     ]
    },
    {
     "name": "stdout",
     "output_type": "stream",
     "text": [
      "Epoch 1/3\n",
      "12819/12819 [==============================] - 31s 2ms/step - loss: 0.6301\n",
      "Epoch 2/3\n",
      "12819/12819 [==============================] - 25s 2ms/step - loss: 0.5946\n",
      "Epoch 3/3\n",
      "12819/12819 [==============================] - 26s 2ms/step - loss: 0.5527\n"
     ]
    },
    {
     "name": "stderr",
     "output_type": "stream",
     "text": [
      "100%|██████████| 4/4 [00:00<00:00, 120.84it/s]\n"
     ]
    },
    {
     "name": "stdout",
     "output_type": "stream",
     "text": [
      "Epoch 1/3\n",
      "12816/12816 [==============================] - 29s 2ms/step - loss: 0.6316\n",
      "Epoch 2/3\n",
      "12816/12816 [==============================] - 27s 2ms/step - loss: 0.6041\n",
      "Epoch 3/3\n",
      "12816/12816 [==============================] - 25s 2ms/step - loss: 0.5751\n"
     ]
    },
    {
     "name": "stderr",
     "output_type": "stream",
     "text": [
      "100%|██████████| 5/5 [00:00<00:00, 104.00it/s]\n"
     ]
    },
    {
     "name": "stdout",
     "output_type": "stream",
     "text": [
      "Epoch 1/3\n",
      "12841/12841 [==============================] - 38s 3ms/step - loss: 0.6261\n",
      "Epoch 2/3\n",
      "12841/12841 [==============================] - 34s 3ms/step - loss: 0.5690\n",
      "Epoch 3/3\n",
      "12841/12841 [==============================] - 34s 3ms/step - loss: 0.4766\n"
     ]
    },
    {
     "name": "stderr",
     "output_type": "stream",
     "text": [
      "100%|██████████| 5/5 [00:00<00:00, 61.95it/s]\n"
     ]
    },
    {
     "name": "stdout",
     "output_type": "stream",
     "text": [
      "Epoch 1/3\n",
      "12838/12838 [==============================] - 37s 3ms/step - loss: 0.6265\n",
      "Epoch 2/3\n",
      "12838/12838 [==============================] - 34s 3ms/step - loss: 0.5806\n",
      "Epoch 3/3\n",
      "12838/12838 [==============================] - 34s 3ms/step - loss: 0.5085\n"
     ]
    },
    {
     "name": "stderr",
     "output_type": "stream",
     "text": [
      "100%|██████████| 5/5 [00:00<00:00, 81.70it/s]\n"
     ]
    },
    {
     "name": "stdout",
     "output_type": "stream",
     "text": [
      "Epoch 1/3\n",
      "12835/12835 [==============================] - 40s 3ms/step - loss: 0.6308\n",
      "Epoch 2/3\n",
      "12835/12835 [==============================] - 32s 3ms/step - loss: 0.5826\n",
      "Epoch 3/3\n",
      "12835/12835 [==============================] - 32s 2ms/step - loss: 0.5081\n"
     ]
    },
    {
     "name": "stderr",
     "output_type": "stream",
     "text": [
      "100%|██████████| 5/5 [00:00<00:00, 91.92it/s]\n"
     ]
    },
    {
     "name": "stdout",
     "output_type": "stream",
     "text": [
      "Epoch 1/3\n",
      "12832/12832 [==============================] - 38s 3ms/step - loss: 0.6312\n",
      "Epoch 2/3\n",
      "12832/12832 [==============================] - 33s 3ms/step - loss: 0.5921\n",
      "Epoch 3/3\n",
      "12832/12832 [==============================] - 33s 3ms/step - loss: 0.5185\n"
     ]
    },
    {
     "name": "stderr",
     "output_type": "stream",
     "text": [
      "100%|██████████| 5/5 [00:00<00:00, 90.60it/s]\n"
     ]
    },
    {
     "name": "stdout",
     "output_type": "stream",
     "text": [
      "Epoch 1/3\n",
      "12828/12828 [==============================] - 38s 3ms/step - loss: 0.6314\n",
      "Epoch 2/3\n",
      "12828/12828 [==============================] - 34s 3ms/step - loss: 0.5767\n",
      "Epoch 3/3\n",
      "12828/12828 [==============================] - 35s 3ms/step - loss: 0.5110\n"
     ]
    },
    {
     "name": "stderr",
     "output_type": "stream",
     "text": [
      "100%|██████████| 5/5 [00:00<00:00, 101.68it/s]\n"
     ]
    },
    {
     "name": "stdout",
     "output_type": "stream",
     "text": [
      "Epoch 1/3\n",
      "12825/12825 [==============================] - 39s 3ms/step - loss: 0.6278\n",
      "Epoch 2/3\n",
      "12825/12825 [==============================] - 18s 1ms/step - loss: 0.5859\n",
      "Epoch 3/3\n",
      "12825/12825 [==============================] - 10s 813us/step - loss: 0.5307\n"
     ]
    },
    {
     "name": "stderr",
     "output_type": "stream",
     "text": [
      "100%|██████████| 5/5 [00:00<00:00, 207.30it/s]\n"
     ]
    },
    {
     "name": "stdout",
     "output_type": "stream",
     "text": [
      "Epoch 1/3\n",
      "12822/12822 [==============================] - 11s 822us/step - loss: 0.6303\n",
      "Epoch 2/3\n",
      "12822/12822 [==============================] - 9s 703us/step - loss: 0.5885\n",
      "Epoch 3/3\n",
      "12822/12822 [==============================] - 8s 655us/step - loss: 0.5302\n"
     ]
    },
    {
     "name": "stderr",
     "output_type": "stream",
     "text": [
      "100%|██████████| 5/5 [00:00<00:00, 192.00it/s]\n"
     ]
    },
    {
     "name": "stdout",
     "output_type": "stream",
     "text": [
      "Epoch 1/3\n",
      "12819/12819 [==============================] - 10s 814us/step - loss: 0.6289\n",
      "Epoch 2/3\n",
      "12819/12819 [==============================] - 9s 672us/step - loss: 0.5900\n",
      "Epoch 3/3\n",
      "12819/12819 [==============================] - 9s 669us/step - loss: 0.5356\n"
     ]
    },
    {
     "name": "stderr",
     "output_type": "stream",
     "text": [
      "100%|██████████| 5/5 [00:00<00:00, 217.69it/s]\n"
     ]
    },
    {
     "name": "stdout",
     "output_type": "stream",
     "text": [
      "Epoch 1/3\n",
      "12816/12816 [==============================] - 10s 774us/step - loss: 0.6295\n",
      "Epoch 2/3\n",
      "12816/12816 [==============================] - 8s 656us/step - loss: 0.6006\n",
      "Epoch 3/3\n",
      "12816/12816 [==============================] - 8s 650us/step - loss: 0.5624\n"
     ]
    },
    {
     "name": "stderr",
     "output_type": "stream",
     "text": [
      "100%|██████████| 5/5 [00:00<00:00, 217.36it/s]\n"
     ]
    },
    {
     "name": "stdout",
     "output_type": "stream",
     "text": [
      "Epoch 1/3\n",
      "12812/12812 [==============================] - 11s 820us/step - loss: 0.6350\n",
      "Epoch 2/3\n",
      "12812/12812 [==============================] - 8s 659us/step - loss: 0.6056\n",
      "Epoch 3/3\n",
      "12812/12812 [==============================] - 9s 665us/step - loss: 0.5818\n"
     ]
    },
    {
     "name": "stderr",
     "output_type": "stream",
     "text": [
      "100%|██████████| 6/6 [00:00<00:00, 188.54it/s]\n"
     ]
    },
    {
     "name": "stdout",
     "output_type": "stream",
     "text": [
      "Epoch 1/3\n",
      "12838/12838 [==============================] - 11s 868us/step - loss: 0.6261\n",
      "Epoch 2/3\n",
      "12838/12838 [==============================] - 10s 761us/step - loss: 0.5622\n",
      "Epoch 3/3\n",
      "12838/12838 [==============================] - 10s 762us/step - loss: 0.4723\n"
     ]
    },
    {
     "name": "stderr",
     "output_type": "stream",
     "text": [
      "100%|██████████| 6/6 [00:00<00:00, 195.62it/s]\n"
     ]
    },
    {
     "name": "stdout",
     "output_type": "stream",
     "text": [
      "Epoch 1/3\n",
      "12835/12835 [==============================] - 11s 850us/step - loss: 0.6259\n",
      "Epoch 2/3\n",
      "12835/12835 [==============================] - 9s 737us/step - loss: 0.5655\n",
      "Epoch 3/3\n",
      "12835/12835 [==============================] - 9s 740us/step - loss: 0.4814\n"
     ]
    },
    {
     "name": "stderr",
     "output_type": "stream",
     "text": [
      "100%|██████████| 6/6 [00:00<00:00, 210.60it/s]\n"
     ]
    },
    {
     "name": "stdout",
     "output_type": "stream",
     "text": [
      "Epoch 1/3\n",
      "12832/12832 [==============================] - 11s 855us/step - loss: 0.6303\n",
      "Epoch 2/3\n",
      "12832/12832 [==============================] - 10s 747us/step - loss: 0.5878\n",
      "Epoch 3/3\n",
      "12832/12832 [==============================] - 10s 787us/step - loss: 0.5045\n"
     ]
    },
    {
     "name": "stderr",
     "output_type": "stream",
     "text": [
      "100%|██████████| 6/6 [00:00<00:00, 190.01it/s]\n"
     ]
    },
    {
     "name": "stdout",
     "output_type": "stream",
     "text": [
      "Epoch 1/3\n",
      "12828/12828 [==============================] - 11s 845us/step - loss: 0.6264\n",
      "Epoch 2/3\n",
      "12828/12828 [==============================] - 9s 737us/step - loss: 0.5613\n",
      "Epoch 3/3\n",
      "12828/12828 [==============================] - 10s 760us/step - loss: 0.4951\n"
     ]
    },
    {
     "name": "stderr",
     "output_type": "stream",
     "text": [
      "100%|██████████| 6/6 [00:00<00:00, 218.29it/s]\n"
     ]
    },
    {
     "name": "stdout",
     "output_type": "stream",
     "text": [
      "Epoch 1/3\n",
      "12825/12825 [==============================] - 11s 856us/step - loss: 0.6239\n",
      "Epoch 2/3\n",
      "12825/12825 [==============================] - 9s 736us/step - loss: 0.5797\n",
      "Epoch 3/3\n",
      "12825/12825 [==============================] - 10s 751us/step - loss: 0.5205\n"
     ]
    },
    {
     "name": "stderr",
     "output_type": "stream",
     "text": [
      "100%|██████████| 6/6 [00:00<00:00, 201.09it/s]\n"
     ]
    },
    {
     "name": "stdout",
     "output_type": "stream",
     "text": [
      "Epoch 1/3\n",
      "12822/12822 [==============================] - 11s 873us/step - loss: 0.6349\n",
      "Epoch 2/3\n",
      "12822/12822 [==============================] - 10s 766us/step - loss: 0.5989\n",
      "Epoch 3/3\n",
      "12822/12822 [==============================] - 10s 760us/step - loss: 0.5458\n"
     ]
    },
    {
     "name": "stderr",
     "output_type": "stream",
     "text": [
      "100%|██████████| 6/6 [00:00<00:00, 186.59it/s]\n"
     ]
    },
    {
     "name": "stdout",
     "output_type": "stream",
     "text": [
      "Epoch 1/3\n",
      "12819/12819 [==============================] - 12s 911us/step - loss: 0.6247\n",
      "Epoch 2/3\n",
      "12819/12819 [==============================] - 10s 744us/step - loss: 0.5789\n",
      "Epoch 3/3\n",
      "12819/12819 [==============================] - 10s 750us/step - loss: 0.5323\n"
     ]
    },
    {
     "name": "stderr",
     "output_type": "stream",
     "text": [
      "100%|██████████| 6/6 [00:00<00:00, 213.02it/s]\n"
     ]
    },
    {
     "name": "stdout",
     "output_type": "stream",
     "text": [
      "Epoch 1/3\n",
      "12816/12816 [==============================] - 11s 853us/step - loss: 0.6367\n",
      "Epoch 2/3\n",
      "12816/12816 [==============================] - 9s 734us/step - loss: 0.6015\n",
      "Epoch 3/3\n",
      "12816/12816 [==============================] - 9s 738us/step - loss: 0.5503\n"
     ]
    },
    {
     "name": "stderr",
     "output_type": "stream",
     "text": [
      "100%|██████████| 6/6 [00:00<00:00, 206.44it/s]\n"
     ]
    },
    {
     "name": "stdout",
     "output_type": "stream",
     "text": [
      "Epoch 1/3\n",
      "12812/12812 [==============================] - 11s 845us/step - loss: 0.6252\n",
      "Epoch 2/3\n",
      "12812/12812 [==============================] - 9s 729us/step - loss: 0.5892\n",
      "Epoch 3/3\n",
      "12812/12812 [==============================] - 9s 738us/step - loss: 0.5515\n"
     ]
    },
    {
     "name": "stderr",
     "output_type": "stream",
     "text": [
      "100%|██████████| 6/6 [00:00<00:00, 207.70it/s]\n"
     ]
    },
    {
     "name": "stdout",
     "output_type": "stream",
     "text": [
      "Epoch 1/3\n",
      "12809/12809 [==============================] - 11s 883us/step - loss: 0.6276\n",
      "Epoch 2/3\n",
      "12809/12809 [==============================] - 10s 755us/step - loss: 0.5996\n",
      "Epoch 3/3\n",
      "12809/12809 [==============================] - 10s 807us/step - loss: 0.5679\n"
     ]
    },
    {
     "name": "stderr",
     "output_type": "stream",
     "text": [
      "100%|██████████| 7/7 [00:00<00:00, 211.83it/s]\n"
     ]
    },
    {
     "name": "stdout",
     "output_type": "stream",
     "text": [
      "Epoch 1/3\n",
      "12835/12835 [==============================] - 12s 963us/step - loss: 0.6284\n",
      "Epoch 2/3\n",
      "12835/12835 [==============================] - 11s 850us/step - loss: 0.5443\n",
      "Epoch 3/3\n",
      "12835/12835 [==============================] - 12s 906us/step - loss: 0.4708\n"
     ]
    },
    {
     "name": "stderr",
     "output_type": "stream",
     "text": [
      "100%|██████████| 7/7 [00:00<00:00, 199.17it/s]\n"
     ]
    },
    {
     "name": "stdout",
     "output_type": "stream",
     "text": [
      "Epoch 1/3\n",
      "12832/12832 [==============================] - 12s 944us/step - loss: 0.6242\n",
      "Epoch 2/3\n",
      "12832/12832 [==============================] - 11s 833us/step - loss: 0.5803\n",
      "Epoch 3/3\n",
      "12832/12832 [==============================] - 11s 870us/step - loss: 0.5019\n"
     ]
    },
    {
     "name": "stderr",
     "output_type": "stream",
     "text": [
      "100%|██████████| 7/7 [00:00<00:00, 195.89it/s]\n"
     ]
    },
    {
     "name": "stdout",
     "output_type": "stream",
     "text": [
      "Epoch 1/3\n",
      "12828/12828 [==============================] - 12s 940us/step - loss: 0.6188\n",
      "Epoch 2/3\n",
      "12828/12828 [==============================] - 11s 846us/step - loss: 0.5328\n",
      "Epoch 3/3\n",
      "12828/12828 [==============================] - 11s 880us/step - loss: 0.4872\n"
     ]
    },
    {
     "name": "stderr",
     "output_type": "stream",
     "text": [
      "100%|██████████| 7/7 [00:00<00:00, 192.20it/s]\n"
     ]
    },
    {
     "name": "stdout",
     "output_type": "stream",
     "text": [
      "Epoch 1/3\n",
      "12825/12825 [==============================] - 12s 935us/step - loss: 0.6242\n",
      "Epoch 2/3\n",
      "12825/12825 [==============================] - 11s 822us/step - loss: 0.5678\n",
      "Epoch 3/3\n",
      "12825/12825 [==============================] - 11s 825us/step - loss: 0.5042\n"
     ]
    },
    {
     "name": "stderr",
     "output_type": "stream",
     "text": [
      "100%|██████████| 7/7 [00:00<00:00, 202.59it/s]\n"
     ]
    },
    {
     "name": "stdout",
     "output_type": "stream",
     "text": [
      "Epoch 1/3\n",
      "12822/12822 [==============================] - 12s 936us/step - loss: 0.6330\n",
      "Epoch 2/3\n",
      "12822/12822 [==============================] - 11s 827us/step - loss: 0.5856\n",
      "Epoch 3/3\n",
      "12822/12822 [==============================] - 11s 838us/step - loss: 0.5242\n"
     ]
    },
    {
     "name": "stderr",
     "output_type": "stream",
     "text": [
      "100%|██████████| 7/7 [00:00<00:00, 203.18it/s]\n"
     ]
    },
    {
     "name": "stdout",
     "output_type": "stream",
     "text": [
      "Epoch 1/3\n",
      "12819/12819 [==============================] - 12s 939us/step - loss: 0.6233\n",
      "Epoch 2/3\n",
      "12819/12819 [==============================] - 11s 835us/step - loss: 0.5642\n",
      "Epoch 3/3\n",
      "12819/12819 [==============================] - 11s 824us/step - loss: 0.5101\n"
     ]
    },
    {
     "name": "stderr",
     "output_type": "stream",
     "text": [
      "100%|██████████| 7/7 [00:00<00:00, 177.74it/s]\n"
     ]
    },
    {
     "name": "stdout",
     "output_type": "stream",
     "text": [
      "Epoch 1/3\n",
      "12816/12816 [==============================] - 12s 931us/step - loss: 0.6301\n",
      "Epoch 2/3\n",
      "12816/12816 [==============================] - 11s 840us/step - loss: 0.5911\n",
      "Epoch 3/3\n",
      "12816/12816 [==============================] - 11s 830us/step - loss: 0.5440\n"
     ]
    },
    {
     "name": "stderr",
     "output_type": "stream",
     "text": [
      "100%|██████████| 7/7 [00:00<00:00, 210.76it/s]\n"
     ]
    },
    {
     "name": "stdout",
     "output_type": "stream",
     "text": [
      "Epoch 1/3\n",
      "12812/12812 [==============================] - 12s 948us/step - loss: 0.6267\n",
      "Epoch 2/3\n",
      "12812/12812 [==============================] - 11s 887us/step - loss: 0.5831\n",
      "Epoch 3/3\n",
      "12812/12812 [==============================] - 12s 899us/step - loss: 0.5391\n"
     ]
    },
    {
     "name": "stderr",
     "output_type": "stream",
     "text": [
      "100%|██████████| 7/7 [00:00<00:00, 198.68it/s]\n"
     ]
    },
    {
     "name": "stdout",
     "output_type": "stream",
     "text": [
      "Epoch 1/3\n",
      "12809/12809 [==============================] - 15s 1ms/step - loss: 0.6255\n",
      "Epoch 2/3\n",
      "12809/12809 [==============================] - 11s 873us/step - loss: 0.5828\n",
      "Epoch 3/3\n",
      "12809/12809 [==============================] - 11s 848us/step - loss: 0.5418\n"
     ]
    },
    {
     "name": "stderr",
     "output_type": "stream",
     "text": [
      "100%|██████████| 7/7 [00:00<00:00, 279.73it/s]\n"
     ]
    },
    {
     "name": "stdout",
     "output_type": "stream",
     "text": [
      "Epoch 1/3\n",
      "12806/12806 [==============================] - 13s 1ms/step - loss: 0.6334\n",
      "Epoch 2/3\n",
      "12806/12806 [==============================] - 11s 880us/step - loss: 0.5980\n",
      "Epoch 3/3\n",
      "12806/12806 [==============================] - 11s 876us/step - loss: 0.5535\n"
     ]
    },
    {
     "name": "stderr",
     "output_type": "stream",
     "text": [
      "100%|██████████| 8/8 [00:00<00:00, 158.40it/s]\n"
     ]
    },
    {
     "name": "stdout",
     "output_type": "stream",
     "text": [
      "Epoch 1/3\n",
      "12832/12832 [==============================] - 14s 1ms/step - loss: 0.6190\n",
      "Epoch 2/3\n",
      "12832/12832 [==============================] - 12s 953us/step - loss: 0.5532\n",
      "Epoch 3/3\n",
      "12832/12832 [==============================] - 12s 949us/step - loss: 0.4821\n"
     ]
    },
    {
     "name": "stderr",
     "output_type": "stream",
     "text": [
      "100%|██████████| 8/8 [00:00<00:00, 172.28it/s]\n"
     ]
    },
    {
     "name": "stdout",
     "output_type": "stream",
     "text": [
      "Epoch 1/3\n",
      "12828/12828 [==============================] - 14s 1ms/step - loss: 0.6168\n",
      "Epoch 2/3\n",
      "12828/12828 [==============================] - 12s 952us/step - loss: 0.5597\n",
      "Epoch 3/3\n",
      "12828/12828 [==============================] - 12s 973us/step - loss: 0.4863\n"
     ]
    },
    {
     "name": "stderr",
     "output_type": "stream",
     "text": [
      "100%|██████████| 8/8 [00:00<00:00, 182.65it/s]\n"
     ]
    },
    {
     "name": "stdout",
     "output_type": "stream",
     "text": [
      "Epoch 1/3\n",
      "12825/12825 [==============================] - 14s 1ms/step - loss: 0.6247\n",
      "Epoch 2/3\n",
      "12825/12825 [==============================] - 12s 972us/step - loss: 0.5792\n",
      "Epoch 3/3\n",
      "12825/12825 [==============================] - 12s 926us/step - loss: 0.5100\n"
     ]
    },
    {
     "name": "stderr",
     "output_type": "stream",
     "text": [
      "100%|██████████| 8/8 [00:00<00:00, 175.19it/s]\n"
     ]
    },
    {
     "name": "stdout",
     "output_type": "stream",
     "text": [
      "Epoch 1/3\n",
      "12822/12822 [==============================] - 14s 1ms/step - loss: 0.6271\n",
      "Epoch 2/3\n",
      "12822/12822 [==============================] - 12s 945us/step - loss: 0.5663\n",
      "Epoch 3/3\n",
      "12822/12822 [==============================] - 12s 906us/step - loss: 0.5115\n"
     ]
    },
    {
     "name": "stderr",
     "output_type": "stream",
     "text": [
      "100%|██████████| 8/8 [00:00<00:00, 171.40it/s]\n"
     ]
    },
    {
     "name": "stdout",
     "output_type": "stream",
     "text": [
      "Epoch 1/3\n",
      "12819/12819 [==============================] - 13s 1ms/step - loss: 0.6220\n",
      "Epoch 2/3\n",
      "12819/12819 [==============================] - 13s 1ms/step - loss: 0.5689\n",
      "Epoch 3/3\n",
      "12819/12819 [==============================] - 13s 981us/step - loss: 0.5156\n"
     ]
    },
    {
     "name": "stderr",
     "output_type": "stream",
     "text": [
      "100%|██████████| 8/8 [00:00<00:00, 122.09it/s]\n"
     ]
    },
    {
     "name": "stdout",
     "output_type": "stream",
     "text": [
      "Epoch 1/3\n",
      "12816/12816 [==============================] - 14s 1ms/step - loss: 0.6242\n",
      "Epoch 2/3\n",
      "12816/12816 [==============================] - 12s 921us/step - loss: 0.5799\n",
      "Epoch 3/3\n",
      "12816/12816 [==============================] - 12s 946us/step - loss: 0.5160\n"
     ]
    },
    {
     "name": "stderr",
     "output_type": "stream",
     "text": [
      "100%|██████████| 8/8 [00:00<00:00, 170.59it/s]\n"
     ]
    },
    {
     "name": "stdout",
     "output_type": "stream",
     "text": [
      "Epoch 1/3\n",
      "12812/12812 [==============================] - 13s 1ms/step - loss: 0.6304\n",
      "Epoch 2/3\n",
      "12812/12812 [==============================] - 12s 918us/step - loss: 0.5997\n",
      "Epoch 3/3\n",
      "12812/12812 [==============================] - 12s 915us/step - loss: 0.5595\n"
     ]
    },
    {
     "name": "stderr",
     "output_type": "stream",
     "text": [
      "100%|██████████| 8/8 [00:00<00:00, 169.56it/s]\n"
     ]
    },
    {
     "name": "stdout",
     "output_type": "stream",
     "text": [
      "Epoch 1/3\n",
      "12809/12809 [==============================] - 14s 1ms/step - loss: 0.6290\n",
      "Epoch 2/3\n",
      "12809/12809 [==============================] - 12s 915us/step - loss: 0.6017\n",
      "Epoch 3/3\n",
      "12809/12809 [==============================] - 12s 903us/step - loss: 0.5586\n"
     ]
    },
    {
     "name": "stderr",
     "output_type": "stream",
     "text": [
      "100%|██████████| 8/8 [00:00<00:00, 173.80it/s]\n"
     ]
    },
    {
     "name": "stdout",
     "output_type": "stream",
     "text": [
      "Epoch 1/3\n",
      "12806/12806 [==============================] - 13s 1ms/step - loss: 0.6230\n",
      "Epoch 2/3\n",
      "12806/12806 [==============================] - 12s 915us/step - loss: 0.5923\n",
      "Epoch 3/3\n",
      "12806/12806 [==============================] - 12s 905us/step - loss: 0.5513\n"
     ]
    },
    {
     "name": "stderr",
     "output_type": "stream",
     "text": [
      "100%|██████████| 8/8 [00:00<00:00, 176.58it/s]\n"
     ]
    },
    {
     "name": "stdout",
     "output_type": "stream",
     "text": [
      "Epoch 1/3\n",
      "12803/12803 [==============================] - 13s 1ms/step - loss: 0.6313\n",
      "Epoch 2/3\n",
      "12803/12803 [==============================] - 12s 899us/step - loss: 0.6006\n",
      "Epoch 3/3\n",
      "12803/12803 [==============================] - 12s 910us/step - loss: 0.5672\n"
     ]
    },
    {
     "name": "stderr",
     "output_type": "stream",
     "text": [
      "100%|██████████| 9/9 [00:00<00:00, 275.37it/s]\n"
     ]
    },
    {
     "name": "stdout",
     "output_type": "stream",
     "text": [
      "Epoch 1/3\n",
      "12828/12828 [==============================] - 15s 1ms/step - loss: 0.6232\n",
      "Epoch 2/3\n",
      "12828/12828 [==============================] - 13s 996us/step - loss: 0.5467\n",
      "Epoch 3/3\n",
      "12828/12828 [==============================] - 13s 989us/step - loss: 0.4755\n"
     ]
    },
    {
     "name": "stderr",
     "output_type": "stream",
     "text": [
      "100%|██████████| 9/9 [00:00<00:00, 263.38it/s]\n"
     ]
    },
    {
     "name": "stdout",
     "output_type": "stream",
     "text": [
      "Epoch 1/3\n",
      "12825/12825 [==============================] - 15s 1ms/step - loss: 0.6284\n",
      "Epoch 2/3\n",
      "12825/12825 [==============================] - 14s 1ms/step - loss: 0.5851\n",
      "Epoch 3/3\n",
      "12825/12825 [==============================] - 13s 992us/step - loss: 0.5126\n"
     ]
    },
    {
     "name": "stderr",
     "output_type": "stream",
     "text": [
      "100%|██████████| 9/9 [00:00<00:00, 251.09it/s]\n"
     ]
    },
    {
     "name": "stdout",
     "output_type": "stream",
     "text": [
      "Epoch 1/3\n",
      "12822/12822 [==============================] - 15s 1ms/step - loss: 0.6163\n",
      "Epoch 2/3\n",
      "12822/12822 [==============================] - 14s 1ms/step - loss: 0.5276\n",
      "Epoch 3/3\n",
      "12822/12822 [==============================] - 14s 1ms/step - loss: 0.4928\n"
     ]
    },
    {
     "name": "stderr",
     "output_type": "stream",
     "text": [
      "100%|██████████| 9/9 [00:00<00:00, 235.29it/s]\n"
     ]
    },
    {
     "name": "stdout",
     "output_type": "stream",
     "text": [
      "Epoch 1/3\n",
      "12819/12819 [==============================] - 14s 1ms/step - loss: 0.6260\n",
      "Epoch 2/3\n",
      "12819/12819 [==============================] - 13s 991us/step - loss: 0.5470\n",
      "Epoch 3/3\n",
      "12819/12819 [==============================] - 12s 973us/step - loss: 0.5015\n"
     ]
    },
    {
     "name": "stderr",
     "output_type": "stream",
     "text": [
      "100%|██████████| 9/9 [00:00<00:00, 283.84it/s]\n"
     ]
    },
    {
     "name": "stdout",
     "output_type": "stream",
     "text": [
      "Epoch 1/3\n",
      "12816/12816 [==============================] - 14s 1ms/step - loss: 0.6167\n",
      "Epoch 2/3\n",
      "12816/12816 [==============================] - 13s 1ms/step - loss: 0.5636\n",
      "Epoch 3/3\n",
      "12816/12816 [==============================] - 13s 990us/step - loss: 0.5130\n"
     ]
    },
    {
     "name": "stderr",
     "output_type": "stream",
     "text": [
      "100%|██████████| 9/9 [00:00<00:00, 232.83it/s]\n"
     ]
    },
    {
     "name": "stdout",
     "output_type": "stream",
     "text": [
      "Epoch 1/3\n",
      "12812/12812 [==============================] - 14s 1ms/step - loss: 0.6309\n",
      "Epoch 2/3\n",
      "12812/12812 [==============================] - 13s 1ms/step - loss: 0.5820\n",
      "Epoch 3/3\n",
      "12812/12812 [==============================] - 13s 1ms/step - loss: 0.5314\n"
     ]
    },
    {
     "name": "stderr",
     "output_type": "stream",
     "text": [
      "100%|██████████| 9/9 [00:00<00:00, 229.44it/s]\n"
     ]
    },
    {
     "name": "stdout",
     "output_type": "stream",
     "text": [
      "Epoch 1/3\n",
      "12809/12809 [==============================] - 16s 1ms/step - loss: 0.6220\n",
      "Epoch 2/3\n",
      "12809/12809 [==============================] - 13s 1ms/step - loss: 0.5664\n",
      "Epoch 3/3\n",
      "12809/12809 [==============================] - 14s 1ms/step - loss: 0.5264\n"
     ]
    },
    {
     "name": "stderr",
     "output_type": "stream",
     "text": [
      "100%|██████████| 9/9 [00:00<00:00, 230.34it/s]\n"
     ]
    },
    {
     "name": "stdout",
     "output_type": "stream",
     "text": [
      "Epoch 1/3\n",
      "12806/12806 [==============================] - 14s 1ms/step - loss: 0.6280\n",
      "Epoch 2/3\n",
      "12806/12806 [==============================] - 14s 1ms/step - loss: 0.5972\n",
      "Epoch 3/3\n",
      "12806/12806 [==============================] - 13s 1ms/step - loss: 0.5571\n"
     ]
    },
    {
     "name": "stderr",
     "output_type": "stream",
     "text": [
      "100%|██████████| 9/9 [00:00<00:00, 300.41it/s]\n"
     ]
    },
    {
     "name": "stdout",
     "output_type": "stream",
     "text": [
      "Epoch 1/3\n",
      "12803/12803 [==============================] - 14s 1ms/step - loss: 0.6309\n",
      "Epoch 2/3\n",
      "12803/12803 [==============================] - 13s 1ms/step - loss: 0.5844\n",
      "Epoch 3/3\n",
      "12803/12803 [==============================] - 13s 996us/step - loss: 0.5431\n"
     ]
    },
    {
     "name": "stderr",
     "output_type": "stream",
     "text": [
      "100%|██████████| 9/9 [00:00<00:00, 227.55it/s]\n"
     ]
    },
    {
     "name": "stdout",
     "output_type": "stream",
     "text": [
      "Epoch 1/3\n",
      "12800/12800 [==============================] - 17s 1ms/step - loss: 0.6300\n",
      "Epoch 2/3\n",
      "12800/12800 [==============================] - 13s 1ms/step - loss: 0.5908\n",
      "Epoch 3/3\n",
      "12800/12800 [==============================] - 13s 1ms/step - loss: 0.5461\n"
     ]
    },
    {
     "name": "stderr",
     "output_type": "stream",
     "text": [
      "100%|██████████| 10/10 [00:00<00:00, 248.71it/s]\n"
     ]
    },
    {
     "name": "stdout",
     "output_type": "stream",
     "text": [
      "Epoch 1/3\n",
      "12825/12825 [==============================] - 15s 1ms/step - loss: 0.6206\n",
      "Epoch 2/3\n",
      "12825/12825 [==============================] - 15s 1ms/step - loss: 0.5305\n",
      "Epoch 3/3\n",
      "12825/12825 [==============================] - 14s 1ms/step - loss: 0.4749\n"
     ]
    },
    {
     "name": "stderr",
     "output_type": "stream",
     "text": [
      "100%|██████████| 10/10 [00:00<00:00, 250.57it/s]\n"
     ]
    },
    {
     "name": "stdout",
     "output_type": "stream",
     "text": [
      "Epoch 1/3\n",
      "12822/12822 [==============================] - 15s 1ms/step - loss: 0.6199\n",
      "Epoch 2/3\n",
      "12822/12822 [==============================] - 14s 1ms/step - loss: 0.5465\n",
      "Epoch 3/3\n",
      "12822/12822 [==============================] - 14s 1ms/step - loss: 0.4986\n"
     ]
    },
    {
     "name": "stderr",
     "output_type": "stream",
     "text": [
      "100%|██████████| 10/10 [00:00<00:00, 252.90it/s]\n"
     ]
    },
    {
     "name": "stdout",
     "output_type": "stream",
     "text": [
      "Epoch 1/3\n",
      "12819/12819 [==============================] - 15s 1ms/step - loss: 0.6288\n",
      "Epoch 2/3\n",
      "12819/12819 [==============================] - 14s 1ms/step - loss: 0.5863\n",
      "Epoch 3/3\n",
      "12819/12819 [==============================] - 14s 1ms/step - loss: 0.5148\n"
     ]
    },
    {
     "name": "stderr",
     "output_type": "stream",
     "text": [
      "100%|██████████| 10/10 [00:00<00:00, 253.42it/s]\n"
     ]
    },
    {
     "name": "stdout",
     "output_type": "stream",
     "text": [
      "Epoch 1/3\n",
      "12816/12816 [==============================] - 15s 1ms/step - loss: 0.6278\n",
      "Epoch 2/3\n",
      "12816/12816 [==============================] - 14s 1ms/step - loss: 0.5639\n",
      "Epoch 3/3\n",
      "12816/12816 [==============================] - 14s 1ms/step - loss: 0.5112\n"
     ]
    },
    {
     "name": "stderr",
     "output_type": "stream",
     "text": [
      "100%|██████████| 10/10 [00:00<00:00, 195.51it/s]\n"
     ]
    },
    {
     "name": "stdout",
     "output_type": "stream",
     "text": [
      "Epoch 1/3\n",
      "12812/12812 [==============================] - 15s 1ms/step - loss: 0.6219\n",
      "Epoch 2/3\n",
      "12812/12812 [==============================] - 14s 1ms/step - loss: 0.5543\n",
      "Epoch 3/3\n",
      "12812/12812 [==============================] - 14s 1ms/step - loss: 0.5166\n"
     ]
    },
    {
     "name": "stderr",
     "output_type": "stream",
     "text": [
      "100%|██████████| 10/10 [00:00<00:00, 244.44it/s]\n"
     ]
    },
    {
     "name": "stdout",
     "output_type": "stream",
     "text": [
      "Epoch 1/3\n",
      "12809/12809 [==============================] - 16s 1ms/step - loss: 0.6327\n",
      "Epoch 2/3\n",
      "12809/12809 [==============================] - 14s 1ms/step - loss: 0.5813\n",
      "Epoch 3/3\n",
      "12809/12809 [==============================] - 14s 1ms/step - loss: 0.5277\n"
     ]
    },
    {
     "name": "stderr",
     "output_type": "stream",
     "text": [
      "100%|██████████| 10/10 [00:00<00:00, 189.76it/s]\n"
     ]
    },
    {
     "name": "stdout",
     "output_type": "stream",
     "text": [
      "Epoch 1/3\n",
      "12806/12806 [==============================] - 15s 1ms/step - loss: 0.6268\n",
      "Epoch 2/3\n",
      "12806/12806 [==============================] - 14s 1ms/step - loss: 0.5891\n",
      "Epoch 3/3\n",
      "12806/12806 [==============================] - 14s 1ms/step - loss: 0.5412\n"
     ]
    },
    {
     "name": "stderr",
     "output_type": "stream",
     "text": [
      "100%|██████████| 10/10 [00:00<00:00, 227.95it/s]\n"
     ]
    },
    {
     "name": "stdout",
     "output_type": "stream",
     "text": [
      "Epoch 1/3\n",
      "12803/12803 [==============================] - 15s 1ms/step - loss: 0.6257\n",
      "Epoch 2/3\n",
      "12803/12803 [==============================] - 14s 1ms/step - loss: 0.5833\n",
      "Epoch 3/3\n",
      "12803/12803 [==============================] - 14s 1ms/step - loss: 0.5391\n"
     ]
    },
    {
     "name": "stderr",
     "output_type": "stream",
     "text": [
      "100%|██████████| 10/10 [00:00<00:00, 314.91it/s]\n"
     ]
    },
    {
     "name": "stdout",
     "output_type": "stream",
     "text": [
      "Epoch 1/3\n",
      "12800/12800 [==============================] - 15s 1ms/step - loss: 0.6219\n",
      "Epoch 2/3\n",
      "12800/12800 [==============================] - 14s 1ms/step - loss: 0.5837\n",
      "Epoch 3/3\n",
      "12800/12800 [==============================] - 14s 1ms/step - loss: 0.5379\n"
     ]
    },
    {
     "name": "stderr",
     "output_type": "stream",
     "text": [
      "100%|██████████| 10/10 [00:00<00:00, 185.31it/s]\n"
     ]
    },
    {
     "name": "stdout",
     "output_type": "stream",
     "text": [
      "Epoch 1/3\n",
      "12796/12796 [==============================] - 15s 1ms/step - loss: 0.6256\n",
      "Epoch 2/3\n",
      "12796/12796 [==============================] - 14s 1ms/step - loss: 0.6002\n",
      "Epoch 3/3\n",
      "12796/12796 [==============================] - 14s 1ms/step - loss: 0.5592\n"
     ]
    }
   ],
   "source": [
    "results_list = []\n",
    "for i in range (1,11):\n",
    "    for j in range (1, 11):\n",
    "        X, Y = km.create_join_x_y_arr(reactor_list, n_steps_in=i, n_steps_out=j, binary=True)\n",
    "        X_normalize, Y_normalize, scalers = km.normalize(X, Y)\n",
    "        Xtrain, Xtest, ytrain, ytest = train_test_split(X_normalize, Y_normalize, test_size=0.20, random_state=42)\n",
    "        model = Sequential()\n",
    "        model.add(LSTM(units=50, activation='relu', name='first_lstm', recurrent_dropout=0.1, input_shape=(Xtrain.shape[1], Xtrain.shape[2])))\n",
    "        model.add(Dense(25, activation='relu'))\n",
    "        model.add(Dense(1, activation=\"sigmoid\"))\n",
    "        model.compile(optimizer=Adam(learning_rate=0.0001), loss='binary_crossentropy')\n",
    "        model.fit(Xtrain, ytrain, epochs=3, batch_size=10, shuffle=True)\n",
    "        Yhat, Ytest = km.evaluate(model, Xtest, ytest, scalers, binary=True)\n",
    "        y_predict = np.rint(Yhat).astype(int)\n",
    "        y_real = Ytest.astype(int)\n",
    "        results_list.append(km.results(y_real, y_predict))\n",
    "    \n"
   ]
  },
  {
   "cell_type": "code",
   "execution_count": 22,
   "metadata": {},
   "outputs": [],
   "source": [
    "(unique, counts) = np.unique(ytrain, return_counts=True)\n",
    "frequencies = np.asarray((unique, counts)).T"
   ]
  },
  {
   "cell_type": "code",
   "execution_count": 23,
   "metadata": {},
   "outputs": [
    {
     "data": {
      "text/plain": [
       "array([[0.000e+00, 4.161e+03],\n",
       "       [1.000e+00, 8.635e+03]])"
      ]
     },
     "execution_count": 23,
     "metadata": {},
     "output_type": "execute_result"
    }
   ],
   "source": [
    "frequencies"
   ]
  },
  {
   "cell_type": "code",
   "execution_count": 30,
   "metadata": {},
   "outputs": [],
   "source": [
    "#plot graph of a metric result for all n_step_in and n_step_out values\n",
    "x=range(1,11)\n",
    "label = ['accuracy', 'TNR', 'NPV', 'f1']\n",
    "for z in range(4):\n",
    "    for i in range(10):\n",
    "        y=[]\n",
    "        for j in range (10):\n",
    "            y.append(results_list[i*10:i*10+10][j][z])\n",
    "        plt.plot(x, y, label=f'n_steps_in={i+1}')\n",
    "    plt.legend(loc='center left', bbox_to_anchor=(1, 0.5))\n",
    "    plt.xlabel(\"n_steps_out\")\n",
    "    plt.ylabel(label[z])\n",
    "    plt.title(\"Simple LSTM, 3 layers (50,25,1),\\n name='first_lstm', recurrent_dropout=0.1 \\n optimizer='adam', loss='binary_crossentropy' \")\n",
    "    plt.savefig(f\"figures/Simple LSTM {label[z]}.png\", bbox_inches=\"tight\")\n",
    "    plt.close()"
   ]
  },
  {
   "cell_type": "code",
   "execution_count": 25,
   "metadata": {},
   "outputs": [
    {
     "ename": "IndexError",
     "evalue": "tuple index out of range",
     "output_type": "error",
     "traceback": [
      "\u001b[0;31m---------------------------------------------------------------------------\u001b[0m",
      "\u001b[0;31mIndexError\u001b[0m                                Traceback (most recent call last)",
      "\u001b[0;32m<ipython-input-25-e66b00a0b0f8>\u001b[0m in \u001b[0;36m<module>\u001b[0;34m\u001b[0m\n\u001b[1;32m      6\u001b[0m         \u001b[0my\u001b[0m\u001b[0;34m=\u001b[0m\u001b[0;34m[\u001b[0m\u001b[0;34m]\u001b[0m\u001b[0;34m\u001b[0m\u001b[0;34m\u001b[0m\u001b[0m\n\u001b[1;32m      7\u001b[0m         \u001b[0;32mfor\u001b[0m \u001b[0mj\u001b[0m \u001b[0;32min\u001b[0m \u001b[0mrange\u001b[0m \u001b[0;34m(\u001b[0m\u001b[0;36m10\u001b[0m\u001b[0;34m)\u001b[0m\u001b[0;34m:\u001b[0m\u001b[0;34m\u001b[0m\u001b[0;34m\u001b[0m\u001b[0m\n\u001b[0;32m----> 8\u001b[0;31m             \u001b[0my\u001b[0m\u001b[0;34m.\u001b[0m\u001b[0mappend\u001b[0m\u001b[0;34m(\u001b[0m\u001b[0mresults_list\u001b[0m\u001b[0;34m[\u001b[0m\u001b[0mz\u001b[0m\u001b[0;34m*\u001b[0m\u001b[0;36m10\u001b[0m\u001b[0;34m:\u001b[0m\u001b[0mz\u001b[0m\u001b[0;34m*\u001b[0m\u001b[0;36m10\u001b[0m\u001b[0;34m+\u001b[0m\u001b[0;36m10\u001b[0m\u001b[0;34m]\u001b[0m\u001b[0;34m[\u001b[0m\u001b[0mj\u001b[0m\u001b[0;34m]\u001b[0m\u001b[0;34m[\u001b[0m\u001b[0mi\u001b[0m\u001b[0;34m+\u001b[0m\u001b[0;36m1\u001b[0m\u001b[0;34m]\u001b[0m\u001b[0;34m)\u001b[0m\u001b[0;34m\u001b[0m\u001b[0;34m\u001b[0m\u001b[0m\n\u001b[0m\u001b[1;32m      9\u001b[0m         \u001b[0mplt\u001b[0m\u001b[0;34m.\u001b[0m\u001b[0mplot\u001b[0m\u001b[0;34m(\u001b[0m\u001b[0mx\u001b[0m\u001b[0;34m,\u001b[0m \u001b[0my\u001b[0m\u001b[0;34m,\u001b[0m \u001b[0mlabel\u001b[0m\u001b[0;34m=\u001b[0m\u001b[0mlabel\u001b[0m\u001b[0;34m[\u001b[0m\u001b[0mi\u001b[0m\u001b[0;34m]\u001b[0m\u001b[0;34m)\u001b[0m\u001b[0;34m\u001b[0m\u001b[0;34m\u001b[0m\u001b[0m\n\u001b[1;32m     10\u001b[0m     \u001b[0mplt\u001b[0m\u001b[0;34m.\u001b[0m\u001b[0mlegend\u001b[0m\u001b[0;34m(\u001b[0m\u001b[0mloc\u001b[0m\u001b[0;34m=\u001b[0m\u001b[0;34m'center left'\u001b[0m\u001b[0;34m,\u001b[0m \u001b[0mbbox_to_anchor\u001b[0m\u001b[0;34m=\u001b[0m\u001b[0;34m(\u001b[0m\u001b[0;36m1\u001b[0m\u001b[0;34m,\u001b[0m \u001b[0;36m0.5\u001b[0m\u001b[0;34m)\u001b[0m\u001b[0;34m)\u001b[0m\u001b[0;34m\u001b[0m\u001b[0;34m\u001b[0m\u001b[0m\n",
      "\u001b[0;31mIndexError\u001b[0m: tuple index out of range"
     ]
    },
    {
     "data": {
      "image/png": "[encoded data removed]",
      "text/plain": [
       "<Figure size 432x288 with 1 Axes>"
      ]
     },
     "metadata": {
      "needs_background": "light"
     },
     "output_type": "display_data"
    }
   ],
   "source": [
    "#plot graph of all metric results for a n_step_in value\n",
    "x=range(1,11)\n",
    "label = ['accuracy', 'TNR', 'NPV', 'f1']\n",
    "for z in range(10):\n",
    "    for i in range(4):\n",
    "        y=[]\n",
    "        for j in range (10):\n",
    "            y.append(results_list[z*10:z*10+10][j][i+1])\n",
    "        plt.plot(x, y, label=label[i])\n",
    "    plt.legend(loc='center left', bbox_to_anchor=(1, 0.5))\n",
    "    plt.xlabel(\"n_steps_out\")\n",
    "    plt.ylabel('Metric value')\n",
    "    plt.title(f\"Simple LSTM, 3 layers (50,25,1),\\n name='first_lstm', recurrent_dropout=0.1 \\n optimizer='adam', loss='binary_crossentropy' \\n n_steps_in={z+1} \")\n",
    "    plt.savefig(f\"figures/Simple LSTM n_steps_in={z+1}.png\", bbox_inches=\"tight\")\n",
    "    plt.close()"
   ]
  },
  {
   "cell_type": "code",
   "execution_count": null,
   "metadata": {},
   "outputs": [],
   "source": []
  }
 ],
 "metadata": {
  "kernelspec": {
   "display_name": "TF",
   "language": "python",
   "name": "tf"
  },
  "language_info": {
   "codemirror_mode": {
    "name": "ipython",
    "version": 3
   },
   "file_extension": ".py",
   "mimetype": "text/x-python",
   "name": "python",
   "nbconvert_exporter": "python",
   "pygments_lexer": "ipython3",
   "version": "3.7.9"
  }
 },
 "nbformat": 4,
 "nbformat_minor": 4
}

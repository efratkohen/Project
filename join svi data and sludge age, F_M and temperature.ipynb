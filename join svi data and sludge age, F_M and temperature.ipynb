{
 "cells": [
  {
   "cell_type": "code",
   "execution_count": 1,
   "metadata": {},
   "outputs": [
    {
     "name": "stderr",
     "output_type": "stream",
     "text": [
      "Using TensorFlow backend.\n"
     ]
    }
   ],
   "source": [
    "import clean_data_svi as cds\n",
    "import supervised as sup\n",
    "import pathlib\n",
    "import keras_model as km\n",
    "import pandas as pd\n",
    "import numpy as np\n",
    "import matplotlib.pyplot as plt\n",
    "from math import sqrt\n",
    "from datetime import timedelta, datetime\n",
    "from sklearn.model_selection import train_test_split\n",
    "from sklearn.preprocessing import MinMaxScaler\n",
    "from sklearn.metrics import mean_squared_error\n",
    "from tqdm import tqdm\n",
    "import tensorflow as tf\n",
    "from tensorflow import keras\n",
    "from keras.models import Sequential\n",
    "from keras.layers import Activation, Dense, LSTM\n",
    "from keras.optimizers import Adam\n",
    "from keras.metrics import categorical_crossentropy\n",
    "from sklearn import preprocessing\n",
    "from sklearn.decomposition import PCA\n",
    "from sklearn.metrics import mean_squared_error, median_absolute_error, roc_curve, auc, f1_score, precision_recall_curve, r2_score\n",
    "from sklearn.metrics import confusion_matrix\n"
   ]
  },
  {
   "cell_type": "code",
   "execution_count": 2,
   "metadata": {},
   "outputs": [],
   "source": [
    "SVI_list = []\n",
    "for i in range(4):\n",
    "    df = pd.read_csv(f\"clean_tables/svi_{i+1}.csv\", index_col=\"date\")\n",
    "    df = df.drop(columns=['Settling_velocity', 'SV_label', 'SVI_label'])\n",
    "    df.index = pd.to_datetime(df.index, dayfirst=True)\n",
    "    SVI_list.append(df)"
   ]
  },
  {
   "cell_type": "code",
   "execution_count": 3,
   "metadata": {},
   "outputs": [],
   "source": [
    "temp_df = pd.read_csv(\"clean_tables/temperatur.csv\", index_col=\"date\")\n",
    "temp_df.index = pd.to_datetime(temp_df.index, dayfirst=True)\n",
    "sludge_age_df = pd.read_csv(\"clean_tables/sludge_age_f_m.csv\", index_col=\"date\")\n",
    "sludge_age_df.index = pd.to_datetime(sludge_age_df.index, dayfirst=True)"
   ]
  },
  {
   "cell_type": "code",
   "execution_count": 4,
   "metadata": {},
   "outputs": [],
   "source": [
    "reactor_list = []\n",
    "for i in range(4):\n",
    "    join = pd.concat([SVI_list[i], temp_df], axis=1)\n",
    "    if i <=1:\n",
    "        join = pd.concat([join, sludge_age_df.iloc[:, np.r_[0, 2]]], axis=1)\n",
    "    else:\n",
    "        join = pd.concat([join, sludge_age_df.iloc[:, np.r_[1, 3]]], axis=1)\n",
    "    reactor_list.append(join)"
   ]
  },
  {
   "cell_type": "code",
   "execution_count": 5,
   "metadata": {},
   "outputs": [
    {
     "data": {
      "text/html": [
       "<div>\n",
       "<style scoped>\n",
       "    .dataframe tbody tr th:only-of-type {\n",
       "        vertical-align: middle;\n",
       "    }\n",
       "\n",
       "    .dataframe tbody tr th {\n",
       "        vertical-align: top;\n",
       "    }\n",
       "\n",
       "    .dataframe thead th {\n",
       "        text-align: right;\n",
       "    }\n",
       "</style>\n",
       "<table border=\"1\" class=\"dataframe\">\n",
       "  <thead>\n",
       "    <tr style=\"text-align: right;\">\n",
       "      <th></th>\n",
       "      <th>SVI</th>\n",
       "      <th>Temperature</th>\n",
       "      <th>F_M - B</th>\n",
       "      <th>Sludge Age - B</th>\n",
       "    </tr>\n",
       "    <tr>\n",
       "      <th>date</th>\n",
       "      <th></th>\n",
       "      <th></th>\n",
       "      <th></th>\n",
       "      <th></th>\n",
       "    </tr>\n",
       "  </thead>\n",
       "  <tbody>\n",
       "    <tr>\n",
       "      <th>2010-01-01</th>\n",
       "      <td>87.904360</td>\n",
       "      <td>22.030</td>\n",
       "      <td>0.20</td>\n",
       "      <td>2.93</td>\n",
       "    </tr>\n",
       "    <tr>\n",
       "      <th>2010-01-02</th>\n",
       "      <td>106.039326</td>\n",
       "      <td>21.985</td>\n",
       "      <td>0.20</td>\n",
       "      <td>2.93</td>\n",
       "    </tr>\n",
       "    <tr>\n",
       "      <th>2010-01-03</th>\n",
       "      <td>83.333333</td>\n",
       "      <td>21.740</td>\n",
       "      <td>0.20</td>\n",
       "      <td>2.93</td>\n",
       "    </tr>\n",
       "    <tr>\n",
       "      <th>2010-01-04</th>\n",
       "      <td>102.176966</td>\n",
       "      <td>21.815</td>\n",
       "      <td>0.20</td>\n",
       "      <td>2.93</td>\n",
       "    </tr>\n",
       "    <tr>\n",
       "      <th>2010-01-05</th>\n",
       "      <td>106.995885</td>\n",
       "      <td>21.890</td>\n",
       "      <td>0.21</td>\n",
       "      <td>2.89</td>\n",
       "    </tr>\n",
       "    <tr>\n",
       "      <th>...</th>\n",
       "      <td>...</td>\n",
       "      <td>...</td>\n",
       "      <td>...</td>\n",
       "      <td>...</td>\n",
       "    </tr>\n",
       "    <tr>\n",
       "      <th>2020-09-11</th>\n",
       "      <td>154.702970</td>\n",
       "      <td>31.495</td>\n",
       "      <td>0.23</td>\n",
       "      <td>3.86</td>\n",
       "    </tr>\n",
       "    <tr>\n",
       "      <th>2020-09-12</th>\n",
       "      <td>158.013544</td>\n",
       "      <td>31.260</td>\n",
       "      <td>0.23</td>\n",
       "      <td>3.86</td>\n",
       "    </tr>\n",
       "    <tr>\n",
       "      <th>2020-09-13</th>\n",
       "      <td>155.502392</td>\n",
       "      <td>31.115</td>\n",
       "      <td>0.23</td>\n",
       "      <td>3.86</td>\n",
       "    </tr>\n",
       "    <tr>\n",
       "      <th>2020-09-14</th>\n",
       "      <td>147.058824</td>\n",
       "      <td>30.895</td>\n",
       "      <td>0.23</td>\n",
       "      <td>3.86</td>\n",
       "    </tr>\n",
       "    <tr>\n",
       "      <th>2020-09-15</th>\n",
       "      <td>139.534884</td>\n",
       "      <td>30.905</td>\n",
       "      <td>0.23</td>\n",
       "      <td>3.86</td>\n",
       "    </tr>\n",
       "  </tbody>\n",
       "</table>\n",
       "<p>3911 rows × 4 columns</p>\n",
       "</div>"
      ],
      "text/plain": [
       "                   SVI  Temperature  F_M - B  Sludge Age - B\n",
       "date                                                        \n",
       "2010-01-01   87.904360       22.030     0.20            2.93\n",
       "2010-01-02  106.039326       21.985     0.20            2.93\n",
       "2010-01-03   83.333333       21.740     0.20            2.93\n",
       "2010-01-04  102.176966       21.815     0.20            2.93\n",
       "2010-01-05  106.995885       21.890     0.21            2.89\n",
       "...                ...          ...      ...             ...\n",
       "2020-09-11  154.702970       31.495     0.23            3.86\n",
       "2020-09-12  158.013544       31.260     0.23            3.86\n",
       "2020-09-13  155.502392       31.115     0.23            3.86\n",
       "2020-09-14  147.058824       30.895     0.23            3.86\n",
       "2020-09-15  139.534884       30.905     0.23            3.86\n",
       "\n",
       "[3911 rows x 4 columns]"
      ]
     },
     "execution_count": 5,
     "metadata": {},
     "output_type": "execute_result"
    }
   ],
   "source": [
    "reactor_list[3]"
   ]
  },
  {
   "cell_type": "code",
   "execution_count": 6,
   "metadata": {},
   "outputs": [],
   "source": [
    "X, Y = km.create_join_x_y_arr(reactor_list, n_steps_in=2, binary=True)"
   ]
  },
  {
   "cell_type": "code",
   "execution_count": 7,
   "metadata": {},
   "outputs": [
    {
     "data": {
      "text/plain": [
       "(15636, 2, 4)"
      ]
     },
     "execution_count": 7,
     "metadata": {},
     "output_type": "execute_result"
    }
   ],
   "source": [
    "X.shape"
   ]
  },
  {
   "cell_type": "code",
   "execution_count": 8,
   "metadata": {},
   "outputs": [
    {
     "data": {
      "text/plain": [
       "array([[1.],\n",
       "       [1.],\n",
       "       [1.],\n",
       "       ...,\n",
       "       [1.],\n",
       "       [1.],\n",
       "       [1.]])"
      ]
     },
     "execution_count": 8,
     "metadata": {},
     "output_type": "execute_result"
    }
   ],
   "source": [
    "Y"
   ]
  },
  {
   "cell_type": "code",
   "execution_count": 40,
   "metadata": {},
   "outputs": [
    {
     "name": "stderr",
     "output_type": "stream",
     "text": [
      "100%|███████████████████████████████████████████████████████████████████████████████████| 2/2 [00:00<00:00, 364.15it/s]\n"
     ]
    },
    {
     "name": "stdout",
     "output_type": "stream",
     "text": [
      "Epoch 1/30\n",
      "14072/14072 [==============================] - 3s 199us/step - loss: 0.2951 - binary_accuracy: 0.4363\n",
      "Epoch 2/30\n",
      "14072/14072 [==============================] - 2s 159us/step - loss: 0.2368 - binary_accuracy: 0.6613\n",
      "Epoch 3/30\n",
      "14072/14072 [==============================] - 2s 150us/step - loss: 0.2317 - binary_accuracy: 0.7115\n",
      "Epoch 4/30\n",
      "14072/14072 [==============================] - 2s 157us/step - loss: 0.2290 - binary_accuracy: 0.7336\n",
      "Epoch 5/30\n",
      "14072/14072 [==============================] - 2s 150us/step - loss: 0.2256 - binary_accuracy: 0.7462\n",
      "Epoch 6/30\n",
      "14072/14072 [==============================] - 2s 160us/step - loss: 0.2253 - binary_accuracy: 0.7549\n",
      "Epoch 7/30\n",
      "14072/14072 [==============================] - 2s 150us/step - loss: 0.2230 - binary_accuracy: 0.7605\n",
      "Epoch 8/30\n",
      "14072/14072 [==============================] - 2s 151us/step - loss: 0.2238 - binary_accuracy: 0.7653\n",
      "Epoch 9/30\n",
      "14072/14072 [==============================] - 2s 158us/step - loss: 0.2222 - binary_accuracy: 0.7693\n",
      "Epoch 10/30\n",
      "14072/14072 [==============================] - 2s 158us/step - loss: 0.2231 - binary_accuracy: 0.7728\n",
      "Epoch 11/30\n",
      "14072/14072 [==============================] - 2s 167us/step - loss: 0.2219 - binary_accuracy: 0.7756\n",
      "Epoch 12/30\n",
      "14072/14072 [==============================] - 2s 158us/step - loss: 0.2215 - binary_accuracy: 0.7780\n",
      "Epoch 13/30\n",
      "14072/14072 [==============================] - 2s 158us/step - loss: 0.2218 - binary_accuracy: 0.7796\n",
      "Epoch 14/30\n",
      "14072/14072 [==============================] - 2s 158us/step - loss: 0.2219 - binary_accuracy: 0.7812\n",
      "Epoch 15/30\n",
      "14072/14072 [==============================] - 2s 158us/step - loss: 0.2212 - binary_accuracy: 0.7827\n",
      "Epoch 16/30\n",
      "14072/14072 [==============================] - 2s 166us/step - loss: 0.2207 - binary_accuracy: 0.7837\n",
      "Epoch 17/30\n",
      "14072/14072 [==============================] - 2s 157us/step - loss: 0.2209 - binary_accuracy: 0.7848\n",
      "Epoch 18/30\n",
      "14072/14072 [==============================] - 2s 159us/step - loss: 0.2209 - binary_accuracy: 0.7855 2s\n",
      "Epoch 19/30\n",
      "14072/14072 [==============================] - 2s 157us/step - loss: 0.2207 - binary_accuracy: 0.7860\n",
      "Epoch 20/30\n",
      "14072/14072 [==============================] - 2s 159us/step - loss: 0.2207 - binary_accuracy: 0.7869\n",
      "Epoch 21/30\n",
      "14072/14072 [==============================] - 2s 159us/step - loss: 0.2203 - binary_accuracy: 0.7877\n",
      "Epoch 22/30\n",
      "14072/14072 [==============================] - 2s 159us/step - loss: 0.2201 - binary_accuracy: 0.7883\n",
      "Epoch 23/30\n",
      "14072/14072 [==============================] - 2s 168us/step - loss: 0.2203 - binary_accuracy: 0.7889\n",
      "Epoch 24/30\n",
      "14072/14072 [==============================] - 2s 160us/step - loss: 0.2202 - binary_accuracy: 0.7895\n",
      "Epoch 25/30\n",
      "14072/14072 [==============================] - 2s 159us/step - loss: 0.2202 - binary_accuracy: 0.7901\n",
      "Epoch 26/30\n",
      "14072/14072 [==============================] - 2s 159us/step - loss: 0.2194 - binary_accuracy: 0.7905\n",
      "Epoch 27/30\n",
      "14072/14072 [==============================] - 2s 160us/step - loss: 0.2214 - binary_accuracy: 0.7909\n",
      "Epoch 28/30\n",
      "14072/14072 [==============================] - 2s 159us/step - loss: 0.2197 - binary_accuracy: 0.7912\n",
      "Epoch 29/30\n",
      "14072/14072 [==============================] - 2s 160us/step - loss: 0.2199 - binary_accuracy: 0.7916\n",
      "Epoch 30/30\n",
      "14072/14072 [==============================] - 2s 173us/step - loss: 0.2192 - binary_accuracy: 0.7919\n"
     ]
    },
    {
     "data": {
      "text/plain": [
       "<keras.callbacks.callbacks.History at 0x21388efb848>"
      ]
     },
     "execution_count": 40,
     "metadata": {},
     "output_type": "execute_result"
    }
   ],
   "source": [
    "X_normalize, Y_normalize, scalers = km.normalize(X, Y)\n",
    "Xtrain, Xtest, ytrain, ytest = train_test_split(X_normalize, Y_normalize, test_size=0.10, random_state=42)\n",
    "model = Sequential()\n",
    "model.add(LSTM(units=50, activation='relu', name='first_lstm', recurrent_dropout=0.1, input_shape=(Xtrain.shape[1], Xtrain.shape[2])))\n",
    "model.add(Dense(25, activation='relu'))\n",
    "model.add(Dense(1, activation=\"sigmoid\"))\n",
    "model.compile(optimizer='adam', loss='binary_crossentropy', \n",
    "              metrics=[keras.metrics.BinaryAccuracy(name='binary_accuracy', dtype=None, threshold=0.9)])\n",
    "model.fit(Xtrain, ytrain, epochs=30, batch_size=10, shuffle=True)\n"
   ]
  },
  {
   "cell_type": "code",
   "execution_count": 41,
   "metadata": {},
   "outputs": [],
   "source": [
    "Yhat, Ytest = km.evaluate(model, Xtest, ytest, scalers, binary=True)"
   ]
  },
  {
   "cell_type": "code",
   "execution_count": 147,
   "metadata": {},
   "outputs": [],
   "source": [
    "threshold = 0.7\n",
    "y_predict = np.where(Yhat > threshold, 1, 0).astype(int)\n",
    "y_real = Ytest.astype(int)"
   ]
  },
  {
   "cell_type": "code",
   "execution_count": 148,
   "metadata": {},
   "outputs": [],
   "source": [
    "classes = ['High_svi', 'Low_svi']"
   ]
  },
  {
   "cell_type": "code",
   "execution_count": 149,
   "metadata": {},
   "outputs": [],
   "source": [
    "cm = confusion_matrix(y_real, y_predict)"
   ]
  },
  {
   "cell_type": "code",
   "execution_count": 150,
   "metadata": {},
   "outputs": [
    {
     "name": "stdout",
     "output_type": "stream",
     "text": [
      "Confusion matrix, without normalization\n",
      "[[ 115   60]\n",
      " [ 104 1285]]\n"
     ]
    },
    {
     "data": {
      "image/png": "[encoded data removed]",
      "text/plain": [
       "<Figure size 432x288 with 2 Axes>"
      ]
     },
     "metadata": {
      "needs_background": "light"
     },
     "output_type": "display_data"
    }
   ],
   "source": [
    "sup.plot_confusion_matrix(cm, classes,\n",
    "                          normalize=False,\n",
    "                          title='Confusion matrix',\n",
    "                          cmap=plt.cm.Blues)"
   ]
  },
  {
   "cell_type": "code",
   "execution_count": 151,
   "metadata": {},
   "outputs": [],
   "source": [
    "results = km.results(y_real, y_predict, binary=True)"
   ]
  },
  {
   "cell_type": "code",
   "execution_count": 152,
   "metadata": {},
   "outputs": [
    {
     "data": {
      "text/plain": [
       "(0.8951406649616368,\n",
       " 0.6571428571428571,\n",
       " 0.5251141552511416,\n",
       " 0.5837563451776651)"
      ]
     },
     "execution_count": 152,
     "metadata": {},
     "output_type": "execute_result"
    }
   ],
   "source": [
    "results"
   ]
  },
  {
   "cell_type": "code",
   "execution_count": 130,
   "metadata": {},
   "outputs": [],
   "source": [
    "fpr, tpr, thresholds = roc_curve(Ytest, Yhat)"
   ]
  },
  {
   "cell_type": "code",
   "execution_count": 74,
   "metadata": {},
   "outputs": [
    {
     "data": {
      "text/plain": [
       "0.9064362850971922"
      ]
     },
     "execution_count": 74,
     "metadata": {},
     "output_type": "execute_result"
    }
   ],
   "source": [
    "auc(fpr, tpr)"
   ]
  },
  {
   "cell_type": "code",
   "execution_count": 78,
   "metadata": {},
   "outputs": [
    {
     "data": {
      "text/plain": [
       "Text(0.5, 1.0, 'ROC curve')"
      ]
     },
     "execution_count": 78,
     "metadata": {},
     "output_type": "execute_result"
    },
    {
     "data": {
      "image/png": "[encoded data removed]",
      "text/plain": [
       "<Figure size 432x288 with 1 Axes>"
      ]
     },
     "metadata": {
      "needs_background": "light"
     },
     "output_type": "display_data"
    }
   ],
   "source": [
    "plt.plot(fpr, tpr)\n",
    "plt.xlabel('False Positive Rate')\n",
    "plt.ylabel('True Positive Rate')\n",
    "plt.title('ROC curve')"
   ]
  },
  {
   "cell_type": "code",
   "execution_count": null,
   "metadata": {},
   "outputs": [],
   "source": [
    "results_list = []\n",
    "for i in range (1,11):\n",
    "    for j in range (1, 11):\n",
    "        X, Y = km.create_join_x_y_arr(reactor_list, n_steps_in=i, n_steps_out=j, binary=True)\n",
    "        X_normalize, Y_normalize, scalers = km.normalize(X, Y)\n",
    "        Xtrain, Xtest, ytrain, ytest = train_test_split(X_normalize, Y_normalize, test_size=0.20, random_state=42)\n",
    "        model = Sequential()\n",
    "        model.add(LSTM(units=50, activation='relu', name='first_lstm', recurrent_dropout=0.1, input_shape=(Xtrain.shape[1], Xtrain.shape[2])))\n",
    "        model.add(Dense(25, activation='relu'))\n",
    "        model.add(Dense(1, activation=\"sigmoid\"))\n",
    "        model.compile(optimizer=Adam(learning_rate=0.0001), loss='binary_crossentropy')\n",
    "        model.fit(Xtrain, ytrain, epochs=30, batch_size=10, shuffle=True)\n",
    "        Yhat, Ytest = km.evaluate(model, Xtest, ytest, scalers, binary=True)\n",
    "        y_predict = np.rint(Yhat).astype(int)\n",
    "        y_real = Ytest.astype(int)\n",
    "        results_list.append(km.results(y_real, y_predict))\n",
    "    \n"
   ]
  },
  {
   "cell_type": "code",
   "execution_count": 28,
   "metadata": {},
   "outputs": [],
   "source": [
    "(unique, counts) = np.unique(ytrain, return_counts=True)\n",
    "frequencies = np.asarray((unique, counts)).T"
   ]
  },
  {
   "cell_type": "code",
   "execution_count": 29,
   "metadata": {},
   "outputs": [
    {
     "data": {
      "text/plain": [
       "array([[0.0000e+00, 1.7250e+03],\n",
       "       [1.0000e+00, 1.2347e+04]])"
      ]
     },
     "execution_count": 29,
     "metadata": {},
     "output_type": "execute_result"
    }
   ],
   "source": [
    "frequencies"
   ]
  },
  {
   "cell_type": "code",
   "execution_count": null,
   "metadata": {},
   "outputs": [],
   "source": [
    "#plot graph of a metric result for all n_step_in and n_step_out values\n",
    "x=range(1,11)\n",
    "label = ['accuracy', 'TNR', 'NPV', 'f1']\n",
    "for z in range(4):\n",
    "    for i in range(10):\n",
    "        y=[]\n",
    "        for j in range (10):\n",
    "            y.append(results_list[i*10:i*10+10][j][z+1])\n",
    "        plt.plot(x, y, label=f'n_steps_in={i+1}')\n",
    "    plt.legend(loc='center left', bbox_to_anchor=(1, 0.5))\n",
    "    plt.xlabel(\"n_steps_out\")\n",
    "    plt.ylabel(label[z])\n",
    "    plt.title(\"Simple LSTM, 3 layers (50,25,1),\\n name='first_lstm', recurrent_dropout=0.1 \\n optimizer='adam', loss='binary_crossentropy' \")\n",
    "    plt.savefig(f\"figures/Simple LSTM {label[z]}.png\", bbox_inches=\"tight\")\n",
    "    plt.close()"
   ]
  },
  {
   "cell_type": "code",
   "execution_count": null,
   "metadata": {},
   "outputs": [],
   "source": [
    "#plot graph of all metric results for a n_step_in value\n",
    "x=range(1,11)\n",
    "label = ['accuracy', 'TNR', 'NPV', 'f1']\n",
    "for z in range(10):\n",
    "    for i in range(4):\n",
    "        y=[]\n",
    "        for j in range (10):\n",
    "            y.append(results_list[z*10:z*10+10][j][i+1])\n",
    "        plt.plot(x, y, label=label[i])\n",
    "    plt.legend(loc='center left', bbox_to_anchor=(1, 0.5))\n",
    "    plt.xlabel(\"n_steps_out\")\n",
    "    plt.ylabel('Metric value')\n",
    "    plt.title(f\"Simple LSTM, 3 layers (50,25,1),\\n name='first_lstm', recurrent_dropout=0.1 \\n optimizer='adam', loss='binary_crossentropy' \\n n_steps_in={z+1} \")\n",
    "    plt.savefig(f\"figures/Simple LSTM n_steps_in={z+1}.png\", bbox_inches=\"tight\")\n",
    "    plt.close()"
   ]
  }
 ],
 "metadata": {
  "kernelspec": {
   "display_name": "TF",
   "language": "python",
   "name": "tf"
  },
  "language_info": {
   "codemirror_mode": {
    "name": "ipython",
    "version": 3
   },
   "file_extension": ".py",
   "mimetype": "text/x-python",
   "name": "python",
   "nbconvert_exporter": "python",
   "pygments_lexer": "ipython3",
   "version": "3.7.9"
  }
 },
 "nbformat": 4,
 "nbformat_minor": 4
}

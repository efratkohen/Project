{
 "cells": [
  {
   "cell_type": "code",
   "execution_count": 23,
   "metadata": {},
   "outputs": [],
   "source": [
    "import clean_data_svi as cds\n",
    "import supervised as sup\n",
    "import pathlib\n",
    "import keras_model as km\n",
    "import pandas as pd\n",
    "import numpy as np\n",
    "import matplotlib.pyplot as plt\n",
    "from math import sqrt\n",
    "from datetime import timedelta, datetime\n",
    "from sklearn.model_selection import train_test_split\n",
    "from sklearn.preprocessing import MinMaxScaler\n",
    "from sklearn.metrics import mean_squared_error\n",
    "from tqdm import tqdm\n",
    "import tensorflow as tf\n",
    "from tensorflow import keras\n",
    "from keras.models import Sequential\n",
    "from keras.layers import Activation, Dense, LSTM\n",
    "from keras.optimizers import Adam\n",
    "from keras.metrics import categorical_crossentropy\n",
    "from sklearn import preprocessing\n",
    "from sklearn.decomposition import PCA\n",
    "from sklearn.metrics import mean_squared_error, median_absolute_error, roc_curve, auc, f1_score, precision_recall_curve, r2_score\n",
    "from sklearn.metrics import confusion_matrix\n",
    "from sklearn.metrics import plot_confusion_matrix\n"
   ]
  },
  {
   "cell_type": "code",
   "execution_count": 24,
   "metadata": {},
   "outputs": [],
   "source": [
    "SVI_list = []\n",
    "for i in range(4):\n",
    "    df = pd.read_csv(f\"clean_tables/svi_{i+1}.csv\", index_col=\"date\")\n",
    "    df = df.drop(columns=['Settling_velocity', 'SV_label', 'SVI_label'])\n",
    "    df.index = pd.to_datetime(df.index, dayfirst=True)\n",
    "    SVI_list.append(df)"
   ]
  },
  {
   "cell_type": "code",
   "execution_count": 25,
   "metadata": {},
   "outputs": [],
   "source": [
    "temp_df = pd.read_csv(\"clean_tables/temperatur.csv\", index_col=\"date\")\n",
    "temp_df.index = pd.to_datetime(temp_df.index, dayfirst=True)\n",
    "sludge_age_df = pd.read_csv(\"clean_tables/sludge_age_f_m.csv\", index_col=\"date\")\n",
    "sludge_age_df.index = pd.to_datetime(sludge_age_df.index, dayfirst=True)"
   ]
  },
  {
   "cell_type": "code",
   "execution_count": 28,
   "metadata": {},
   "outputs": [],
   "source": [
    "reactor_list = []\n",
    "for i in range(4):\n",
    "    join = pd.concat([SVI_list[i], temp_df], axis=1)\n",
    "    if i <=1:\n",
    "        join = pd.concat([join, sludge_age_df.iloc[:, np.r_[0, 2]]], axis=1)\n",
    "    else:\n",
    "        join = pd.concat([join, sludge_age_df.iloc[:, np.r_[1, 3]]], axis=1)\n",
    "    months_df = pd.get_dummies(join.index.year, prefix='year')\n",
    "    months_df.index=join.index\n",
    "    join = pd.concat([join, months_df], axis=1)\n",
    "    reactor_list.append(join)"
   ]
  },
  {
   "cell_type": "code",
   "execution_count": 34,
   "metadata": {},
   "outputs": [
    {
     "data": {
      "text/html": [
       "<div>\n",
       "<style scoped>\n",
       "    .dataframe tbody tr th:only-of-type {\n",
       "        vertical-align: middle;\n",
       "    }\n",
       "\n",
       "    .dataframe tbody tr th {\n",
       "        vertical-align: top;\n",
       "    }\n",
       "\n",
       "    .dataframe thead th {\n",
       "        text-align: right;\n",
       "    }\n",
       "</style>\n",
       "<table border=\"1\" class=\"dataframe\">\n",
       "  <thead>\n",
       "    <tr style=\"text-align: right;\">\n",
       "      <th></th>\n",
       "      <th>SVI</th>\n",
       "      <th>Temperature</th>\n",
       "      <th>F_M - A</th>\n",
       "      <th>Sludge Age - A</th>\n",
       "      <th>year_2010</th>\n",
       "      <th>year_2011</th>\n",
       "      <th>year_2012</th>\n",
       "      <th>year_2013</th>\n",
       "      <th>year_2014</th>\n",
       "      <th>year_2015</th>\n",
       "      <th>year_2016</th>\n",
       "      <th>year_2017</th>\n",
       "      <th>year_2018</th>\n",
       "      <th>year_2019</th>\n",
       "      <th>year_2020</th>\n",
       "    </tr>\n",
       "    <tr>\n",
       "      <th>date</th>\n",
       "      <th></th>\n",
       "      <th></th>\n",
       "      <th></th>\n",
       "      <th></th>\n",
       "      <th></th>\n",
       "      <th></th>\n",
       "      <th></th>\n",
       "      <th></th>\n",
       "      <th></th>\n",
       "      <th></th>\n",
       "      <th></th>\n",
       "      <th></th>\n",
       "      <th></th>\n",
       "      <th></th>\n",
       "      <th></th>\n",
       "    </tr>\n",
       "  </thead>\n",
       "  <tbody>\n",
       "    <tr>\n",
       "      <th>2010-01-01</th>\n",
       "      <td>90.943683</td>\n",
       "      <td>22.030</td>\n",
       "      <td>0.23</td>\n",
       "      <td>3.44</td>\n",
       "      <td>1</td>\n",
       "      <td>0</td>\n",
       "      <td>0</td>\n",
       "      <td>0</td>\n",
       "      <td>0</td>\n",
       "      <td>0</td>\n",
       "      <td>0</td>\n",
       "      <td>0</td>\n",
       "      <td>0</td>\n",
       "      <td>0</td>\n",
       "      <td>0</td>\n",
       "    </tr>\n",
       "    <tr>\n",
       "      <th>2010-01-02</th>\n",
       "      <td>84.365325</td>\n",
       "      <td>21.985</td>\n",
       "      <td>0.18</td>\n",
       "      <td>3.78</td>\n",
       "      <td>1</td>\n",
       "      <td>0</td>\n",
       "      <td>0</td>\n",
       "      <td>0</td>\n",
       "      <td>0</td>\n",
       "      <td>0</td>\n",
       "      <td>0</td>\n",
       "      <td>0</td>\n",
       "      <td>0</td>\n",
       "      <td>0</td>\n",
       "      <td>0</td>\n",
       "    </tr>\n",
       "    <tr>\n",
       "      <th>2010-01-03</th>\n",
       "      <td>94.541139</td>\n",
       "      <td>21.740</td>\n",
       "      <td>0.21</td>\n",
       "      <td>3.82</td>\n",
       "      <td>1</td>\n",
       "      <td>0</td>\n",
       "      <td>0</td>\n",
       "      <td>0</td>\n",
       "      <td>0</td>\n",
       "      <td>0</td>\n",
       "      <td>0</td>\n",
       "      <td>0</td>\n",
       "      <td>0</td>\n",
       "      <td>0</td>\n",
       "      <td>0</td>\n",
       "    </tr>\n",
       "    <tr>\n",
       "      <th>2010-01-04</th>\n",
       "      <td>97.402597</td>\n",
       "      <td>21.815</td>\n",
       "      <td>0.21</td>\n",
       "      <td>3.40</td>\n",
       "      <td>1</td>\n",
       "      <td>0</td>\n",
       "      <td>0</td>\n",
       "      <td>0</td>\n",
       "      <td>0</td>\n",
       "      <td>0</td>\n",
       "      <td>0</td>\n",
       "      <td>0</td>\n",
       "      <td>0</td>\n",
       "      <td>0</td>\n",
       "      <td>0</td>\n",
       "    </tr>\n",
       "    <tr>\n",
       "      <th>2010-01-05</th>\n",
       "      <td>107.937685</td>\n",
       "      <td>21.890</td>\n",
       "      <td>0.23</td>\n",
       "      <td>3.70</td>\n",
       "      <td>1</td>\n",
       "      <td>0</td>\n",
       "      <td>0</td>\n",
       "      <td>0</td>\n",
       "      <td>0</td>\n",
       "      <td>0</td>\n",
       "      <td>0</td>\n",
       "      <td>0</td>\n",
       "      <td>0</td>\n",
       "      <td>0</td>\n",
       "      <td>0</td>\n",
       "    </tr>\n",
       "    <tr>\n",
       "      <th>...</th>\n",
       "      <td>...</td>\n",
       "      <td>...</td>\n",
       "      <td>...</td>\n",
       "      <td>...</td>\n",
       "      <td>...</td>\n",
       "      <td>...</td>\n",
       "      <td>...</td>\n",
       "      <td>...</td>\n",
       "      <td>...</td>\n",
       "      <td>...</td>\n",
       "      <td>...</td>\n",
       "      <td>...</td>\n",
       "      <td>...</td>\n",
       "      <td>...</td>\n",
       "      <td>...</td>\n",
       "    </tr>\n",
       "    <tr>\n",
       "      <th>2020-12-27</th>\n",
       "      <td>166.666667</td>\n",
       "      <td>22.540</td>\n",
       "      <td>0.25</td>\n",
       "      <td>2.75</td>\n",
       "      <td>0</td>\n",
       "      <td>0</td>\n",
       "      <td>0</td>\n",
       "      <td>0</td>\n",
       "      <td>0</td>\n",
       "      <td>0</td>\n",
       "      <td>0</td>\n",
       "      <td>0</td>\n",
       "      <td>0</td>\n",
       "      <td>0</td>\n",
       "      <td>1</td>\n",
       "    </tr>\n",
       "    <tr>\n",
       "      <th>2020-12-28</th>\n",
       "      <td>147.453083</td>\n",
       "      <td>22.535</td>\n",
       "      <td>0.26</td>\n",
       "      <td>2.91</td>\n",
       "      <td>0</td>\n",
       "      <td>0</td>\n",
       "      <td>0</td>\n",
       "      <td>0</td>\n",
       "      <td>0</td>\n",
       "      <td>0</td>\n",
       "      <td>0</td>\n",
       "      <td>0</td>\n",
       "      <td>0</td>\n",
       "      <td>0</td>\n",
       "      <td>1</td>\n",
       "    </tr>\n",
       "    <tr>\n",
       "      <th>2020-12-29</th>\n",
       "      <td>154.702970</td>\n",
       "      <td>22.660</td>\n",
       "      <td>0.26</td>\n",
       "      <td>2.82</td>\n",
       "      <td>0</td>\n",
       "      <td>0</td>\n",
       "      <td>0</td>\n",
       "      <td>0</td>\n",
       "      <td>0</td>\n",
       "      <td>0</td>\n",
       "      <td>0</td>\n",
       "      <td>0</td>\n",
       "      <td>0</td>\n",
       "      <td>0</td>\n",
       "      <td>1</td>\n",
       "    </tr>\n",
       "    <tr>\n",
       "      <th>2020-12-30</th>\n",
       "      <td>159.722222</td>\n",
       "      <td>22.660</td>\n",
       "      <td>0.27</td>\n",
       "      <td>2.91</td>\n",
       "      <td>0</td>\n",
       "      <td>0</td>\n",
       "      <td>0</td>\n",
       "      <td>0</td>\n",
       "      <td>0</td>\n",
       "      <td>0</td>\n",
       "      <td>0</td>\n",
       "      <td>0</td>\n",
       "      <td>0</td>\n",
       "      <td>0</td>\n",
       "      <td>1</td>\n",
       "    </tr>\n",
       "    <tr>\n",
       "      <th>2020-12-31</th>\n",
       "      <td>167.597765</td>\n",
       "      <td>22.735</td>\n",
       "      <td>0.27</td>\n",
       "      <td>2.91</td>\n",
       "      <td>0</td>\n",
       "      <td>0</td>\n",
       "      <td>0</td>\n",
       "      <td>0</td>\n",
       "      <td>0</td>\n",
       "      <td>0</td>\n",
       "      <td>0</td>\n",
       "      <td>0</td>\n",
       "      <td>0</td>\n",
       "      <td>0</td>\n",
       "      <td>1</td>\n",
       "    </tr>\n",
       "  </tbody>\n",
       "</table>\n",
       "<p>4018 rows × 15 columns</p>\n",
       "</div>"
      ],
      "text/plain": [
       "                   SVI  Temperature  F_M - A  Sludge Age - A  year_2010  \\\n",
       "date                                                                      \n",
       "2010-01-01   90.943683       22.030     0.23            3.44          1   \n",
       "2010-01-02   84.365325       21.985     0.18            3.78          1   \n",
       "2010-01-03   94.541139       21.740     0.21            3.82          1   \n",
       "2010-01-04   97.402597       21.815     0.21            3.40          1   \n",
       "2010-01-05  107.937685       21.890     0.23            3.70          1   \n",
       "...                ...          ...      ...             ...        ...   \n",
       "2020-12-27  166.666667       22.540     0.25            2.75          0   \n",
       "2020-12-28  147.453083       22.535     0.26            2.91          0   \n",
       "2020-12-29  154.702970       22.660     0.26            2.82          0   \n",
       "2020-12-30  159.722222       22.660     0.27            2.91          0   \n",
       "2020-12-31  167.597765       22.735     0.27            2.91          0   \n",
       "\n",
       "            year_2011  year_2012  year_2013  year_2014  year_2015  year_2016  \\\n",
       "date                                                                           \n",
       "2010-01-01          0          0          0          0          0          0   \n",
       "2010-01-02          0          0          0          0          0          0   \n",
       "2010-01-03          0          0          0          0          0          0   \n",
       "2010-01-04          0          0          0          0          0          0   \n",
       "2010-01-05          0          0          0          0          0          0   \n",
       "...               ...        ...        ...        ...        ...        ...   \n",
       "2020-12-27          0          0          0          0          0          0   \n",
       "2020-12-28          0          0          0          0          0          0   \n",
       "2020-12-29          0          0          0          0          0          0   \n",
       "2020-12-30          0          0          0          0          0          0   \n",
       "2020-12-31          0          0          0          0          0          0   \n",
       "\n",
       "            year_2017  year_2018  year_2019  year_2020  \n",
       "date                                                    \n",
       "2010-01-01          0          0          0          0  \n",
       "2010-01-02          0          0          0          0  \n",
       "2010-01-03          0          0          0          0  \n",
       "2010-01-04          0          0          0          0  \n",
       "2010-01-05          0          0          0          0  \n",
       "...               ...        ...        ...        ...  \n",
       "2020-12-27          0          0          0          1  \n",
       "2020-12-28          0          0          0          1  \n",
       "2020-12-29          0          0          0          1  \n",
       "2020-12-30          0          0          0          1  \n",
       "2020-12-31          0          0          0          1  \n",
       "\n",
       "[4018 rows x 15 columns]"
      ]
     },
     "execution_count": 34,
     "metadata": {},
     "output_type": "execute_result"
    }
   ],
   "source": [
    "reactor_list[0]"
   ]
  },
  {
   "cell_type": "code",
   "execution_count": 35,
   "metadata": {},
   "outputs": [],
   "source": [
    "X, Y = km.create_join_x_y_arr(reactor_list, n_steps_in=2, binary=True)"
   ]
  },
  {
   "cell_type": "code",
   "execution_count": 36,
   "metadata": {},
   "outputs": [
    {
     "data": {
      "text/plain": [
       "(16064, 2, 15)"
      ]
     },
     "execution_count": 36,
     "metadata": {},
     "output_type": "execute_result"
    }
   ],
   "source": [
    "X.shape"
   ]
  },
  {
   "cell_type": "code",
   "execution_count": 37,
   "metadata": {},
   "outputs": [
    {
     "data": {
      "text/plain": [
       "array([[90.94368341, 22.03      ,  0.23      ,  3.44      ,  1.        ,\n",
       "         0.        ,  0.        ,  0.        ,  0.        ,  0.        ,\n",
       "         0.        ,  0.        ,  0.        ,  0.        ,  0.        ],\n",
       "       [84.36532508, 21.985     ,  0.18      ,  3.78      ,  1.        ,\n",
       "         0.        ,  0.        ,  0.        ,  0.        ,  0.        ,\n",
       "         0.        ,  0.        ,  0.        ,  0.        ,  0.        ]])"
      ]
     },
     "execution_count": 37,
     "metadata": {},
     "output_type": "execute_result"
    }
   ],
   "source": [
    "X[0]"
   ]
  },
  {
   "cell_type": "code",
   "execution_count": 38,
   "metadata": {},
   "outputs": [
    {
     "data": {
      "text/plain": [
       "array([1.])"
      ]
     },
     "execution_count": 38,
     "metadata": {},
     "output_type": "execute_result"
    }
   ],
   "source": [
    "Y[0]"
   ]
  },
  {
   "cell_type": "code",
   "execution_count": 43,
   "metadata": {},
   "outputs": [
    {
     "name": "stderr",
     "output_type": "stream",
     "text": [
      "100%|██████████| 10/10 [00:00<00:00, 141.38it/s]\n"
     ]
    },
    {
     "name": "stdout",
     "output_type": "stream",
     "text": [
      "Epoch 1/3\n",
      "14396/14396 [==============================] - 20s 1ms/step - loss: 0.5655 - binary_accuracy: 0.6908\n",
      "Epoch 2/3\n",
      "14396/14396 [==============================] - 16s 1ms/step - loss: 0.5111 - binary_accuracy: 0.7230\n",
      "Epoch 3/3\n",
      "14396/14396 [==============================] - 16s 1ms/step - loss: 0.4976 - binary_accuracy: 0.7316\n"
     ]
    },
    {
     "data": {
      "text/plain": [
       "<keras.callbacks.callbacks.History at 0x7fe7952a8fd0>"
      ]
     },
     "execution_count": 43,
     "metadata": {},
     "output_type": "execute_result"
    }
   ],
   "source": [
    "X_normalize, Y_normalize, scalers = km.normalize(X, Y)\n",
    "Xtrain, Xtest, ytrain, ytest = train_test_split(X_normalize, Y_normalize, test_size=0.10, random_state=42)\n",
    "model = Sequential()\n",
    "model.add(LSTM(units=50, activation='relu', name='first_lstm', recurrent_dropout=0.1, input_shape=(Xtrain.shape[1], Xtrain.shape[2])))\n",
    "model.add(Dense(25, activation='relu'))\n",
    "model.add(Dense(1, activation=\"sigmoid\"))\n",
    "model.compile(optimizer='adam', loss='binary_crossentropy', \n",
    "              metrics=[keras.metrics.BinaryAccuracy(name='binary_accuracy', dtype=None, threshold=0.5)])\n",
    "model.fit(Xtrain, ytrain, epochs=3, batch_size=10, shuffle=True)\n"
   ]
  },
  {
   "cell_type": "code",
   "execution_count": 60,
   "metadata": {},
   "outputs": [],
   "source": [
    "Yhat, Ytest = km.evaluate(model, Xtest, ytest, scalers, binary=True)"
   ]
  },
  {
   "cell_type": "code",
   "execution_count": 111,
   "metadata": {},
   "outputs": [],
   "source": [
    "def threshold_for_max_f1(y_real, y_predict):\n",
    "    '''\n",
    "    Given inputs y_real and y_predict, the function returns\n",
    "    the threshold (rounded to the nearest hundredth) that\n",
    "    maximizes f1.\n",
    "    \n",
    "    Note: this funcnot necessarily optimized, could return to \n",
    "    doing this).\n",
    "    '''\n",
    "    f1_vals = []\n",
    "    for i in range(1, 100):\n",
    "        threshold = i/100\n",
    "        y_predict = np.where(Yhat > threshold, 1, 0).astype(int)\n",
    "        y_real = Ytest.astype(int)\n",
    "        \n",
    "        f1 = km.results(y_real, y_predict, binary=True)[3]\n",
    "        f1_vals.append(f1)\n",
    "    print(f1_vals)\n",
    "    return (f1_vals.index(max(f1_vals))+1)/100"
   ]
  },
  {
   "cell_type": "code",
   "execution_count": 112,
   "metadata": {},
   "outputs": [
    {
     "name": "stdout",
     "output_type": "stream",
     "text": [
      "[0.007722007722007722, 0.011560693641618497, 0.015384615384615384, 0.022988505747126436, 0.03802281368821293, 0.04914933837429111, 0.04914933837429111, 0.05639097744360902, 0.06367041198501873, 0.07806691449814127, 0.09208103130755066, 0.09506398537477148, 0.10869565217391304, 0.10869565217391304, 0.12567324955116696, 0.13214285714285715, 0.15520282186948853, 0.1681260945709282, 0.1840277777777778, 0.1899827288428325, 0.20240137221269297, 0.22335025380710657, 0.24080267558528431, 0.25412541254125415, 0.26143790849673204, 0.27419354838709675, 0.2852564102564103, 0.3118110236220472, 0.32868217054263565, 0.3460949464012251, 0.350609756097561, 0.36771300448430494, 0.38360175695461196, 0.3819241982507289, 0.3971223021582733, 0.40567375886524826, 0.413986013986014, 0.4408163265306122, 0.4574468085106383, 0.4742268041237113, 0.5012531328320803, 0.5249088699878494, 0.5271867612293145, 0.5393518518518519, 0.5559322033898305, 0.5625692137320044, 0.5736095965103599, 0.5830653804930334, 0.5807814149947201, 0.5826446280991736, 0.584771573604061, 0.5905511811023623, 0.5932367149758453, 0.5969581749049429, 0.604089219330855, 0.6092475067996375, 0.6108637577916295, 0.6089238845144357, 0.611063829787234, 0.6034912718204488, 0.6040485829959514, 0.6030230708035005, 0.6051602814698984, 0.6, 0.5970149253731343, 0.6016023306627822, 0.6025459688826025, 0.6004140786749482, 0.598371777476255, 0.5996002664890072, 0.6031331592689295, 0.5992317541613317, 0.5956112852664577, 0.5958230958230958, 0.5880217785843921, 0.5834818775995246, 0.5789473684210527, 0.5787037037037037, 0.5730659025787966, 0.5701306076093129, 0.5602678571428571, 0.5543358946212952, 0.5509761388286334, 0.5472103004291845, 0.5407407407407407, 0.536406495547407, 0.5307811691670978, 0.5255623721881391, 0.5196770938446014, 0.5147426286856571, 0.5114200595829197, 0.508893280632411, 0.5063788027477919, 0.5019455252918288, 0.4975891996142719, 0.4935437589670014, 0.49026128266033253, 0.48863636363636365, 0.4884051112162802]\n"
     ]
    }
   ],
   "source": [
    "threshold = threshold_for_max_f1(y_real, y_predict)\n",
    "y_predict = np.where(Yhat > threshold, 1, 0).astype(int)\n",
    "y_real = Ytest.astype(int)"
   ]
  },
  {
   "cell_type": "code",
   "execution_count": 109,
   "metadata": {},
   "outputs": [
    {
     "data": {
      "text/plain": [
       "0.59"
      ]
     },
     "execution_count": 109,
     "metadata": {},
     "output_type": "execute_result"
    }
   ],
   "source": [
    "threshold"
   ]
  },
  {
   "cell_type": "code",
   "execution_count": 110,
   "metadata": {},
   "outputs": [
    {
     "data": {
      "text/plain": [
       "(0.714375, 0.6957364341085271, 0.5447647951441578, 0.611063829787234)"
      ]
     },
     "execution_count": 110,
     "metadata": {},
     "output_type": "execute_result"
    }
   ],
   "source": [
    "results = km.results(y_real, y_predict, binary=True)\n",
    "results"
   ]
  },
  {
   "cell_type": "code",
   "execution_count": 54,
   "metadata": {},
   "outputs": [],
   "source": [
    "classes = ['High_svi', 'Low_svi']"
   ]
  },
  {
   "cell_type": "code",
   "execution_count": 55,
   "metadata": {},
   "outputs": [],
   "source": [
    "cm = confusion_matrix(y_real, y_predict)"
   ]
  },
  {
   "cell_type": "code",
   "execution_count": 56,
   "metadata": {},
   "outputs": [
    {
     "name": "stdout",
     "output_type": "stream",
     "text": [
      "Confusion matrix, without normalization\n",
      "[[450  66]\n",
      " [535 549]]\n"
     ]
    },
    {
     "data": {
      "image/png": "[encoded data removed]",
      "text/plain": [
       "<Figure size 432x288 with 2 Axes>"
      ]
     },
     "metadata": {
      "needs_background": "light"
     },
     "output_type": "display_data"
    }
   ],
   "source": [
    "sup.plot_confusion_matrix(cm, classes,\n",
    "                          normalize=False,\n",
    "                          title='Confusion matrix',\n",
    "                          cmap=plt.cm.Blues)"
   ]
  },
  {
   "cell_type": "code",
   "execution_count": 65,
   "metadata": {},
   "outputs": [],
   "source": [
    "results = km.results(y_real, y_predict, binary=True)"
   ]
  },
  {
   "cell_type": "code",
   "execution_count": 66,
   "metadata": {},
   "outputs": [
    {
     "data": {
      "text/plain": [
       "(0.393125, 0.998062015503876, 0.3468013468013468, 0.5147426286856571)"
      ]
     },
     "execution_count": 66,
     "metadata": {},
     "output_type": "execute_result"
    }
   ],
   "source": [
    "results"
   ]
  },
  {
   "cell_type": "code",
   "execution_count": 20,
   "metadata": {},
   "outputs": [],
   "source": [
    "fpr, tpr, thresholds = roc_curve(Ytest, Yhat)"
   ]
  },
  {
   "cell_type": "code",
   "execution_count": 21,
   "metadata": {},
   "outputs": [
    {
     "data": {
      "text/plain": [
       "0.8705271651425497"
      ]
     },
     "execution_count": 21,
     "metadata": {},
     "output_type": "execute_result"
    }
   ],
   "source": [
    "auc(fpr, tpr)"
   ]
  },
  {
   "cell_type": "code",
   "execution_count": 22,
   "metadata": {},
   "outputs": [
    {
     "data": {
      "text/plain": [
       "Text(0.5, 1.0, 'ROC curve')"
      ]
     },
     "execution_count": 22,
     "metadata": {},
     "output_type": "execute_result"
    },
    {
     "data": {
      "image/png": "[encoded data removed]",
      "text/plain": [
       "<Figure size 432x288 with 1 Axes>"
      ]
     },
     "metadata": {
      "needs_background": "light"
     },
     "output_type": "display_data"
    }
   ],
   "source": [
    "plt.plot(fpr, tpr)\n",
    "plt.xlabel('False Positive Rate')\n",
    "plt.ylabel('True Positive Rate')\n",
    "plt.title('ROC curve')"
   ]
  },
  {
   "cell_type": "code",
   "execution_count": 135,
   "metadata": {},
   "outputs": [
    {
     "name": "stderr",
     "output_type": "stream",
     "text": [
      "100%|██████████| 1/1 [00:00<00:00, 167.39it/s]\n"
     ]
    },
    {
     "name": "stdout",
     "output_type": "stream",
     "text": [
      "Epoch 1/2\n",
      "12854/12854 [==============================] - 7s 512us/step - loss: 0.6406\n",
      "Epoch 2/2\n",
      "12854/12854 [==============================] - 5s 375us/step - loss: 0.6121\n"
     ]
    },
    {
     "name": "stderr",
     "output_type": "stream",
     "text": [
      "/Users/sammitchell/Desktop/Mekorot/Project/keras_model.py:93: RuntimeWarning: invalid value encountered in long_scalars\n",
      "  NPV = (tn) / (tn + fn)\n",
      "100%|██████████| 1/1 [00:00<00:00, 177.46it/s]\n"
     ]
    },
    {
     "name": "stdout",
     "output_type": "stream",
     "text": [
      "Epoch 1/2\n",
      "12851/12851 [==============================] - 8s 595us/step - loss: 0.6453\n",
      "Epoch 2/2\n",
      "12851/12851 [==============================] - 5s 377us/step - loss: 0.6154\n"
     ]
    },
    {
     "name": "stderr",
     "output_type": "stream",
     "text": [
      "100%|██████████| 1/1 [00:00<00:00, 223.32it/s]\n"
     ]
    },
    {
     "name": "stdout",
     "output_type": "stream",
     "text": [
      "Epoch 1/2\n",
      "12848/12848 [==============================] - 7s 528us/step - loss: 0.6468\n",
      "Epoch 2/2\n",
      "12848/12848 [==============================] - 5s 392us/step - loss: 0.6145\n"
     ]
    },
    {
     "name": "stderr",
     "output_type": "stream",
     "text": [
      "/Users/sammitchell/Desktop/Mekorot/Project/keras_model.py:93: RuntimeWarning: invalid value encountered in long_scalars\n",
      "  NPV = (tn) / (tn + fn)\n",
      "100%|██████████| 2/2 [00:00<00:00, 254.59it/s]\n"
     ]
    },
    {
     "name": "stdout",
     "output_type": "stream",
     "text": [
      "Epoch 1/2\n",
      "12851/12851 [==============================] - 8s 652us/step - loss: 0.6441\n",
      "Epoch 2/2\n",
      "12851/12851 [==============================] - 6s 484us/step - loss: 0.6108\n"
     ]
    },
    {
     "name": "stderr",
     "output_type": "stream",
     "text": [
      "100%|██████████| 2/2 [00:00<00:00, 247.07it/s]\n"
     ]
    },
    {
     "name": "stdout",
     "output_type": "stream",
     "text": [
      "Epoch 1/2\n",
      "12848/12848 [==============================] - 9s 722us/step - loss: 0.6401\n",
      "Epoch 2/2\n",
      "12848/12848 [==============================] - 6s 480us/step - loss: 0.6089\n"
     ]
    },
    {
     "name": "stderr",
     "output_type": "stream",
     "text": [
      "100%|██████████| 2/2 [00:00<00:00, 252.11it/s]\n"
     ]
    },
    {
     "name": "stdout",
     "output_type": "stream",
     "text": [
      "Epoch 1/2\n",
      "12844/12844 [==============================] - 8s 617us/step - loss: 0.6344\n",
      "Epoch 2/2\n",
      "12844/12844 [==============================] - 6s 482us/step - loss: 0.6027\n"
     ]
    }
   ],
   "source": [
    "results_list = []\n",
    "steps_in = 3\n",
    "steps_out = 4\n",
    "for i in range(1, steps_in):\n",
    "    for j in range(1, steps_out):\n",
    "        X, Y = km.create_join_x_y_arr(reactor_list, n_steps_in=i, n_steps_out=j, binary=True)\n",
    "        X_normalize, Y_normalize, scalers = km.normalize(X, Y)\n",
    "        Xtrain, Xtest, ytrain, ytest = train_test_split(X_normalize, Y_normalize, test_size=0.20, random_state=42)\n",
    "        model = Sequential()\n",
    "        model.add(LSTM(units=50, activation='relu', name='first_lstm', recurrent_dropout=0.1, input_shape=(Xtrain.shape[1], Xtrain.shape[2])))\n",
    "        model.add(Dense(25, activation='relu'))\n",
    "        model.add(Dense(1, activation=\"sigmoid\"))\n",
    "        model.compile(optimizer=Adam(learning_rate=0.0001), loss='binary_crossentropy')\n",
    "        model.fit(Xtrain, ytrain, epochs=2, batch_size=10, shuffle=True)\n",
    "        Yhat, Ytest = km.evaluate(model, Xtest, ytest, scalers, binary=True)\n",
    "        y_predict = np.rint(Yhat).astype(int)\n",
    "        y_real = Ytest.astype(int)\n",
    "        results_list.append(km.results(y_real, y_predict))\n",
    "    \n"
   ]
  },
  {
   "cell_type": "code",
   "execution_count": 136,
   "metadata": {},
   "outputs": [
    {
     "data": {
      "text/plain": [
       "(6, 4)"
      ]
     },
     "execution_count": 136,
     "metadata": {},
     "output_type": "execute_result"
    }
   ],
   "source": [
    "np.shape(results_list)"
   ]
  },
  {
   "cell_type": "code",
   "execution_count": 137,
   "metadata": {},
   "outputs": [],
   "source": [
    "(unique, counts) = np.unique(ytrain, return_counts=True)\n",
    "frequencies = np.asarray((unique, counts)).T"
   ]
  },
  {
   "cell_type": "code",
   "execution_count": 138,
   "metadata": {},
   "outputs": [
    {
     "data": {
      "text/plain": [
       "array([[0.000e+00, 4.146e+03],\n",
       "       [1.000e+00, 8.698e+03]])"
      ]
     },
     "execution_count": 138,
     "metadata": {},
     "output_type": "execute_result"
    }
   ],
   "source": [
    "frequencies"
   ]
  },
  {
   "cell_type": "code",
   "execution_count": 139,
   "metadata": {},
   "outputs": [
    {
     "data": {
      "text/plain": [
       "[(0.6757934038581207, 0.0, nan, nan),\n",
       " (0.6890756302521008, 0.001, 1.0, 0.0019980019980019984),\n",
       " (0.6843088418430884, 0.0, nan, nan),\n",
       " (0.6890756302521008, 0.001, 1.0, 0.0019980019980019984),\n",
       " (0.6889788293897883, 0.014792899408284023, 1.0, 0.029154518950437316),\n",
       " (0.686799501867995, 0.016617790811339198, 1.0, 0.032692307692307694)]"
      ]
     },
     "execution_count": 139,
     "metadata": {},
     "output_type": "execute_result"
    }
   ],
   "source": [
    "results_list\n",
    "'''\n",
    "[(1, 1),\n",
    "(1, 2),\n",
    "(1, 3),\n",
    "(2, 1),\n",
    "(2, 2),\n",
    "(2, 3),]\n",
    "'''"
   ]
  },
  {
   "cell_type": "code",
   "execution_count": 151,
   "metadata": {},
   "outputs": [],
   "source": [
    "results_list = [(0.6757934038581207, 0.0, 0, 0),\n",
    " (0.6890756302521008, 0.001, 1.0, 0.0019980019980019984),\n",
    " (0.6843088418430884, 0.0, 0, 0),\n",
    " (0.6890756302521008, 0.001, 1.0, 0.0019980019980019984),\n",
    " (0.6889788293897883, 0.014792899408284023, 1.0, 0.029154518950437316),\n",
    " (0.686799501867995, 0.016617790811339198, 1.0, 0.032692307692307694)]"
   ]
  },
  {
   "cell_type": "code",
   "execution_count": 159,
   "metadata": {},
   "outputs": [],
   "source": [
    "#plot graph of a metric result for all n_step_in and n_step_out values\n",
    "x=list(range(1, steps_out))\n",
    "label = ['accuracy', 'TNR', 'NPV', 'f1']\n",
    "for z in range(4):\n",
    "    for i in range(steps_in-1):\n",
    "        y=[]\n",
    "        for j in range(steps_out-1):\n",
    "            y.append(results_list[i*(steps_out-1):i*(steps_out-1) + (steps_out-1)][j][z])\n",
    "        plt.plot(x, y, label=f'n_steps_in={i+1}')\n",
    "    plt.legend(loc='center left', bbox_to_anchor=(1, 0.5))\n",
    "    plt.xlabel(\"n_steps_out\")\n",
    "    plt.ylabel(label[z])\n",
    "    plt.title(\"Simple LSTM, 3 layers (50,25,1),\\n name='first_lstm', recurrent_dropout=0.1 \\n optimizer='adam', loss='binary_crossentropy' \")\n",
    "    plt.savefig(f\"figures/Simple LSTM {label[z]}.png\", bbox_inches=\"tight\")\n",
    "    plt.close()"
   ]
  },
  {
   "cell_type": "code",
   "execution_count": 163,
   "metadata": {},
   "outputs": [],
   "source": [
    "#plot graph of all metric results for a n_step_in value\n",
    "x=list(range(1, steps_out))\n",
    "label = ['accuracy', 'TNR', 'NPV', 'f1']\n",
    "for z in range(steps_in-1):\n",
    "    for i in range(4):\n",
    "        y=[]\n",
    "        for j in range(steps_out-1):\n",
    "            y.append(results_list[z*(steps_out-1):z*(steps_out-1)+(steps_out-1)][j][i])\n",
    "        plt.plot(x, y, label=label[i])\n",
    "    plt.legend(loc='center left', bbox_to_anchor=(1, 0.5))\n",
    "    plt.xlabel(\"n_steps_out\")\n",
    "    plt.ylabel('Metric value')\n",
    "    plt.title(f\"Simple LSTM, 3 layers (50,25,1),\\n name='first_lstm', recurrent_dropout=0.1 \\n optimizer='adam', loss='binary_crossentropy' \\n n_steps_in={z+1} \")\n",
    "    plt.savefig(f\"figures/Simple_LSTM/Simple LSTM n_steps_in={z+1}.png\", bbox_inches=\"tight\")\n",
    "    plt.close()"
   ]
  },
  {
   "cell_type": "code",
   "execution_count": null,
   "metadata": {},
   "outputs": [],
   "source": []
  }
 ],
 "metadata": {
  "kernelspec": {
   "display_name": "TF",
   "language": "python",
   "name": "tf"
  },
  "language_info": {
   "codemirror_mode": {
    "name": "ipython",
    "version": 3
   },
   "file_extension": ".py",
   "mimetype": "text/x-python",
   "name": "python",
   "nbconvert_exporter": "python",
   "pygments_lexer": "ipython3",
   "version": "3.7.9"
  }
 },
 "nbformat": 4,
 "nbformat_minor": 4
}

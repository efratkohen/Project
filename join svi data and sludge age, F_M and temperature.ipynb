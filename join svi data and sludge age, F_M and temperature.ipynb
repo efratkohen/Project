{
 "cells": [
  {
   "cell_type": "code",
   "execution_count": 1,
   "metadata": {},
   "outputs": [
    {
     "name": "stderr",
     "output_type": "stream",
     "text": [
      "Using TensorFlow backend.\n"
     ]
    }
   ],
   "source": [
    "import clean_data_svi as cds\n",
    "import supervised as sup\n",
    "import pathlib\n",
    "import keras_model as km\n",
    "import pandas as pd\n",
    "import numpy as np\n",
    "import matplotlib.pyplot as plt\n",
    "from math import sqrt\n",
    "from datetime import timedelta, datetime\n",
    "from sklearn.model_selection import train_test_split\n",
    "from sklearn.preprocessing import MinMaxScaler\n",
    "from sklearn.metrics import mean_squared_error\n",
    "from tqdm import tqdm\n",
    "import tensorflow as tf\n",
    "from tensorflow import keras\n",
    "from keras.models import Sequential\n",
    "from keras.layers import Activation, Dense, LSTM\n",
    "from keras.optimizers import Adam\n",
    "from keras.metrics import categorical_crossentropy\n",
    "from sklearn import preprocessing\n",
    "from sklearn.decomposition import PCA\n",
    "from sklearn.metrics import mean_squared_error, median_absolute_error, roc_curve, auc, f1_score, precision_recall_curve, r2_score\n",
    "from sklearn.metrics import confusion_matrix\n",
    "from sklearn.metrics import plot_confusion_matrix\n"
   ]
  },
  {
   "cell_type": "code",
   "execution_count": 2,
   "metadata": {},
   "outputs": [],
   "source": [
    "SVI_list = []\n",
    "for i in range(4):\n",
    "    df = pd.read_csv(f\"clean_tables/svi_{i+1}.csv\", index_col=\"date\")\n",
    "    df = df.drop(columns=['Settling_velocity', 'SV_label', 'SVI_label'])\n",
    "    df.index = pd.to_datetime(df.index, dayfirst=True)\n",
    "    SVI_list.append(df)"
   ]
  },
  {
   "cell_type": "code",
   "execution_count": 3,
   "metadata": {},
   "outputs": [],
   "source": [
    "temp_df = pd.read_csv(\"clean_tables/temperatur.csv\", index_col=\"date\")\n",
    "temp_df.index = pd.to_datetime(temp_df.index, dayfirst=True)\n",
    "sludge_age_df = pd.read_csv(\"clean_tables/sludge_age_f_m.csv\", index_col=\"date\")\n",
    "sludge_age_df.index = pd.to_datetime(sludge_age_df.index, dayfirst=True)"
   ]
  },
  {
   "cell_type": "code",
   "execution_count": 4,
   "metadata": {},
   "outputs": [],
   "source": [
    "reactor_list = []\n",
    "for i in range(4):\n",
    "    join = pd.concat([SVI_list[i], temp_df], axis=1)\n",
    "    if i <=1:\n",
    "        join = pd.concat([join, sludge_age_df.iloc[:, np.r_[0, 2]]], axis=1)\n",
    "    else:\n",
    "        join = pd.concat([join, sludge_age_df.iloc[:, np.r_[1, 3]]], axis=1)\n",
    "    months_df = pd.get_dummies(join.index.month, prefix='month')\n",
    "    months_df.index=join.index\n",
    "    join = pd.concat([join, months_df], axis=1)\n",
    "    reactor_list.append(join)"
   ]
  },
  {
   "cell_type": "code",
   "execution_count": 5,
   "metadata": {},
   "outputs": [
    {
     "data": {
      "text/html": [
       "<div>\n",
       "<style scoped>\n",
       "    .dataframe tbody tr th:only-of-type {\n",
       "        vertical-align: middle;\n",
       "    }\n",
       "\n",
       "    .dataframe tbody tr th {\n",
       "        vertical-align: top;\n",
       "    }\n",
       "\n",
       "    .dataframe thead th {\n",
       "        text-align: right;\n",
       "    }\n",
       "</style>\n",
       "<table border=\"1\" class=\"dataframe\">\n",
       "  <thead>\n",
       "    <tr style=\"text-align: right;\">\n",
       "      <th></th>\n",
       "      <th>SVI</th>\n",
       "      <th>Temperature</th>\n",
       "      <th>F_M - A</th>\n",
       "      <th>Sludge Age - A</th>\n",
       "      <th>month_1</th>\n",
       "      <th>month_2</th>\n",
       "      <th>month_3</th>\n",
       "      <th>month_4</th>\n",
       "      <th>month_5</th>\n",
       "      <th>month_6</th>\n",
       "      <th>month_7</th>\n",
       "      <th>month_8</th>\n",
       "      <th>month_9</th>\n",
       "      <th>month_10</th>\n",
       "      <th>month_11</th>\n",
       "      <th>month_12</th>\n",
       "    </tr>\n",
       "    <tr>\n",
       "      <th>date</th>\n",
       "      <th></th>\n",
       "      <th></th>\n",
       "      <th></th>\n",
       "      <th></th>\n",
       "      <th></th>\n",
       "      <th></th>\n",
       "      <th></th>\n",
       "      <th></th>\n",
       "      <th></th>\n",
       "      <th></th>\n",
       "      <th></th>\n",
       "      <th></th>\n",
       "      <th></th>\n",
       "      <th></th>\n",
       "      <th></th>\n",
       "      <th></th>\n",
       "    </tr>\n",
       "  </thead>\n",
       "  <tbody>\n",
       "    <tr>\n",
       "      <th>2010-01-01</th>\n",
       "      <td>90.943683</td>\n",
       "      <td>22.030</td>\n",
       "      <td>0.23</td>\n",
       "      <td>3.44</td>\n",
       "      <td>1</td>\n",
       "      <td>0</td>\n",
       "      <td>0</td>\n",
       "      <td>0</td>\n",
       "      <td>0</td>\n",
       "      <td>0</td>\n",
       "      <td>0</td>\n",
       "      <td>0</td>\n",
       "      <td>0</td>\n",
       "      <td>0</td>\n",
       "      <td>0</td>\n",
       "      <td>0</td>\n",
       "    </tr>\n",
       "    <tr>\n",
       "      <th>2010-01-02</th>\n",
       "      <td>84.365325</td>\n",
       "      <td>21.985</td>\n",
       "      <td>0.18</td>\n",
       "      <td>3.78</td>\n",
       "      <td>1</td>\n",
       "      <td>0</td>\n",
       "      <td>0</td>\n",
       "      <td>0</td>\n",
       "      <td>0</td>\n",
       "      <td>0</td>\n",
       "      <td>0</td>\n",
       "      <td>0</td>\n",
       "      <td>0</td>\n",
       "      <td>0</td>\n",
       "      <td>0</td>\n",
       "      <td>0</td>\n",
       "    </tr>\n",
       "    <tr>\n",
       "      <th>2010-01-03</th>\n",
       "      <td>94.541139</td>\n",
       "      <td>21.740</td>\n",
       "      <td>0.21</td>\n",
       "      <td>3.82</td>\n",
       "      <td>1</td>\n",
       "      <td>0</td>\n",
       "      <td>0</td>\n",
       "      <td>0</td>\n",
       "      <td>0</td>\n",
       "      <td>0</td>\n",
       "      <td>0</td>\n",
       "      <td>0</td>\n",
       "      <td>0</td>\n",
       "      <td>0</td>\n",
       "      <td>0</td>\n",
       "      <td>0</td>\n",
       "    </tr>\n",
       "    <tr>\n",
       "      <th>2010-01-04</th>\n",
       "      <td>97.402597</td>\n",
       "      <td>21.815</td>\n",
       "      <td>0.21</td>\n",
       "      <td>3.40</td>\n",
       "      <td>1</td>\n",
       "      <td>0</td>\n",
       "      <td>0</td>\n",
       "      <td>0</td>\n",
       "      <td>0</td>\n",
       "      <td>0</td>\n",
       "      <td>0</td>\n",
       "      <td>0</td>\n",
       "      <td>0</td>\n",
       "      <td>0</td>\n",
       "      <td>0</td>\n",
       "      <td>0</td>\n",
       "    </tr>\n",
       "    <tr>\n",
       "      <th>2010-01-05</th>\n",
       "      <td>107.937685</td>\n",
       "      <td>21.890</td>\n",
       "      <td>0.23</td>\n",
       "      <td>3.70</td>\n",
       "      <td>1</td>\n",
       "      <td>0</td>\n",
       "      <td>0</td>\n",
       "      <td>0</td>\n",
       "      <td>0</td>\n",
       "      <td>0</td>\n",
       "      <td>0</td>\n",
       "      <td>0</td>\n",
       "      <td>0</td>\n",
       "      <td>0</td>\n",
       "      <td>0</td>\n",
       "      <td>0</td>\n",
       "    </tr>\n",
       "    <tr>\n",
       "      <th>...</th>\n",
       "      <td>...</td>\n",
       "      <td>...</td>\n",
       "      <td>...</td>\n",
       "      <td>...</td>\n",
       "      <td>...</td>\n",
       "      <td>...</td>\n",
       "      <td>...</td>\n",
       "      <td>...</td>\n",
       "      <td>...</td>\n",
       "      <td>...</td>\n",
       "      <td>...</td>\n",
       "      <td>...</td>\n",
       "      <td>...</td>\n",
       "      <td>...</td>\n",
       "      <td>...</td>\n",
       "      <td>...</td>\n",
       "    </tr>\n",
       "    <tr>\n",
       "      <th>2020-12-27</th>\n",
       "      <td>166.666667</td>\n",
       "      <td>22.540</td>\n",
       "      <td>0.25</td>\n",
       "      <td>2.75</td>\n",
       "      <td>0</td>\n",
       "      <td>0</td>\n",
       "      <td>0</td>\n",
       "      <td>0</td>\n",
       "      <td>0</td>\n",
       "      <td>0</td>\n",
       "      <td>0</td>\n",
       "      <td>0</td>\n",
       "      <td>0</td>\n",
       "      <td>0</td>\n",
       "      <td>0</td>\n",
       "      <td>1</td>\n",
       "    </tr>\n",
       "    <tr>\n",
       "      <th>2020-12-28</th>\n",
       "      <td>147.453083</td>\n",
       "      <td>22.535</td>\n",
       "      <td>0.26</td>\n",
       "      <td>2.91</td>\n",
       "      <td>0</td>\n",
       "      <td>0</td>\n",
       "      <td>0</td>\n",
       "      <td>0</td>\n",
       "      <td>0</td>\n",
       "      <td>0</td>\n",
       "      <td>0</td>\n",
       "      <td>0</td>\n",
       "      <td>0</td>\n",
       "      <td>0</td>\n",
       "      <td>0</td>\n",
       "      <td>1</td>\n",
       "    </tr>\n",
       "    <tr>\n",
       "      <th>2020-12-29</th>\n",
       "      <td>154.702970</td>\n",
       "      <td>22.660</td>\n",
       "      <td>0.26</td>\n",
       "      <td>2.82</td>\n",
       "      <td>0</td>\n",
       "      <td>0</td>\n",
       "      <td>0</td>\n",
       "      <td>0</td>\n",
       "      <td>0</td>\n",
       "      <td>0</td>\n",
       "      <td>0</td>\n",
       "      <td>0</td>\n",
       "      <td>0</td>\n",
       "      <td>0</td>\n",
       "      <td>0</td>\n",
       "      <td>1</td>\n",
       "    </tr>\n",
       "    <tr>\n",
       "      <th>2020-12-30</th>\n",
       "      <td>159.722222</td>\n",
       "      <td>22.660</td>\n",
       "      <td>0.27</td>\n",
       "      <td>2.91</td>\n",
       "      <td>0</td>\n",
       "      <td>0</td>\n",
       "      <td>0</td>\n",
       "      <td>0</td>\n",
       "      <td>0</td>\n",
       "      <td>0</td>\n",
       "      <td>0</td>\n",
       "      <td>0</td>\n",
       "      <td>0</td>\n",
       "      <td>0</td>\n",
       "      <td>0</td>\n",
       "      <td>1</td>\n",
       "    </tr>\n",
       "    <tr>\n",
       "      <th>2020-12-31</th>\n",
       "      <td>167.597765</td>\n",
       "      <td>22.735</td>\n",
       "      <td>0.27</td>\n",
       "      <td>2.91</td>\n",
       "      <td>0</td>\n",
       "      <td>0</td>\n",
       "      <td>0</td>\n",
       "      <td>0</td>\n",
       "      <td>0</td>\n",
       "      <td>0</td>\n",
       "      <td>0</td>\n",
       "      <td>0</td>\n",
       "      <td>0</td>\n",
       "      <td>0</td>\n",
       "      <td>0</td>\n",
       "      <td>1</td>\n",
       "    </tr>\n",
       "  </tbody>\n",
       "</table>\n",
       "<p>4018 rows × 16 columns</p>\n",
       "</div>"
      ],
      "text/plain": [
       "                   SVI  Temperature  F_M - A  Sludge Age - A  month_1  \\\n",
       "date                                                                    \n",
       "2010-01-01   90.943683       22.030     0.23            3.44        1   \n",
       "2010-01-02   84.365325       21.985     0.18            3.78        1   \n",
       "2010-01-03   94.541139       21.740     0.21            3.82        1   \n",
       "2010-01-04   97.402597       21.815     0.21            3.40        1   \n",
       "2010-01-05  107.937685       21.890     0.23            3.70        1   \n",
       "...                ...          ...      ...             ...      ...   \n",
       "2020-12-27  166.666667       22.540     0.25            2.75        0   \n",
       "2020-12-28  147.453083       22.535     0.26            2.91        0   \n",
       "2020-12-29  154.702970       22.660     0.26            2.82        0   \n",
       "2020-12-30  159.722222       22.660     0.27            2.91        0   \n",
       "2020-12-31  167.597765       22.735     0.27            2.91        0   \n",
       "\n",
       "            month_2  month_3  month_4  month_5  month_6  month_7  month_8  \\\n",
       "date                                                                        \n",
       "2010-01-01        0        0        0        0        0        0        0   \n",
       "2010-01-02        0        0        0        0        0        0        0   \n",
       "2010-01-03        0        0        0        0        0        0        0   \n",
       "2010-01-04        0        0        0        0        0        0        0   \n",
       "2010-01-05        0        0        0        0        0        0        0   \n",
       "...             ...      ...      ...      ...      ...      ...      ...   \n",
       "2020-12-27        0        0        0        0        0        0        0   \n",
       "2020-12-28        0        0        0        0        0        0        0   \n",
       "2020-12-29        0        0        0        0        0        0        0   \n",
       "2020-12-30        0        0        0        0        0        0        0   \n",
       "2020-12-31        0        0        0        0        0        0        0   \n",
       "\n",
       "            month_9  month_10  month_11  month_12  \n",
       "date                                               \n",
       "2010-01-01        0         0         0         0  \n",
       "2010-01-02        0         0         0         0  \n",
       "2010-01-03        0         0         0         0  \n",
       "2010-01-04        0         0         0         0  \n",
       "2010-01-05        0         0         0         0  \n",
       "...             ...       ...       ...       ...  \n",
       "2020-12-27        0         0         0         1  \n",
       "2020-12-28        0         0         0         1  \n",
       "2020-12-29        0         0         0         1  \n",
       "2020-12-30        0         0         0         1  \n",
       "2020-12-31        0         0         0         1  \n",
       "\n",
       "[4018 rows x 16 columns]"
      ]
     },
     "execution_count": 5,
     "metadata": {},
     "output_type": "execute_result"
    }
   ],
   "source": [
    "reactor_list[0]"
   ]
  },
  {
   "cell_type": "code",
   "execution_count": 6,
   "metadata": {},
   "outputs": [],
   "source": [
    "X, Y = km.create_join_x_y_arr(reactor_list, n_steps_in=2, binary=True)"
   ]
  },
  {
   "cell_type": "code",
   "execution_count": 7,
   "metadata": {},
   "outputs": [
    {
     "data": {
      "text/plain": [
       "(16064, 2, 16)"
      ]
     },
     "execution_count": 7,
     "metadata": {},
     "output_type": "execute_result"
    }
   ],
   "source": [
    "X.shape"
   ]
  },
  {
   "cell_type": "code",
   "execution_count": 8,
   "metadata": {},
   "outputs": [
    {
     "data": {
      "text/plain": [
       "array([[90.94368341, 22.03      ,  0.23      ,  3.44      ,  1.        ,\n",
       "         0.        ,  0.        ,  0.        ,  0.        ,  0.        ,\n",
       "         0.        ,  0.        ,  0.        ,  0.        ,  0.        ,\n",
       "         0.        ],\n",
       "       [84.36532508, 21.985     ,  0.18      ,  3.78      ,  1.        ,\n",
       "         0.        ,  0.        ,  0.        ,  0.        ,  0.        ,\n",
       "         0.        ,  0.        ,  0.        ,  0.        ,  0.        ,\n",
       "         0.        ]])"
      ]
     },
     "execution_count": 8,
     "metadata": {},
     "output_type": "execute_result"
    }
   ],
   "source": [
    "X[0]"
   ]
  },
  {
   "cell_type": "code",
   "execution_count": 9,
   "metadata": {},
   "outputs": [
    {
     "data": {
      "text/plain": [
       "array([1.])"
      ]
     },
     "execution_count": 9,
     "metadata": {},
     "output_type": "execute_result"
    }
   ],
   "source": [
    "Y[0]"
   ]
  },
  {
   "cell_type": "code",
   "execution_count": 43,
   "metadata": {},
   "outputs": [
    {
     "name": "stderr",
     "output_type": "stream",
     "text": [
      "100%|██████████| 10/10 [00:00<00:00, 141.38it/s]\n"
     ]
    },
    {
     "name": "stdout",
     "output_type": "stream",
     "text": [
      "Epoch 1/3\n",
      "14396/14396 [==============================] - 20s 1ms/step - loss: 0.5655 - binary_accuracy: 0.6908\n",
      "Epoch 2/3\n",
      "14396/14396 [==============================] - 16s 1ms/step - loss: 0.5111 - binary_accuracy: 0.7230\n",
      "Epoch 3/3\n",
      "14396/14396 [==============================] - 16s 1ms/step - loss: 0.4976 - binary_accuracy: 0.7316\n"
     ]
    },
    {
     "data": {
      "text/plain": [
       "<keras.callbacks.callbacks.History at 0x7fe7952a8fd0>"
      ]
     },
     "execution_count": 43,
     "metadata": {},
     "output_type": "execute_result"
    }
   ],
   "source": [
    "X_normalize, Y_normalize, scalers = km.normalize(X, Y)\n",
    "Xtrain, Xtest, ytrain, ytest = train_test_split(X_normalize, Y_normalize, test_size=0.10, random_state=42)\n",
    "model = Sequential()\n",
    "model.add(LSTM(units=50, activation='relu', name='first_lstm', recurrent_dropout=0.1, input_shape=(Xtrain.shape[1], Xtrain.shape[2])))\n",
    "model.add(Dense(25, activation='relu'))\n",
    "model.add(Dense(1, activation=\"sigmoid\"))\n",
    "model.compile(optimizer='adam', loss='binary_crossentropy', \n",
    "              metrics=[keras.metrics.BinaryAccuracy(name='binary_accuracy', dtype=None, threshold=0.5)])\n",
    "model.fit(Xtrain, ytrain, epochs=3, batch_size=10, shuffle=True)\n"
   ]
  },
  {
   "cell_type": "code",
   "execution_count": 60,
   "metadata": {},
   "outputs": [],
   "source": [
    "Yhat, Ytest = km.evaluate(model, Xtest, ytest, scalers, binary=True)"
   ]
  },
  {
   "cell_type": "code",
   "execution_count": 111,
   "metadata": {},
   "outputs": [],
   "source": [
    "def threshold_for_max_f1(y_real, y_predict):\n",
    "    f1_vals = []\n",
    "    for i in range(1, 100):\n",
    "        threshold = i/100\n",
    "        y_predict = np.where(Yhat > threshold, 1, 0).astype(int)\n",
    "        y_real = Ytest.astype(int)\n",
    "        \n",
    "        f1 = km.results(y_real, y_predict, binary=True)[3]\n",
    "        f1_vals.append(f1)\n",
    "    print(f1_vals)\n",
    "    return (f1_vals.index(max(f1_vals))+1)/100\n",
    "    \n",
    "    "
   ]
  },
  {
   "cell_type": "code",
   "execution_count": 112,
   "metadata": {},
   "outputs": [
    {
     "name": "stdout",
     "output_type": "stream",
     "text": [
      "[0.007722007722007722, 0.011560693641618497, 0.015384615384615384, 0.022988505747126436, 0.03802281368821293, 0.04914933837429111, 0.04914933837429111, 0.05639097744360902, 0.06367041198501873, 0.07806691449814127, 0.09208103130755066, 0.09506398537477148, 0.10869565217391304, 0.10869565217391304, 0.12567324955116696, 0.13214285714285715, 0.15520282186948853, 0.1681260945709282, 0.1840277777777778, 0.1899827288428325, 0.20240137221269297, 0.22335025380710657, 0.24080267558528431, 0.25412541254125415, 0.26143790849673204, 0.27419354838709675, 0.2852564102564103, 0.3118110236220472, 0.32868217054263565, 0.3460949464012251, 0.350609756097561, 0.36771300448430494, 0.38360175695461196, 0.3819241982507289, 0.3971223021582733, 0.40567375886524826, 0.413986013986014, 0.4408163265306122, 0.4574468085106383, 0.4742268041237113, 0.5012531328320803, 0.5249088699878494, 0.5271867612293145, 0.5393518518518519, 0.5559322033898305, 0.5625692137320044, 0.5736095965103599, 0.5830653804930334, 0.5807814149947201, 0.5826446280991736, 0.584771573604061, 0.5905511811023623, 0.5932367149758453, 0.5969581749049429, 0.604089219330855, 0.6092475067996375, 0.6108637577916295, 0.6089238845144357, 0.611063829787234, 0.6034912718204488, 0.6040485829959514, 0.6030230708035005, 0.6051602814698984, 0.6, 0.5970149253731343, 0.6016023306627822, 0.6025459688826025, 0.6004140786749482, 0.598371777476255, 0.5996002664890072, 0.6031331592689295, 0.5992317541613317, 0.5956112852664577, 0.5958230958230958, 0.5880217785843921, 0.5834818775995246, 0.5789473684210527, 0.5787037037037037, 0.5730659025787966, 0.5701306076093129, 0.5602678571428571, 0.5543358946212952, 0.5509761388286334, 0.5472103004291845, 0.5407407407407407, 0.536406495547407, 0.5307811691670978, 0.5255623721881391, 0.5196770938446014, 0.5147426286856571, 0.5114200595829197, 0.508893280632411, 0.5063788027477919, 0.5019455252918288, 0.4975891996142719, 0.4935437589670014, 0.49026128266033253, 0.48863636363636365, 0.4884051112162802]\n"
     ]
    }
   ],
   "source": [
    "threshold = threshold_for_max_f1(y_real, y_predict)\n",
    "y_predict = np.where(Yhat > threshold, 1, 0).astype(int)\n",
    "y_real = Ytest.astype(int)"
   ]
  },
  {
   "cell_type": "code",
   "execution_count": 109,
   "metadata": {},
   "outputs": [
    {
     "data": {
      "text/plain": [
       "0.59"
      ]
     },
     "execution_count": 109,
     "metadata": {},
     "output_type": "execute_result"
    }
   ],
   "source": [
    "threshold"
   ]
  },
  {
   "cell_type": "code",
   "execution_count": 110,
   "metadata": {},
   "outputs": [
    {
     "data": {
      "text/plain": [
       "(0.714375, 0.6957364341085271, 0.5447647951441578, 0.611063829787234)"
      ]
     },
     "execution_count": 110,
     "metadata": {},
     "output_type": "execute_result"
    }
   ],
   "source": [
    "results = km.results(y_real, y_predict, binary=True)\n",
    "results"
   ]
  },
  {
   "cell_type": "code",
   "execution_count": 54,
   "metadata": {},
   "outputs": [],
   "source": [
    "classes = ['High_svi', 'Low_svi']"
   ]
  },
  {
   "cell_type": "code",
   "execution_count": 55,
   "metadata": {},
   "outputs": [],
   "source": [
    "cm = confusion_matrix(y_real, y_predict)"
   ]
  },
  {
   "cell_type": "code",
   "execution_count": 56,
   "metadata": {},
   "outputs": [
    {
     "name": "stdout",
     "output_type": "stream",
     "text": [
      "Confusion matrix, without normalization\n",
      "[[450  66]\n",
      " [535 549]]\n"
     ]
    },
    {
     "data": {
      "image/png": "[encoded data removed]",
      "text/plain": [
       "<Figure size 432x288 with 2 Axes>"
      ]
     },
     "metadata": {
      "needs_background": "light"
     },
     "output_type": "display_data"
    }
   ],
   "source": [
    "sup.plot_confusion_matrix(cm, classes,\n",
    "                          normalize=False,\n",
    "                          title='Confusion matrix',\n",
    "                          cmap=plt.cm.Blues)"
   ]
  },
  {
   "cell_type": "code",
   "execution_count": 65,
   "metadata": {},
   "outputs": [],
   "source": [
    "results = km.results(y_real, y_predict, binary=True)"
   ]
  },
  {
   "cell_type": "code",
   "execution_count": 66,
   "metadata": {},
   "outputs": [
    {
     "data": {
      "text/plain": [
       "(0.393125, 0.998062015503876, 0.3468013468013468, 0.5147426286856571)"
      ]
     },
     "execution_count": 66,
     "metadata": {},
     "output_type": "execute_result"
    }
   ],
   "source": [
    "results"
   ]
  },
  {
   "cell_type": "code",
   "execution_count": 20,
   "metadata": {},
   "outputs": [],
   "source": [
    "fpr, tpr, thresholds = roc_curve(Ytest, Yhat)"
   ]
  },
  {
   "cell_type": "code",
   "execution_count": 21,
   "metadata": {},
   "outputs": [
    {
     "data": {
      "text/plain": [
       "0.8705271651425497"
      ]
     },
     "execution_count": 21,
     "metadata": {},
     "output_type": "execute_result"
    }
   ],
   "source": [
    "auc(fpr, tpr)"
   ]
  },
  {
   "cell_type": "code",
   "execution_count": 22,
   "metadata": {},
   "outputs": [
    {
     "data": {
      "text/plain": [
       "Text(0.5, 1.0, 'ROC curve')"
      ]
     },
     "execution_count": 22,
     "metadata": {},
     "output_type": "execute_result"
    },
    {
     "data": {
      "image/png": "[encoded data removed]",
      "text/plain": [
       "<Figure size 432x288 with 1 Axes>"
      ]
     },
     "metadata": {
      "needs_background": "light"
     },
     "output_type": "display_data"
    }
   ],
   "source": [
    "plt.plot(fpr, tpr)\n",
    "plt.xlabel('False Positive Rate')\n",
    "plt.ylabel('True Positive Rate')\n",
    "plt.title('ROC curve')"
   ]
  },
  {
   "cell_type": "code",
   "execution_count": 34,
   "metadata": {},
   "outputs": [
    {
     "name": "stderr",
     "output_type": "stream",
     "text": [
      "100%|██████████| 1/1 [00:00<00:00, 227.01it/s]\n"
     ]
    },
    {
     "name": "stdout",
     "output_type": "stream",
     "text": [
      "Epoch 1/2\n",
      "12854/12854 [==============================] - 6s 436us/step - loss: 0.6416\n",
      "Epoch 2/2\n",
      "12854/12854 [==============================] - 4s 319us/step - loss: 0.6118\n"
     ]
    },
    {
     "name": "stderr",
     "output_type": "stream",
     "text": [
      "/Users/sammitchell/Desktop/Mekorot/Project/keras_model.py:93: RuntimeWarning: invalid value encountered in long_scalars\n",
      "  NPV = (tn) / (tn + fn)\n",
      "100%|██████████| 1/1 [00:00<00:00, 275.33it/s]\n"
     ]
    },
    {
     "name": "stdout",
     "output_type": "stream",
     "text": [
      "Epoch 1/2\n",
      "12851/12851 [==============================] - 7s 510us/step - loss: 0.6482\n",
      "Epoch 2/2\n",
      "12851/12851 [==============================] - 4s 331us/step - loss: 0.6164\n"
     ]
    },
    {
     "name": "stderr",
     "output_type": "stream",
     "text": [
      "/Users/sammitchell/Desktop/Mekorot/Project/keras_model.py:93: RuntimeWarning: invalid value encountered in long_scalars\n",
      "  NPV = (tn) / (tn + fn)\n",
      "100%|██████████| 1/1 [00:00<00:00, 265.53it/s]\n"
     ]
    },
    {
     "name": "stdout",
     "output_type": "stream",
     "text": [
      "Epoch 1/2\n",
      "12848/12848 [==============================] - 5s 399us/step - loss: 0.6425\n",
      "Epoch 2/2\n",
      "12848/12848 [==============================] - 4s 321us/step - loss: 0.6155\n"
     ]
    },
    {
     "name": "stderr",
     "output_type": "stream",
     "text": [
      "/Users/sammitchell/Desktop/Mekorot/Project/keras_model.py:93: RuntimeWarning: invalid value encountered in long_scalars\n",
      "  NPV = (tn) / (tn + fn)\n",
      "100%|██████████| 1/1 [00:00<00:00, 253.63it/s]\n"
     ]
    },
    {
     "name": "stdout",
     "output_type": "stream",
     "text": [
      "Epoch 1/2\n",
      "12844/12844 [==============================] - 5s 390us/step - loss: 0.6470\n",
      "Epoch 2/2\n",
      "12844/12844 [==============================] - 4s 348us/step - loss: 0.6156\n"
     ]
    },
    {
     "name": "stderr",
     "output_type": "stream",
     "text": [
      "/Users/sammitchell/Desktop/Mekorot/Project/keras_model.py:93: RuntimeWarning: invalid value encountered in long_scalars\n",
      "  NPV = (tn) / (tn + fn)\n",
      "100%|██████████| 1/1 [00:00<00:00, 220.71it/s]\n"
     ]
    },
    {
     "name": "stdout",
     "output_type": "stream",
     "text": [
      "Epoch 1/2\n",
      "12841/12841 [==============================] - 5s 400us/step - loss: 0.6448\n",
      "Epoch 2/2\n",
      "12841/12841 [==============================] - 4s 296us/step - loss: 0.6147\n"
     ]
    },
    {
     "name": "stderr",
     "output_type": "stream",
     "text": [
      "/Users/sammitchell/Desktop/Mekorot/Project/keras_model.py:93: RuntimeWarning: invalid value encountered in long_scalars\n",
      "  NPV = (tn) / (tn + fn)\n",
      "100%|██████████| 1/1 [00:00<00:00, 249.19it/s]\n"
     ]
    },
    {
     "name": "stdout",
     "output_type": "stream",
     "text": [
      "Epoch 1/2\n",
      "12838/12838 [==============================] - 7s 511us/step - loss: 0.6447\n",
      "Epoch 2/2\n",
      "12838/12838 [==============================] - 4s 337us/step - loss: 0.6151\n"
     ]
    },
    {
     "name": "stderr",
     "output_type": "stream",
     "text": [
      "/Users/sammitchell/Desktop/Mekorot/Project/keras_model.py:93: RuntimeWarning: invalid value encountered in long_scalars\n",
      "  NPV = (tn) / (tn + fn)\n",
      "100%|██████████| 1/1 [00:00<00:00, 243.49it/s]\n"
     ]
    },
    {
     "name": "stdout",
     "output_type": "stream",
     "text": [
      "Epoch 1/2\n",
      "12835/12835 [==============================] - 5s 409us/step - loss: 0.6486\n",
      "Epoch 2/2\n",
      "12835/12835 [==============================] - 4s 295us/step - loss: 0.6172\n"
     ]
    },
    {
     "name": "stderr",
     "output_type": "stream",
     "text": [
      "/Users/sammitchell/Desktop/Mekorot/Project/keras_model.py:93: RuntimeWarning: invalid value encountered in long_scalars\n",
      "  NPV = (tn) / (tn + fn)\n",
      "100%|██████████| 1/1 [00:00<00:00, 190.04it/s]\n"
     ]
    },
    {
     "name": "stdout",
     "output_type": "stream",
     "text": [
      "Epoch 1/2\n",
      "12832/12832 [==============================] - 6s 441us/step - loss: 0.6427\n",
      "Epoch 2/2\n",
      "12832/12832 [==============================] - 4s 298us/step - loss: 0.6161\n"
     ]
    },
    {
     "name": "stderr",
     "output_type": "stream",
     "text": [
      "/Users/sammitchell/Desktop/Mekorot/Project/keras_model.py:93: RuntimeWarning: invalid value encountered in long_scalars\n",
      "  NPV = (tn) / (tn + fn)\n",
      "100%|██████████| 1/1 [00:00<00:00, 246.38it/s]\n"
     ]
    },
    {
     "name": "stdout",
     "output_type": "stream",
     "text": [
      "Epoch 1/2\n",
      "12828/12828 [==============================] - 6s 500us/step - loss: 0.6460\n",
      "Epoch 2/2\n",
      "12828/12828 [==============================] - 4s 286us/step - loss: 0.6157\n"
     ]
    },
    {
     "name": "stderr",
     "output_type": "stream",
     "text": [
      "/Users/sammitchell/Desktop/Mekorot/Project/keras_model.py:93: RuntimeWarning: invalid value encountered in long_scalars\n",
      "  NPV = (tn) / (tn + fn)\n",
      "100%|██████████| 1/1 [00:00<00:00, 255.88it/s]\n"
     ]
    },
    {
     "name": "stdout",
     "output_type": "stream",
     "text": [
      "Epoch 1/2\n",
      "12825/12825 [==============================] - 6s 471us/step - loss: 0.6457\n",
      "Epoch 2/2\n",
      "12825/12825 [==============================] - 4s 322us/step - loss: 0.6167\n"
     ]
    },
    {
     "name": "stderr",
     "output_type": "stream",
     "text": [
      "/Users/sammitchell/Desktop/Mekorot/Project/keras_model.py:93: RuntimeWarning: invalid value encountered in long_scalars\n",
      "  NPV = (tn) / (tn + fn)\n",
      "100%|██████████| 2/2 [00:00<00:00, 209.79it/s]\n"
     ]
    },
    {
     "name": "stdout",
     "output_type": "stream",
     "text": [
      "Epoch 1/2\n",
      "12851/12851 [==============================] - 7s 518us/step - loss: 0.6349\n",
      "Epoch 2/2\n",
      "12851/12851 [==============================] - 5s 393us/step - loss: 0.5987\n"
     ]
    },
    {
     "name": "stderr",
     "output_type": "stream",
     "text": [
      "100%|██████████| 2/2 [00:00<00:00, 174.14it/s]\n"
     ]
    },
    {
     "name": "stdout",
     "output_type": "stream",
     "text": [
      "Epoch 1/2\n",
      "12848/12848 [==============================] - 7s 513us/step - loss: 0.6468\n",
      "Epoch 2/2\n",
      "12848/12848 [==============================] - 5s 388us/step - loss: 0.6094\n"
     ]
    },
    {
     "name": "stderr",
     "output_type": "stream",
     "text": [
      "/Users/sammitchell/Desktop/Mekorot/Project/keras_model.py:93: RuntimeWarning: invalid value encountered in long_scalars\n",
      "  NPV = (tn) / (tn + fn)\n",
      "100%|██████████| 2/2 [00:00<00:00, 248.45it/s]\n"
     ]
    },
    {
     "name": "stdout",
     "output_type": "stream",
     "text": [
      "Epoch 1/2\n",
      "12844/12844 [==============================] - 6s 504us/step - loss: 0.6402\n",
      "Epoch 2/2\n",
      "12844/12844 [==============================] - 5s 388us/step - loss: 0.6039\n"
     ]
    },
    {
     "name": "stderr",
     "output_type": "stream",
     "text": [
      "100%|██████████| 2/2 [00:00<00:00, 275.94it/s]\n"
     ]
    },
    {
     "name": "stdout",
     "output_type": "stream",
     "text": [
      "Epoch 1/2\n",
      "12841/12841 [==============================] - 6s 500us/step - loss: 0.6387\n",
      "Epoch 2/2\n",
      "12841/12841 [==============================] - 5s 381us/step - loss: 0.6089\n"
     ]
    },
    {
     "name": "stderr",
     "output_type": "stream",
     "text": [
      "100%|██████████| 2/2 [00:00<00:00, 287.85it/s]\n"
     ]
    },
    {
     "name": "stdout",
     "output_type": "stream",
     "text": [
      "Epoch 1/2\n",
      "12838/12838 [==============================] - 7s 508us/step - loss: 0.6392\n",
      "Epoch 2/2\n",
      "12838/12838 [==============================] - 5s 371us/step - loss: 0.6048\n"
     ]
    },
    {
     "name": "stderr",
     "output_type": "stream",
     "text": [
      "100%|██████████| 2/2 [00:00<00:00, 286.82it/s]\n"
     ]
    },
    {
     "name": "stdout",
     "output_type": "stream",
     "text": [
      "Epoch 1/2\n",
      "12835/12835 [==============================] - 6s 501us/step - loss: 0.6379\n",
      "Epoch 2/2\n",
      "12835/12835 [==============================] - 5s 392us/step - loss: 0.6057\n"
     ]
    },
    {
     "name": "stderr",
     "output_type": "stream",
     "text": [
      "100%|██████████| 2/2 [00:00<00:00, 289.73it/s]\n"
     ]
    },
    {
     "name": "stdout",
     "output_type": "stream",
     "text": [
      "Epoch 1/2\n",
      "12832/12832 [==============================] - 7s 541us/step - loss: 0.6358\n",
      "Epoch 2/2\n",
      "12832/12832 [==============================] - 6s 483us/step - loss: 0.6040\n"
     ]
    },
    {
     "name": "stderr",
     "output_type": "stream",
     "text": [
      "100%|██████████| 2/2 [00:00<00:00, 173.51it/s]\n"
     ]
    },
    {
     "name": "stdout",
     "output_type": "stream",
     "text": [
      "Epoch 1/2\n",
      "12828/12828 [==============================] - 7s 520us/step - loss: 0.6381\n",
      "Epoch 2/2\n",
      "12828/12828 [==============================] - 5s 396us/step - loss: 0.6047\n"
     ]
    },
    {
     "name": "stderr",
     "output_type": "stream",
     "text": [
      "100%|██████████| 2/2 [00:00<00:00, 286.57it/s]\n"
     ]
    },
    {
     "name": "stdout",
     "output_type": "stream",
     "text": [
      "Epoch 1/2\n",
      "12825/12825 [==============================] - 6s 491us/step - loss: 0.6367\n",
      "Epoch 2/2\n",
      "12825/12825 [==============================] - 5s 377us/step - loss: 0.6093\n"
     ]
    },
    {
     "name": "stderr",
     "output_type": "stream",
     "text": [
      "/Users/sammitchell/Desktop/Mekorot/Project/keras_model.py:93: RuntimeWarning: invalid value encountered in long_scalars\n",
      "  NPV = (tn) / (tn + fn)\n",
      "100%|██████████| 2/2 [00:00<00:00, 289.55it/s]\n"
     ]
    },
    {
     "name": "stdout",
     "output_type": "stream",
     "text": [
      "Epoch 1/2\n",
      "12822/12822 [==============================] - 7s 511us/step - loss: 0.6361\n",
      "Epoch 2/2\n",
      "12822/12822 [==============================] - 5s 395us/step - loss: 0.6118\n"
     ]
    },
    {
     "name": "stderr",
     "output_type": "stream",
     "text": [
      "/Users/sammitchell/Desktop/Mekorot/Project/keras_model.py:93: RuntimeWarning: invalid value encountered in long_scalars\n",
      "  NPV = (tn) / (tn + fn)\n",
      "100%|██████████| 3/3 [00:00<00:00, 178.99it/s]\n"
     ]
    },
    {
     "name": "stdout",
     "output_type": "stream",
     "text": [
      "Epoch 1/2\n",
      "12848/12848 [==============================] - 10s 750us/step - loss: 0.6268\n",
      "Epoch 2/2\n",
      "12848/12848 [==============================] - 7s 539us/step - loss: 0.5644\n"
     ]
    },
    {
     "name": "stderr",
     "output_type": "stream",
     "text": [
      "100%|██████████| 3/3 [00:00<00:00, 237.04it/s]\n"
     ]
    },
    {
     "name": "stdout",
     "output_type": "stream",
     "text": [
      "Epoch 1/2\n",
      "12844/12844 [==============================] - 9s 726us/step - loss: 0.6344\n",
      "Epoch 2/2\n",
      "12844/12844 [==============================] - 7s 556us/step - loss: 0.6049\n"
     ]
    },
    {
     "name": "stderr",
     "output_type": "stream",
     "text": [
      "/Users/sammitchell/Desktop/Mekorot/Project/keras_model.py:93: RuntimeWarning: invalid value encountered in long_scalars\n",
      "  NPV = (tn) / (tn + fn)\n",
      "100%|██████████| 3/3 [00:00<00:00, 265.79it/s]\n"
     ]
    },
    {
     "name": "stdout",
     "output_type": "stream",
     "text": [
      "Epoch 1/2\n",
      "12841/12841 [==============================] - 8s 657us/step - loss: 0.6300\n",
      "Epoch 2/2\n",
      "12841/12841 [==============================] - 7s 571us/step - loss: 0.5981\n"
     ]
    },
    {
     "name": "stderr",
     "output_type": "stream",
     "text": [
      "100%|██████████| 3/3 [00:00<00:00, 205.82it/s]\n"
     ]
    },
    {
     "name": "stdout",
     "output_type": "stream",
     "text": [
      "Epoch 1/2\n",
      "12838/12838 [==============================] - 8s 613us/step - loss: 0.6441\n",
      "Epoch 2/2\n",
      "12838/12838 [==============================] - 7s 545us/step - loss: 0.6015\n"
     ]
    },
    {
     "name": "stderr",
     "output_type": "stream",
     "text": [
      "100%|██████████| 3/3 [00:00<00:00, 239.71it/s]\n"
     ]
    },
    {
     "name": "stdout",
     "output_type": "stream",
     "text": [
      "Epoch 1/2\n",
      "12835/12835 [==============================] - 8s 633us/step - loss: 0.6320\n",
      "Epoch 2/2\n",
      "12835/12835 [==============================] - 7s 513us/step - loss: 0.6067\n"
     ]
    },
    {
     "name": "stderr",
     "output_type": "stream",
     "text": [
      "100%|██████████| 3/3 [00:00<00:00, 264.06it/s]\n"
     ]
    },
    {
     "name": "stdout",
     "output_type": "stream",
     "text": [
      "Epoch 1/2\n",
      "12832/12832 [==============================] - 8s 643us/step - loss: 0.6321\n",
      "Epoch 2/2\n",
      "12832/12832 [==============================] - 6s 479us/step - loss: 0.6041\n"
     ]
    },
    {
     "name": "stderr",
     "output_type": "stream",
     "text": [
      "100%|██████████| 3/3 [00:00<00:00, 233.51it/s]\n"
     ]
    },
    {
     "name": "stdout",
     "output_type": "stream",
     "text": [
      "Epoch 1/2\n",
      "12828/12828 [==============================] - 8s 617us/step - loss: 0.6326\n",
      "Epoch 2/2\n",
      "12828/12828 [==============================] - 6s 500us/step - loss: 0.5966\n"
     ]
    },
    {
     "name": "stderr",
     "output_type": "stream",
     "text": [
      "100%|██████████| 3/3 [00:00<00:00, 278.52it/s]\n"
     ]
    },
    {
     "name": "stdout",
     "output_type": "stream",
     "text": [
      "Epoch 1/2\n",
      "12825/12825 [==============================] - 8s 620us/step - loss: 0.6296\n",
      "Epoch 2/2\n",
      "12825/12825 [==============================] - 6s 493us/step - loss: 0.6003\n"
     ]
    },
    {
     "name": "stderr",
     "output_type": "stream",
     "text": [
      "100%|██████████| 3/3 [00:00<00:00, 266.60it/s]\n"
     ]
    },
    {
     "name": "stdout",
     "output_type": "stream",
     "text": [
      "Epoch 1/2\n",
      "12822/12822 [==============================] - 9s 713us/step - loss: 0.6337\n",
      "Epoch 2/2\n",
      "12822/12822 [==============================] - 6s 492us/step - loss: 0.6117\n"
     ]
    },
    {
     "name": "stderr",
     "output_type": "stream",
     "text": [
      "/Users/sammitchell/Desktop/Mekorot/Project/keras_model.py:93: RuntimeWarning: invalid value encountered in long_scalars\n",
      "  NPV = (tn) / (tn + fn)\n",
      "100%|██████████| 3/3 [00:00<00:00, 237.24it/s]\n"
     ]
    },
    {
     "name": "stdout",
     "output_type": "stream",
     "text": [
      "Epoch 1/2\n",
      "12819/12819 [==============================] - 8s 652us/step - loss: 0.6352\n",
      "Epoch 2/2\n",
      "12819/12819 [==============================] - 6s 505us/step - loss: 0.6085\n"
     ]
    },
    {
     "name": "stderr",
     "output_type": "stream",
     "text": [
      "100%|██████████| 4/4 [00:00<00:00, 197.01it/s]\n"
     ]
    },
    {
     "name": "stdout",
     "output_type": "stream",
     "text": [
      "Epoch 1/2\n",
      "12844/12844 [==============================] - 9s 713us/step - loss: 0.6312\n",
      "Epoch 2/2\n",
      "12844/12844 [==============================] - 8s 648us/step - loss: 0.5683\n"
     ]
    },
    {
     "name": "stderr",
     "output_type": "stream",
     "text": [
      "100%|██████████| 4/4 [00:00<00:00, 243.06it/s]\n"
     ]
    },
    {
     "name": "stdout",
     "output_type": "stream",
     "text": [
      "Epoch 1/2\n",
      "12841/12841 [==============================] - 9s 688us/step - loss: 0.6310\n",
      "Epoch 2/2\n",
      "12841/12841 [==============================] - 8s 629us/step - loss: 0.5828\n"
     ]
    },
    {
     "name": "stderr",
     "output_type": "stream",
     "text": [
      "100%|██████████| 4/4 [00:00<00:00, 231.53it/s]\n"
     ]
    },
    {
     "name": "stdout",
     "output_type": "stream",
     "text": [
      "Epoch 1/2\n",
      "12838/12838 [==============================] - 10s 742us/step - loss: 0.6236\n",
      "Epoch 2/2\n",
      "12838/12838 [==============================] - 8s 611us/step - loss: 0.5793\n"
     ]
    },
    {
     "name": "stderr",
     "output_type": "stream",
     "text": [
      "100%|██████████| 4/4 [00:00<00:00, 239.62it/s]\n"
     ]
    },
    {
     "name": "stdout",
     "output_type": "stream",
     "text": [
      "Epoch 1/2\n",
      "12835/12835 [==============================] - 9s 674us/step - loss: 0.6308\n",
      "Epoch 2/2\n",
      "12835/12835 [==============================] - 7s 555us/step - loss: 0.5931\n"
     ]
    },
    {
     "name": "stderr",
     "output_type": "stream",
     "text": [
      "100%|██████████| 4/4 [00:00<00:00, 169.47it/s]\n"
     ]
    },
    {
     "name": "stdout",
     "output_type": "stream",
     "text": [
      "Epoch 1/2\n",
      "12832/12832 [==============================] - 9s 714us/step - loss: 0.6433\n",
      "Epoch 2/2\n",
      "12832/12832 [==============================] - 9s 664us/step - loss: 0.6030\n"
     ]
    },
    {
     "name": "stderr",
     "output_type": "stream",
     "text": [
      "100%|██████████| 4/4 [00:00<00:00, 205.54it/s]\n"
     ]
    },
    {
     "name": "stdout",
     "output_type": "stream",
     "text": [
      "Epoch 1/2\n",
      "12828/12828 [==============================] - 9s 685us/step - loss: 0.6327\n",
      "Epoch 2/2\n",
      "12828/12828 [==============================] - 7s 570us/step - loss: 0.6000\n"
     ]
    },
    {
     "name": "stderr",
     "output_type": "stream",
     "text": [
      "100%|██████████| 4/4 [00:00<00:00, 235.52it/s]\n"
     ]
    },
    {
     "name": "stdout",
     "output_type": "stream",
     "text": [
      "Epoch 1/2\n",
      "12825/12825 [==============================] - 10s 801us/step - loss: 0.6256\n",
      "Epoch 2/2\n",
      "12825/12825 [==============================] - 8s 649us/step - loss: 0.6014\n"
     ]
    },
    {
     "name": "stderr",
     "output_type": "stream",
     "text": [
      "100%|██████████| 4/4 [00:00<00:00, 252.16it/s]\n"
     ]
    },
    {
     "name": "stdout",
     "output_type": "stream",
     "text": [
      "Epoch 1/2\n",
      "12822/12822 [==============================] - 9s 706us/step - loss: 0.6299\n",
      "Epoch 2/2\n",
      "12822/12822 [==============================] - 7s 574us/step - loss: 0.5955\n"
     ]
    },
    {
     "name": "stderr",
     "output_type": "stream",
     "text": [
      "100%|██████████| 4/4 [00:00<00:00, 229.12it/s]\n"
     ]
    },
    {
     "name": "stdout",
     "output_type": "stream",
     "text": [
      "Epoch 1/2\n",
      "12819/12819 [==============================] - 8s 658us/step - loss: 0.6306\n",
      "Epoch 2/2\n",
      "12819/12819 [==============================] - 7s 548us/step - loss: 0.6026\n"
     ]
    },
    {
     "name": "stderr",
     "output_type": "stream",
     "text": [
      "100%|██████████| 4/4 [00:00<00:00, 185.37it/s]\n"
     ]
    },
    {
     "name": "stdout",
     "output_type": "stream",
     "text": [
      "Epoch 1/2\n",
      "12816/12816 [==============================] - 8s 658us/step - loss: 0.6282\n",
      "Epoch 2/2\n",
      "12816/12816 [==============================] - 7s 552us/step - loss: 0.6037\n"
     ]
    },
    {
     "name": "stderr",
     "output_type": "stream",
     "text": [
      "100%|██████████| 5/5 [00:00<00:00, 253.54it/s]\n"
     ]
    },
    {
     "name": "stdout",
     "output_type": "stream",
     "text": [
      "Epoch 1/2\n",
      "12841/12841 [==============================] - 10s 750us/step - loss: 0.6248\n",
      "Epoch 2/2\n",
      "12841/12841 [==============================] - 8s 659us/step - loss: 0.5601\n"
     ]
    },
    {
     "name": "stderr",
     "output_type": "stream",
     "text": [
      "100%|██████████| 5/5 [00:00<00:00, 173.80it/s]\n"
     ]
    },
    {
     "name": "stdout",
     "output_type": "stream",
     "text": [
      "Epoch 1/2\n",
      "12838/12838 [==============================] - 10s 758us/step - loss: 0.6349\n",
      "Epoch 2/2\n",
      "12838/12838 [==============================] - 8s 656us/step - loss: 0.5726\n"
     ]
    },
    {
     "name": "stderr",
     "output_type": "stream",
     "text": [
      "100%|██████████| 5/5 [00:00<00:00, 206.93it/s]\n"
     ]
    },
    {
     "name": "stdout",
     "output_type": "stream",
     "text": [
      "Epoch 1/2\n",
      "12835/12835 [==============================] - 11s 869us/step - loss: 0.6309\n",
      "Epoch 2/2\n",
      "12835/12835 [==============================] - 8s 656us/step - loss: 0.5778\n"
     ]
    },
    {
     "name": "stderr",
     "output_type": "stream",
     "text": [
      "100%|██████████| 5/5 [00:00<00:00, 234.32it/s]\n"
     ]
    },
    {
     "name": "stdout",
     "output_type": "stream",
     "text": [
      "Epoch 1/2\n",
      "12832/12832 [==============================] - 10s 783us/step - loss: 0.6279\n",
      "Epoch 2/2\n",
      "12832/12832 [==============================] - 9s 675us/step - loss: 0.5894\n"
     ]
    },
    {
     "name": "stderr",
     "output_type": "stream",
     "text": [
      "100%|██████████| 5/5 [00:00<00:00, 197.28it/s]\n"
     ]
    },
    {
     "name": "stdout",
     "output_type": "stream",
     "text": [
      "Epoch 1/2\n",
      "12828/12828 [==============================] - 11s 863us/step - loss: 0.6291\n",
      "Epoch 2/2\n",
      "12828/12828 [==============================] - 9s 711us/step - loss: 0.5790\n"
     ]
    },
    {
     "name": "stderr",
     "output_type": "stream",
     "text": [
      "100%|██████████| 5/5 [00:00<00:00, 198.43it/s]\n"
     ]
    },
    {
     "name": "stdout",
     "output_type": "stream",
     "text": [
      "Epoch 1/2\n",
      "12825/12825 [==============================] - 10s 802us/step - loss: 0.6217\n",
      "Epoch 2/2\n",
      "12825/12825 [==============================] - 9s 673us/step - loss: 0.5734\n"
     ]
    },
    {
     "name": "stderr",
     "output_type": "stream",
     "text": [
      "100%|██████████| 5/5 [00:00<00:00, 244.59it/s]\n"
     ]
    },
    {
     "name": "stdout",
     "output_type": "stream",
     "text": [
      "Epoch 1/2\n",
      "12822/12822 [==============================] - 11s 832us/step - loss: 0.6292\n",
      "Epoch 2/2\n",
      "12822/12822 [==============================] - 9s 675us/step - loss: 0.5932\n"
     ]
    },
    {
     "name": "stderr",
     "output_type": "stream",
     "text": [
      "100%|██████████| 5/5 [00:00<00:00, 223.02it/s]\n"
     ]
    },
    {
     "name": "stdout",
     "output_type": "stream",
     "text": [
      "Epoch 1/2\n",
      "12819/12819 [==============================] - 10s 801us/step - loss: 0.6385\n",
      "Epoch 2/2\n",
      "12819/12819 [==============================] - 9s 725us/step - loss: 0.6063\n"
     ]
    },
    {
     "name": "stderr",
     "output_type": "stream",
     "text": [
      "100%|██████████| 5/5 [00:00<00:00, 180.38it/s]\n"
     ]
    },
    {
     "name": "stdout",
     "output_type": "stream",
     "text": [
      "Epoch 1/2\n",
      "12816/12816 [==============================] - 10s 790us/step - loss: 0.6365\n",
      "Epoch 2/2\n",
      "12816/12816 [==============================] - 9s 678us/step - loss: 0.5968\n"
     ]
    },
    {
     "name": "stderr",
     "output_type": "stream",
     "text": [
      "100%|██████████| 5/5 [00:00<00:00, 269.17it/s]\n"
     ]
    },
    {
     "name": "stdout",
     "output_type": "stream",
     "text": [
      "Epoch 1/2\n",
      "12812/12812 [==============================] - 11s 894us/step - loss: 0.6331\n",
      "Epoch 2/2\n",
      "12812/12812 [==============================] - 11s 839us/step - loss: 0.6049\n"
     ]
    },
    {
     "name": "stderr",
     "output_type": "stream",
     "text": [
      "100%|██████████| 6/6 [00:00<00:00, 137.74it/s]\n"
     ]
    },
    {
     "name": "stdout",
     "output_type": "stream",
     "text": [
      "Epoch 1/2\n",
      "12838/12838 [==============================] - 12s 933us/step - loss: 0.6142\n",
      "Epoch 2/2\n",
      "12838/12838 [==============================] - 10s 776us/step - loss: 0.5313\n"
     ]
    },
    {
     "name": "stderr",
     "output_type": "stream",
     "text": [
      "100%|██████████| 6/6 [00:00<00:00, 143.20it/s]\n"
     ]
    },
    {
     "name": "stdout",
     "output_type": "stream",
     "text": [
      "Epoch 1/2\n",
      "12835/12835 [==============================] - 11s 884us/step - loss: 0.6314\n",
      "Epoch 2/2\n",
      "12835/12835 [==============================] - 10s 772us/step - loss: 0.5649\n"
     ]
    },
    {
     "name": "stderr",
     "output_type": "stream",
     "text": [
      "100%|██████████| 6/6 [00:00<00:00, 211.01it/s]\n"
     ]
    },
    {
     "name": "stdout",
     "output_type": "stream",
     "text": [
      "Epoch 1/2\n",
      "12832/12832 [==============================] - 13s 977us/step - loss: 0.6293\n",
      "Epoch 2/2\n",
      "12832/12832 [==============================] - 10s 752us/step - loss: 0.5749\n"
     ]
    },
    {
     "name": "stderr",
     "output_type": "stream",
     "text": [
      "100%|██████████| 6/6 [00:00<00:00, 222.22it/s]\n"
     ]
    },
    {
     "name": "stdout",
     "output_type": "stream",
     "text": [
      "Epoch 1/2\n",
      "12828/12828 [==============================] - 11s 887us/step - loss: 0.6199\n",
      "Epoch 2/2\n",
      "12828/12828 [==============================] - 10s 764us/step - loss: 0.5860\n"
     ]
    },
    {
     "name": "stderr",
     "output_type": "stream",
     "text": [
      "100%|██████████| 6/6 [00:00<00:00, 223.91it/s]\n"
     ]
    },
    {
     "name": "stdout",
     "output_type": "stream",
     "text": [
      "Epoch 1/2\n",
      "12825/12825 [==============================] - 12s 902us/step - loss: 0.6236\n",
      "Epoch 2/2\n",
      "12825/12825 [==============================] - 10s 813us/step - loss: 0.5679\n"
     ]
    },
    {
     "name": "stderr",
     "output_type": "stream",
     "text": [
      "100%|██████████| 6/6 [00:00<00:00, 156.85it/s]\n"
     ]
    },
    {
     "name": "stdout",
     "output_type": "stream",
     "text": [
      "Epoch 1/2\n",
      "12822/12822 [==============================] - 11s 887us/step - loss: 0.6269\n",
      "Epoch 2/2\n",
      "12822/12822 [==============================] - 10s 760us/step - loss: 0.5773\n"
     ]
    },
    {
     "name": "stderr",
     "output_type": "stream",
     "text": [
      "100%|██████████| 6/6 [00:00<00:00, 205.18it/s]\n"
     ]
    },
    {
     "name": "stdout",
     "output_type": "stream",
     "text": [
      "Epoch 1/2\n",
      "12819/12819 [==============================] - 12s 901us/step - loss: 0.6246\n",
      "Epoch 2/2\n",
      "12819/12819 [==============================] - 11s 824us/step - loss: 0.5843\n"
     ]
    },
    {
     "name": "stderr",
     "output_type": "stream",
     "text": [
      "100%|██████████| 6/6 [00:00<00:00, 150.35it/s]\n"
     ]
    },
    {
     "name": "stdout",
     "output_type": "stream",
     "text": [
      "Epoch 1/2\n",
      "12816/12816 [==============================] - 12s 927us/step - loss: 0.6324\n",
      "Epoch 2/2\n",
      "12816/12816 [==============================] - 10s 800us/step - loss: 0.5949\n"
     ]
    },
    {
     "name": "stderr",
     "output_type": "stream",
     "text": [
      "100%|██████████| 6/6 [00:00<00:00, 223.04it/s]\n"
     ]
    },
    {
     "name": "stdout",
     "output_type": "stream",
     "text": [
      "Epoch 1/2\n",
      "12812/12812 [==============================] - 11s 874us/step - loss: 0.6283\n",
      "Epoch 2/2\n",
      "12812/12812 [==============================] - 10s 757us/step - loss: 0.5901\n"
     ]
    },
    {
     "name": "stderr",
     "output_type": "stream",
     "text": [
      "100%|██████████| 6/6 [00:00<00:00, 166.00it/s]\n"
     ]
    },
    {
     "name": "stdout",
     "output_type": "stream",
     "text": [
      "Epoch 1/2\n",
      "12809/12809 [==============================] - 12s 934us/step - loss: 0.6262\n",
      "Epoch 2/2\n",
      "12809/12809 [==============================] - 10s 760us/step - loss: 0.5985\n"
     ]
    },
    {
     "name": "stderr",
     "output_type": "stream",
     "text": [
      "100%|██████████| 7/7 [00:00<00:00, 180.59it/s]\n"
     ]
    },
    {
     "name": "stdout",
     "output_type": "stream",
     "text": [
      "Epoch 1/2\n",
      "12835/12835 [==============================] - 13s 975us/step - loss: 0.6277\n",
      "Epoch 2/2\n",
      "12835/12835 [==============================] - 11s 852us/step - loss: 0.5780\n"
     ]
    },
    {
     "name": "stderr",
     "output_type": "stream",
     "text": [
      "100%|██████████| 7/7 [00:00<00:00, 224.70it/s]\n"
     ]
    },
    {
     "name": "stdout",
     "output_type": "stream",
     "text": [
      "Epoch 1/2\n",
      "12832/12832 [==============================] - 13s 1ms/step - loss: 0.6273\n",
      "Epoch 2/2\n",
      "12832/12832 [==============================] - 12s 915us/step - loss: 0.5545\n"
     ]
    },
    {
     "name": "stderr",
     "output_type": "stream",
     "text": [
      "100%|██████████| 7/7 [00:00<00:00, 213.94it/s]\n"
     ]
    },
    {
     "name": "stdout",
     "output_type": "stream",
     "text": [
      "Epoch 1/2\n",
      "12828/12828 [==============================] - 13s 1ms/step - loss: 0.6193\n",
      "Epoch 2/2\n",
      "12828/12828 [==============================] - 11s 877us/step - loss: 0.5749\n"
     ]
    },
    {
     "name": "stderr",
     "output_type": "stream",
     "text": [
      "100%|██████████| 7/7 [00:00<00:00, 183.74it/s]\n"
     ]
    },
    {
     "name": "stdout",
     "output_type": "stream",
     "text": [
      "Epoch 1/2\n",
      "12825/12825 [==============================] - 14s 1ms/step - loss: 0.6347\n",
      "Epoch 2/2\n",
      "12825/12825 [==============================] - 11s 894us/step - loss: 0.5803\n"
     ]
    },
    {
     "name": "stderr",
     "output_type": "stream",
     "text": [
      "100%|██████████| 7/7 [00:00<00:00, 195.43it/s]\n"
     ]
    },
    {
     "name": "stdout",
     "output_type": "stream",
     "text": [
      "Epoch 1/2\n",
      "12822/12822 [==============================] - 12s 963us/step - loss: 0.6266\n",
      "Epoch 2/2\n",
      "12822/12822 [==============================] - 11s 849us/step - loss: 0.5732\n"
     ]
    },
    {
     "name": "stderr",
     "output_type": "stream",
     "text": [
      "100%|██████████| 7/7 [00:00<00:00, 210.72it/s]\n"
     ]
    },
    {
     "name": "stdout",
     "output_type": "stream",
     "text": [
      "Epoch 1/2\n",
      "12819/12819 [==============================] - 13s 1ms/step - loss: 0.6336\n",
      "Epoch 2/2\n",
      "12819/12819 [==============================] - 11s 843us/step - loss: 0.5862\n"
     ]
    },
    {
     "name": "stderr",
     "output_type": "stream",
     "text": [
      "100%|██████████| 7/7 [00:00<00:00, 211.55it/s]\n"
     ]
    },
    {
     "name": "stdout",
     "output_type": "stream",
     "text": [
      "Epoch 1/2\n",
      "12816/12816 [==============================] - 12s 930us/step - loss: 0.6278\n",
      "Epoch 2/2\n",
      "12816/12816 [==============================] - 11s 823us/step - loss: 0.5901\n"
     ]
    },
    {
     "name": "stderr",
     "output_type": "stream",
     "text": [
      "100%|██████████| 7/7 [00:00<00:00, 206.31it/s]\n"
     ]
    },
    {
     "name": "stdout",
     "output_type": "stream",
     "text": [
      "Epoch 1/2\n",
      "12812/12812 [==============================] - 12s 943us/step - loss: 0.6298\n",
      "Epoch 2/2\n",
      "12812/12812 [==============================] - 11s 823us/step - loss: 0.5991\n"
     ]
    },
    {
     "name": "stderr",
     "output_type": "stream",
     "text": [
      "100%|██████████| 7/7 [00:00<00:00, 209.30it/s]\n"
     ]
    },
    {
     "name": "stdout",
     "output_type": "stream",
     "text": [
      "Epoch 1/2\n",
      "12809/12809 [==============================] - 12s 949us/step - loss: 0.6288\n",
      "Epoch 2/2\n",
      "12809/12809 [==============================] - 10s 814us/step - loss: 0.5924\n"
     ]
    },
    {
     "name": "stderr",
     "output_type": "stream",
     "text": [
      "100%|██████████| 7/7 [00:00<00:00, 223.25it/s]\n"
     ]
    },
    {
     "name": "stdout",
     "output_type": "stream",
     "text": [
      "Epoch 1/2\n",
      "12806/12806 [==============================] - 12s 932us/step - loss: 0.6277\n",
      "Epoch 2/2\n",
      "12806/12806 [==============================] - 12s 966us/step - loss: 0.6013\n"
     ]
    },
    {
     "name": "stderr",
     "output_type": "stream",
     "text": [
      "100%|██████████| 8/8 [00:00<00:00, 169.19it/s]\n"
     ]
    },
    {
     "name": "stdout",
     "output_type": "stream",
     "text": [
      "Epoch 1/2\n",
      "12832/12832 [==============================] - 13s 1ms/step - loss: 0.6215\n",
      "Epoch 2/2\n",
      "12832/12832 [==============================] - 12s 930us/step - loss: 0.5407\n"
     ]
    },
    {
     "name": "stderr",
     "output_type": "stream",
     "text": [
      "100%|██████████| 8/8 [00:00<00:00, 168.24it/s]\n"
     ]
    },
    {
     "name": "stdout",
     "output_type": "stream",
     "text": [
      "Epoch 1/2\n",
      "12828/12828 [==============================] - 13s 1ms/step - loss: 0.6314\n",
      "Epoch 2/2\n",
      "12828/12828 [==============================] - 12s 922us/step - loss: 0.5730\n"
     ]
    },
    {
     "name": "stderr",
     "output_type": "stream",
     "text": [
      "100%|██████████| 8/8 [00:00<00:00, 168.50it/s]\n"
     ]
    },
    {
     "name": "stdout",
     "output_type": "stream",
     "text": [
      "Epoch 1/2\n",
      "12825/12825 [==============================] - 13s 1ms/step - loss: 0.6156\n",
      "Epoch 2/2\n",
      "12825/12825 [==============================] - 13s 979us/step - loss: 0.5631\n"
     ]
    },
    {
     "name": "stderr",
     "output_type": "stream",
     "text": [
      "100%|██████████| 8/8 [00:00<00:00, 151.65it/s]\n"
     ]
    },
    {
     "name": "stdout",
     "output_type": "stream",
     "text": [
      "Epoch 1/2\n",
      "12822/12822 [==============================] - 14s 1ms/step - loss: 0.6248\n",
      "Epoch 2/2\n",
      "12822/12822 [==============================] - 13s 1ms/step - loss: 0.5749\n"
     ]
    },
    {
     "name": "stderr",
     "output_type": "stream",
     "text": [
      "100%|██████████| 8/8 [00:00<00:00, 148.68it/s]\n"
     ]
    },
    {
     "name": "stdout",
     "output_type": "stream",
     "text": [
      "Epoch 1/2\n",
      "12819/12819 [==============================] - 14s 1ms/step - loss: 0.6265\n",
      "Epoch 2/2\n",
      "12819/12819 [==============================] - 13s 975us/step - loss: 0.5730\n"
     ]
    },
    {
     "name": "stderr",
     "output_type": "stream",
     "text": [
      "100%|██████████| 8/8 [00:00<00:00, 149.53it/s]\n"
     ]
    },
    {
     "name": "stdout",
     "output_type": "stream",
     "text": [
      "Epoch 1/2\n",
      "12816/12816 [==============================] - 14s 1ms/step - loss: 0.6276\n",
      "Epoch 2/2\n",
      "12816/12816 [==============================] - 12s 966us/step - loss: 0.5843\n"
     ]
    },
    {
     "name": "stderr",
     "output_type": "stream",
     "text": [
      "100%|██████████| 8/8 [00:00<00:00, 135.59it/s]\n"
     ]
    },
    {
     "name": "stdout",
     "output_type": "stream",
     "text": [
      "Epoch 1/2\n",
      "12812/12812 [==============================] - 13s 1ms/step - loss: 0.6193\n",
      "Epoch 2/2\n",
      "12812/12812 [==============================] - 12s 931us/step - loss: 0.5782\n"
     ]
    },
    {
     "name": "stderr",
     "output_type": "stream",
     "text": [
      "100%|██████████| 8/8 [00:00<00:00, 136.32it/s]\n"
     ]
    },
    {
     "name": "stdout",
     "output_type": "stream",
     "text": [
      "Epoch 1/2\n",
      "12809/12809 [==============================] - 14s 1ms/step - loss: 0.6261\n",
      "Epoch 2/2\n",
      "12809/12809 [==============================] - 12s 938us/step - loss: 0.5720\n"
     ]
    },
    {
     "name": "stderr",
     "output_type": "stream",
     "text": [
      "100%|██████████| 8/8 [00:00<00:00, 157.69it/s]\n"
     ]
    },
    {
     "name": "stdout",
     "output_type": "stream",
     "text": [
      "Epoch 1/2\n",
      "12806/12806 [==============================] - 13s 1ms/step - loss: 0.6222\n",
      "Epoch 2/2\n",
      "12806/12806 [==============================] - 12s 923us/step - loss: 0.5761\n"
     ]
    },
    {
     "name": "stderr",
     "output_type": "stream",
     "text": [
      "100%|██████████| 8/8 [00:00<00:00, 161.55it/s]\n"
     ]
    },
    {
     "name": "stdout",
     "output_type": "stream",
     "text": [
      "Epoch 1/2\n",
      "12803/12803 [==============================] - 13s 1ms/step - loss: 0.6289\n",
      "Epoch 2/2\n",
      "12803/12803 [==============================] - 12s 912us/step - loss: 0.5915\n"
     ]
    },
    {
     "name": "stderr",
     "output_type": "stream",
     "text": [
      "100%|██████████| 9/9 [00:00<00:00, 205.51it/s]\n"
     ]
    },
    {
     "name": "stdout",
     "output_type": "stream",
     "text": [
      "Epoch 1/2\n",
      "12828/12828 [==============================] - 14s 1ms/step - loss: 0.6236\n",
      "Epoch 2/2\n",
      "12828/12828 [==============================] - 13s 1ms/step - loss: 0.5432\n"
     ]
    },
    {
     "name": "stderr",
     "output_type": "stream",
     "text": [
      "100%|██████████| 9/9 [00:00<00:00, 161.71it/s]\n"
     ]
    },
    {
     "name": "stdout",
     "output_type": "stream",
     "text": [
      "Epoch 1/2\n",
      "12825/12825 [==============================] - 15s 1ms/step - loss: 0.6230\n",
      "Epoch 2/2\n",
      "12825/12825 [==============================] - 13s 1ms/step - loss: 0.5543\n"
     ]
    },
    {
     "name": "stderr",
     "output_type": "stream",
     "text": [
      "100%|██████████| 9/9 [00:00<00:00, 146.40it/s]\n"
     ]
    },
    {
     "name": "stdout",
     "output_type": "stream",
     "text": [
      "Epoch 1/2\n",
      "12822/12822 [==============================] - 14s 1ms/step - loss: 0.6229\n",
      "Epoch 2/2\n",
      "12822/12822 [==============================] - 16s 1ms/step - loss: 0.5575\n"
     ]
    },
    {
     "name": "stderr",
     "output_type": "stream",
     "text": [
      "100%|██████████| 9/9 [00:00<00:00, 274.84it/s]\n"
     ]
    },
    {
     "name": "stdout",
     "output_type": "stream",
     "text": [
      "Epoch 1/2\n",
      "12819/12819 [==============================] - 1457s 114ms/step - loss: 0.6131\n",
      "Epoch 2/2\n",
      "12819/12819 [==============================] - 76s 6ms/step - loss: 0.5444\n"
     ]
    },
    {
     "name": "stderr",
     "output_type": "stream",
     "text": [
      "100%|██████████| 9/9 [00:00<00:00, 67.37it/s]\n"
     ]
    },
    {
     "name": "stdout",
     "output_type": "stream",
     "text": [
      "Epoch 1/2\n",
      "12816/12816 [==============================] - 18s 1ms/step - loss: 0.6253\n",
      "Epoch 2/2\n",
      "12816/12816 [==============================] - 14s 1ms/step - loss: 0.5801\n"
     ]
    },
    {
     "name": "stderr",
     "output_type": "stream",
     "text": [
      "100%|██████████| 9/9 [00:00<00:00, 229.06it/s]\n"
     ]
    },
    {
     "name": "stdout",
     "output_type": "stream",
     "text": [
      "Epoch 1/2\n",
      "12812/12812 [==============================] - 17s 1ms/step - loss: 0.6182\n",
      "Epoch 2/2\n",
      "12812/12812 [==============================] - 16s 1ms/step - loss: 0.5719\n"
     ]
    },
    {
     "name": "stderr",
     "output_type": "stream",
     "text": [
      "100%|██████████| 9/9 [00:00<00:00, 165.54it/s]\n"
     ]
    },
    {
     "name": "stdout",
     "output_type": "stream",
     "text": [
      "Epoch 1/2\n",
      "12809/12809 [==============================] - 15s 1ms/step - loss: 0.6211\n",
      "Epoch 2/2\n",
      "12809/12809 [==============================] - 13s 1ms/step - loss: 0.5720\n"
     ]
    },
    {
     "name": "stderr",
     "output_type": "stream",
     "text": [
      "100%|██████████| 9/9 [00:00<00:00, 225.65it/s]\n"
     ]
    },
    {
     "name": "stdout",
     "output_type": "stream",
     "text": [
      "Epoch 1/2\n",
      "12806/12806 [==============================] - 14s 1ms/step - loss: 0.6240\n",
      "Epoch 2/2\n",
      "12806/12806 [==============================] - 13s 1ms/step - loss: 0.5703\n"
     ]
    },
    {
     "name": "stderr",
     "output_type": "stream",
     "text": [
      "100%|██████████| 9/9 [00:00<00:00, 222.42it/s]\n"
     ]
    },
    {
     "name": "stdout",
     "output_type": "stream",
     "text": [
      "Epoch 1/2\n",
      "12803/12803 [==============================] - 15s 1ms/step - loss: 0.6279\n",
      "Epoch 2/2\n",
      "12803/12803 [==============================] - 14s 1ms/step - loss: 0.5976\n"
     ]
    },
    {
     "name": "stderr",
     "output_type": "stream",
     "text": [
      "100%|██████████| 9/9 [00:00<00:00, 220.37it/s]\n"
     ]
    },
    {
     "name": "stdout",
     "output_type": "stream",
     "text": [
      "Epoch 1/2\n",
      "12800/12800 [==============================] - 15s 1ms/step - loss: 0.6289\n",
      "Epoch 2/2\n",
      "12800/12800 [==============================] - 14s 1ms/step - loss: 0.5868\n"
     ]
    },
    {
     "name": "stderr",
     "output_type": "stream",
     "text": [
      "100%|██████████| 10/10 [00:00<00:00, 149.68it/s]\n"
     ]
    },
    {
     "name": "stdout",
     "output_type": "stream",
     "text": [
      "Epoch 1/2\n",
      "12825/12825 [==============================] - 16s 1ms/step - loss: 0.6278\n",
      "Epoch 2/2\n",
      "12825/12825 [==============================] - 15s 1ms/step - loss: 0.5346\n"
     ]
    },
    {
     "name": "stderr",
     "output_type": "stream",
     "text": [
      "100%|██████████| 10/10 [00:00<00:00, 195.28it/s]\n"
     ]
    },
    {
     "name": "stdout",
     "output_type": "stream",
     "text": [
      "Epoch 1/2\n",
      "12822/12822 [==============================] - 25s 2ms/step - loss: 0.6251\n",
      "Epoch 2/2\n",
      "12822/12822 [==============================] - 18s 1ms/step - loss: 0.5602\n"
     ]
    },
    {
     "name": "stderr",
     "output_type": "stream",
     "text": [
      "100%|██████████| 10/10 [00:00<00:00, 131.37it/s]\n"
     ]
    },
    {
     "name": "stdout",
     "output_type": "stream",
     "text": [
      "Epoch 1/2\n",
      "12819/12819 [==============================] - 21s 2ms/step - loss: 0.6201\n",
      "Epoch 2/2\n",
      "12819/12819 [==============================] - 16s 1ms/step - loss: 0.5459\n"
     ]
    },
    {
     "name": "stderr",
     "output_type": "stream",
     "text": [
      "100%|██████████| 10/10 [00:00<00:00, 246.11it/s]\n"
     ]
    },
    {
     "name": "stdout",
     "output_type": "stream",
     "text": [
      "Epoch 1/2\n",
      "12816/12816 [==============================] - 18s 1ms/step - loss: 0.6387\n",
      "Epoch 2/2\n",
      "12816/12816 [==============================] - 16s 1ms/step - loss: 0.5811\n"
     ]
    },
    {
     "name": "stderr",
     "output_type": "stream",
     "text": [
      "100%|██████████| 10/10 [00:00<00:00, 233.01it/s]\n"
     ]
    },
    {
     "name": "stdout",
     "output_type": "stream",
     "text": [
      "Epoch 1/2\n",
      "12812/12812 [==============================] - 18s 1ms/step - loss: 0.6144\n",
      "Epoch 2/2\n",
      "12812/12812 [==============================] - 16s 1ms/step - loss: 0.5597\n"
     ]
    },
    {
     "name": "stderr",
     "output_type": "stream",
     "text": [
      "100%|██████████| 10/10 [00:00<00:00, 96.13it/s]\n"
     ]
    },
    {
     "name": "stdout",
     "output_type": "stream",
     "text": [
      "Epoch 1/2\n",
      "12809/12809 [==============================] - 18s 1ms/step - loss: 0.6174\n",
      "Epoch 2/2\n",
      "12809/12809 [==============================] - 18s 1ms/step - loss: 0.5716\n"
     ]
    },
    {
     "name": "stderr",
     "output_type": "stream",
     "text": [
      "100%|██████████| 10/10 [00:00<00:00, 199.11it/s]\n"
     ]
    },
    {
     "name": "stdout",
     "output_type": "stream",
     "text": [
      "Epoch 1/2\n",
      "12806/12806 [==============================] - 16s 1ms/step - loss: 0.6304\n",
      "Epoch 2/2\n",
      "12806/12806 [==============================] - 14s 1ms/step - loss: 0.5746\n"
     ]
    },
    {
     "name": "stderr",
     "output_type": "stream",
     "text": [
      "100%|██████████| 10/10 [00:00<00:00, 251.75it/s]\n"
     ]
    },
    {
     "name": "stdout",
     "output_type": "stream",
     "text": [
      "Epoch 1/2\n",
      "12803/12803 [==============================] - 17s 1ms/step - loss: 0.6246\n",
      "Epoch 2/2\n",
      "12803/12803 [==============================] - 15s 1ms/step - loss: 0.5856\n"
     ]
    },
    {
     "name": "stderr",
     "output_type": "stream",
     "text": [
      "100%|██████████| 10/10 [00:00<00:00, 183.55it/s]\n"
     ]
    },
    {
     "name": "stdout",
     "output_type": "stream",
     "text": [
      "Epoch 1/2\n",
      "12800/12800 [==============================] - 18s 1ms/step - loss: 0.6187\n",
      "Epoch 2/2\n",
      "12800/12800 [==============================] - 16s 1ms/step - loss: 0.5862\n"
     ]
    },
    {
     "name": "stderr",
     "output_type": "stream",
     "text": [
      "100%|██████████| 10/10 [00:00<00:00, 220.81it/s]\n"
     ]
    },
    {
     "name": "stdout",
     "output_type": "stream",
     "text": [
      "Epoch 1/2\n",
      "12796/12796 [==============================] - 17s 1ms/step - loss: 0.6263\n",
      "Epoch 2/2\n",
      "12796/12796 [==============================] - 15s 1ms/step - loss: 0.5980\n"
     ]
    }
   ],
   "source": [
    "results_list = []\n",
    "steps_in = 11\n",
    "steps_out = 11\n",
    "for i in range(1, steps_in):\n",
    "    for j in range(1, steps_out):\n",
    "        X, Y = km.create_join_x_y_arr(reactor_list, n_steps_in=i, n_steps_out=j, binary=True)\n",
    "        X_normalize, Y_normalize, scalers = km.normalize(X, Y)\n",
    "        Xtrain, Xtest, ytrain, ytest = train_test_split(X_normalize, Y_normalize, test_size=0.20, random_state=42)\n",
    "        model = Sequential()\n",
    "        model.add(LSTM(units=50, activation='relu', name='first_lstm', recurrent_dropout=0.1, input_shape=(Xtrain.shape[1], Xtrain.shape[2])))\n",
    "        model.add(Dense(25, activation='relu'))\n",
    "        model.add(Dense(1, activation=\"sigmoid\"))\n",
    "        model.compile(optimizer=Adam(learning_rate=0.0001), loss='binary_crossentropy')\n",
    "        model.fit(Xtrain, ytrain, epochs=2, batch_size=10, shuffle=True)\n",
    "        Yhat, Ytest = km.evaluate(model, Xtest, ytest, scalers, binary=True)\n",
    "        y_predict = np.rint(Yhat).astype(int)\n",
    "        y_real = Ytest.astype(int)\n",
    "        results_list.append(km.results(y_real, y_predict))\n",
    "    \n"
   ]
  },
  {
   "cell_type": "code",
   "execution_count": 36,
   "metadata": {},
   "outputs": [],
   "source": [
    "(unique, counts) = np.unique(ytrain, return_counts=True)\n",
    "frequencies = np.asarray((unique, counts)).T"
   ]
  },
  {
   "cell_type": "code",
   "execution_count": 37,
   "metadata": {},
   "outputs": [
    {
     "data": {
      "text/plain": [
       "array([[0.000e+00, 4.161e+03],\n",
       "       [1.000e+00, 8.635e+03]])"
      ]
     },
     "execution_count": 37,
     "metadata": {},
     "output_type": "execute_result"
    }
   ],
   "source": [
    "frequencies"
   ]
  },
  {
   "cell_type": "code",
   "execution_count": 38,
   "metadata": {},
   "outputs": [],
   "source": [
    "#plot graph of a metric result for all n_step_in and n_step_out values\n",
    "x=range(1, 11)\n",
    "label = ['accuracy', 'TNR', 'NPV', 'f1']\n",
    "for z in range(4):\n",
    "    for i in range(10):\n",
    "        y=[]\n",
    "        for j in range (10):\n",
    "            y.append(results_list[i*10:i*10+10][j][z])\n",
    "        plt.plot(x, y, label=f'n_steps_in={i+1}')\n",
    "    plt.legend(loc='center left', bbox_to_anchor=(1, 0.5))\n",
    "    plt.xlabel(\"n_steps_out\")\n",
    "    plt.ylabel(label[z])\n",
    "    plt.title(\"Simple LSTM, 3 layers (50,25,1),\\n name='first_lstm', recurrent_dropout=0.1 \\n optimizer='adam', loss='binary_crossentropy' \")\n",
    "    plt.savefig(f\"figures/Simple LSTM {label[z]}.png\", bbox_inches=\"tight\")\n",
    "    plt.close()"
   ]
  },
  {
   "cell_type": "code",
   "execution_count": 40,
   "metadata": {},
   "outputs": [],
   "source": [
    "#plot graph of all metric results for a n_step_in value\n",
    "x=range(1,11)\n",
    "label = ['accuracy', 'TNR', 'NPV', 'f1']\n",
    "for z in range(10):\n",
    "    for i in range(4):\n",
    "        y=[]\n",
    "        for j in range (10):\n",
    "            y.append(results_list[z*10:z*10+10][j][i])\n",
    "        plt.plot(x, y, label=label[i])\n",
    "    plt.legend(loc='center left', bbox_to_anchor=(1, 0.5))\n",
    "    plt.xlabel(\"n_steps_out\")\n",
    "    plt.ylabel('Metric value')\n",
    "    plt.title(f\"Simple LSTM, 3 layers (50,25,1),\\n name='first_lstm', recurrent_dropout=0.1 \\n optimizer='adam', loss='binary_crossentropy' \\n n_steps_in={z+1} \")\n",
    "    plt.savefig(f\"figures/Simple LSTM n_steps_in={z+1}.png\", bbox_inches=\"tight\")\n",
    "    plt.close()"
   ]
  },
  {
   "cell_type": "code",
   "execution_count": null,
   "metadata": {},
   "outputs": [],
   "source": []
  }
 ],
 "metadata": {
  "kernelspec": {
   "display_name": "TF",
   "language": "python",
   "name": "tf"
  },
  "language_info": {
   "codemirror_mode": {
    "name": "ipython",
    "version": 3
   },
   "file_extension": ".py",
   "mimetype": "text/x-python",
   "name": "python",
   "nbconvert_exporter": "python",
   "pygments_lexer": "ipython3",
   "version": "3.7.9"
  }
 },
 "nbformat": 4,
 "nbformat_minor": 4
}

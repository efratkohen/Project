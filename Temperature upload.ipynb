{
 "cells": [
  {
   "cell_type": "code",
   "execution_count": 2,
   "metadata": {},
   "outputs": [],
   "source": [
    "import files_process_save as fps\n",
    "import pathlib\n",
    "import pandas as pd\n",
    "import numpy as np\n",
    "from typing import Union\n"
   ]
  },
  {
   "cell_type": "code",
   "execution_count": 3,
   "metadata": {},
   "outputs": [],
   "source": [
    "temp_path = fps.check_file(\"temperatur.csv\")\n",
    "df_temp = pd.read_csv(temp_path)\n",
    "df_temp.set_index(\"Date\", inplace=True)\n",
    "df_temp.index = pd.to_datetime(df_temp.index, dayfirst=True)"
   ]
  },
  {
   "cell_type": "code",
   "execution_count": 4,
   "metadata": {},
   "outputs": [
    {
     "data": {
      "text/plain": [
       "temperature - A    0.0\n",
       "temperature - B    0.0\n",
       "Name: 2014-09-29 00:00:00, dtype: float64"
      ]
     },
     "execution_count": 4,
     "metadata": {},
     "output_type": "execute_result"
    }
   ],
   "source": [
    "df_temp.loc[\"2014-09-29\"]"
   ]
  },
  {
   "cell_type": "code",
   "execution_count": 5,
   "metadata": {},
   "outputs": [],
   "source": [
    "def check_temp_values_range(df_temp: pd.DataFrame) -> pd.DataFrame:\n",
    "    \"\"\"\n",
    "    Check and replace incorrect values with nan.\n",
    "    (Zero values or values out of defined ranges)\n",
    "    \"\"\"\n",
    "    df_temp.replace(0, np.nan, inplace=True)\n",
    "    ranges_val = [12, 40]\n",
    "    col_names_lst = [\"temperature - A\", \"temperature - A\"]\n",
    "\n",
    "    for i in range(2):\n",
    "        name = col_names_lst[i]\n",
    "        low = ranges_val[0]\n",
    "        high = ranges_val[1]\n",
    "        df_temp.loc[:, df_temp.columns.str.contains(name)] = df_temp.loc[\n",
    "            :, df_temp.columns.str.contains(name)\n",
    "        ].apply(lambda x: [value if low < value < high else np.nan for value in x])\n",
    "\n",
    "    return df_temp"
   ]
  },
  {
   "cell_type": "code",
   "execution_count": 6,
   "metadata": {},
   "outputs": [],
   "source": [
    "df_temp = check_temp_values_range(df_temp)"
   ]
  },
  {
   "cell_type": "code",
   "execution_count": 7,
   "metadata": {},
   "outputs": [
    {
     "data": {
      "text/plain": [
       "temperature - A   NaN\n",
       "temperature - B   NaN\n",
       "Name: 2014-09-29 00:00:00, dtype: float64"
      ]
     },
     "execution_count": 7,
     "metadata": {},
     "output_type": "execute_result"
    }
   ],
   "source": [
    "df_temp.loc[\"2014-09-29\"]"
   ]
  },
  {
   "cell_type": "code",
   "execution_count": 8,
   "metadata": {},
   "outputs": [],
   "source": [
    "df_temp.interpolate(inplace=True, method=\"time\")"
   ]
  },
  {
   "cell_type": "code",
   "execution_count": 9,
   "metadata": {},
   "outputs": [
    {
     "data": {
      "text/plain": [
       "temperature - A    27.865\n",
       "temperature - B    27.115\n",
       "Name: 2014-09-29 00:00:00, dtype: float64"
      ]
     },
     "execution_count": 9,
     "metadata": {},
     "output_type": "execute_result"
    }
   ],
   "source": [
    "df_temp.loc[\"2014-09-29\"]"
   ]
  },
  {
   "cell_type": "code",
   "execution_count": 10,
   "metadata": {},
   "outputs": [
    {
     "data": {
      "text/html": [
       "<div>\n",
       "<style scoped>\n",
       "    .dataframe tbody tr th:only-of-type {\n",
       "        vertical-align: middle;\n",
       "    }\n",
       "\n",
       "    .dataframe tbody tr th {\n",
       "        vertical-align: top;\n",
       "    }\n",
       "\n",
       "    .dataframe thead th {\n",
       "        text-align: right;\n",
       "    }\n",
       "</style>\n",
       "<table border=\"1\" class=\"dataframe\">\n",
       "  <thead>\n",
       "    <tr style=\"text-align: right;\">\n",
       "      <th></th>\n",
       "      <th>temperature - A</th>\n",
       "      <th>temperature - B</th>\n",
       "    </tr>\n",
       "    <tr>\n",
       "      <th>Date</th>\n",
       "      <th></th>\n",
       "      <th></th>\n",
       "    </tr>\n",
       "  </thead>\n",
       "  <tbody>\n",
       "    <tr>\n",
       "      <th>2010-01-01</th>\n",
       "      <td>22.32</td>\n",
       "      <td>21.74</td>\n",
       "    </tr>\n",
       "    <tr>\n",
       "      <th>2010-01-02</th>\n",
       "      <td>22.21</td>\n",
       "      <td>21.76</td>\n",
       "    </tr>\n",
       "    <tr>\n",
       "      <th>2010-01-03</th>\n",
       "      <td>21.99</td>\n",
       "      <td>21.49</td>\n",
       "    </tr>\n",
       "    <tr>\n",
       "      <th>2010-01-04</th>\n",
       "      <td>22.05</td>\n",
       "      <td>21.58</td>\n",
       "    </tr>\n",
       "    <tr>\n",
       "      <th>2010-01-05</th>\n",
       "      <td>22.08</td>\n",
       "      <td>21.70</td>\n",
       "    </tr>\n",
       "    <tr>\n",
       "      <th>...</th>\n",
       "      <td>...</td>\n",
       "      <td>...</td>\n",
       "    </tr>\n",
       "    <tr>\n",
       "      <th>2020-09-11</th>\n",
       "      <td>31.41</td>\n",
       "      <td>31.58</td>\n",
       "    </tr>\n",
       "    <tr>\n",
       "      <th>2020-09-12</th>\n",
       "      <td>31.11</td>\n",
       "      <td>31.41</td>\n",
       "    </tr>\n",
       "    <tr>\n",
       "      <th>2020-09-13</th>\n",
       "      <td>31.04</td>\n",
       "      <td>31.19</td>\n",
       "    </tr>\n",
       "    <tr>\n",
       "      <th>2020-09-14</th>\n",
       "      <td>30.80</td>\n",
       "      <td>30.99</td>\n",
       "    </tr>\n",
       "    <tr>\n",
       "      <th>2020-09-15</th>\n",
       "      <td>30.82</td>\n",
       "      <td>30.99</td>\n",
       "    </tr>\n",
       "  </tbody>\n",
       "</table>\n",
       "<p>3911 rows × 2 columns</p>\n",
       "</div>"
      ],
      "text/plain": [
       "            temperature - A  temperature - B\n",
       "Date                                        \n",
       "2010-01-01            22.32            21.74\n",
       "2010-01-02            22.21            21.76\n",
       "2010-01-03            21.99            21.49\n",
       "2010-01-04            22.05            21.58\n",
       "2010-01-05            22.08            21.70\n",
       "...                     ...              ...\n",
       "2020-09-11            31.41            31.58\n",
       "2020-09-12            31.11            31.41\n",
       "2020-09-13            31.04            31.19\n",
       "2020-09-14            30.80            30.99\n",
       "2020-09-15            30.82            30.99\n",
       "\n",
       "[3911 rows x 2 columns]"
      ]
     },
     "execution_count": 10,
     "metadata": {},
     "output_type": "execute_result"
    }
   ],
   "source": [
    "df_temp"
   ]
  },
  {
   "cell_type": "code",
   "execution_count": 26,
   "metadata": {},
   "outputs": [],
   "source": [
    "df_temp[\"Temperature\"]= df_temp.iloc[: , 0:2].mean(axis=1)\n"
   ]
  },
  {
   "cell_type": "code",
   "execution_count": 27,
   "metadata": {},
   "outputs": [],
   "source": [
    "df_temp[\"Temperature\"].index.names = ['date']"
   ]
  },
  {
   "cell_type": "code",
   "execution_count": 28,
   "metadata": {},
   "outputs": [
    {
     "data": {
      "text/plain": [
       "date\n",
       "2010-01-01    22.030\n",
       "2010-01-02    21.985\n",
       "2010-01-03    21.740\n",
       "2010-01-04    21.815\n",
       "2010-01-05    21.890\n",
       "               ...  \n",
       "2020-09-11    31.495\n",
       "2020-09-12    31.260\n",
       "2020-09-13    31.115\n",
       "2020-09-14    30.895\n",
       "2020-09-15    30.905\n",
       "Name: Temperature, Length: 3911, dtype: float64"
      ]
     },
     "execution_count": 28,
     "metadata": {},
     "output_type": "execute_result"
    }
   ],
   "source": [
    "df_temp[\"Temperature\"]"
   ]
  },
  {
   "cell_type": "code",
   "execution_count": 29,
   "metadata": {},
   "outputs": [],
   "source": [
    "df_temp[\"Temperature\"].to_csv(pathlib.Path(\"clean_tables/temperatur.csv\"))"
   ]
  },
  {
   "cell_type": "code",
   "execution_count": null,
   "metadata": {},
   "outputs": [],
   "source": []
  }
 ],
 "metadata": {
  "kernelspec": {
   "display_name": "TF",
   "language": "python",
   "name": "tf"
  },
  "language_info": {
   "codemirror_mode": {
    "name": "ipython",
    "version": 3
   },
   "file_extension": ".py",
   "mimetype": "text/x-python",
   "name": "python",
   "nbconvert_exporter": "python",
   "pygments_lexer": "ipython3",
   "version": "3.7.9"
  }
 },
 "nbformat": 4,
 "nbformat_minor": 4
}

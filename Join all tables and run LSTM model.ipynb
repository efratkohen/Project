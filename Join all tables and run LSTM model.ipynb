{
 "cells": [
  {
   "cell_type": "code",
   "execution_count": 1,
   "metadata": {},
   "outputs": [
    {
     "name": "stderr",
     "output_type": "stream",
     "text": [
      "Using TensorFlow backend.\n"
     ]
    }
   ],
   "source": [
    "import clean_data_svi as cds\n",
    "import supervised as sup\n",
    "import itertools\n",
    "import pathlib\n",
    "import matplotlib.pyplot as plt\n",
    "import keras_model as km\n",
    "import pandas as pd\n",
    "import numpy as np\n",
    "import matplotlib.pyplot as plt\n",
    "from math import sqrt\n",
    "from datetime import timedelta, datetime\n",
    "from sklearn.model_selection import train_test_split\n",
    "from sklearn.preprocessing import MinMaxScaler\n",
    "from sklearn.metrics import mean_squared_error\n",
    "from tqdm import tqdm\n",
    "import tensorflow as tf\n",
    "from keras import backend as K, Sequential, Input, Model\n",
    "from tensorflow import keras\n",
    "from keras.models import Sequential\n",
    "from keras.layers import Activation, Dense, LSTM, Bidirectional, Conv1D, MaxPooling1D, MaxPooling2D, Flatten, \\\n",
    "    TimeDistributed, RepeatVector, Dropout, GRU, AveragePooling1D\n",
    "from keras.optimizers import Adam\n",
    "from keras.metrics import categorical_crossentropy\n",
    "from sklearn import preprocessing\n",
    "from sklearn.decomposition import PCA\n",
    "from sklearn.metrics import mean_squared_error, median_absolute_error, roc_curve, auc, f1_score, \\\n",
    "    precision_recall_curve, r2_score\n",
    "from sklearn.metrics import confusion_matrix\n",
    "from sklearn.metrics import plot_confusion_matrix, ConfusionMatrixDisplay\n",
    "import imblearn\n",
    "from imblearn import under_sampling, over_sampling\n",
    "from imblearn.over_sampling import RandomOverSampler, SMOTE, ADASYN, BorderlineSMOTE, SVMSMOTE, KMeansSMOTE"
   ]
  },
  {
   "cell_type": "code",
   "execution_count": null,
   "metadata": {},
   "outputs": [],
   "source": []
  },
  {
   "cell_type": "code",
   "execution_count": 2,
   "metadata": {},
   "outputs": [],
   "source": [
    "#useful functions"
   ]
  },
  {
   "cell_type": "code",
   "execution_count": 3,
   "metadata": {},
   "outputs": [],
   "source": [
    "def threshold_for_max_f1(y_real, Yhat):\n",
    "    '''\n",
    "    Given inputs y_real and y_predict, the function returns\n",
    "    the threshold (rounded to the nearest hundredth) that\n",
    "    maximizes f1.\n",
    "    \n",
    "    Note: this func not necessarily optimized, could return to \n",
    "    doing this but not needed).\n",
    "    \n",
    "    Also note that we calculate f1 without using the results method\n",
    "    in keras_model. This is because we need to check beforehand that\n",
    "    computing f1 won't produce a NaN so we won't get an invalid value warning.\n",
    "    '''\n",
    "    \n",
    "    #error is occuring in km.results when computing f1, because TNR, NPV are 0, implying that there\n",
    "    #are no true negatives. While we added if statements to account for at least one predicted\n",
    "    #negative, this does not correlate to at least one true negative. Hence, instead of using keras.results\n",
    "    #we use that code by check that tn is not 0\n",
    "    f1_vals = []\n",
    "    for i in range(0, 100):\n",
    "        threshold = i/100\n",
    "        y_predict = np.where(Yhat > threshold, 1, 0).astype(int)\n",
    "\n",
    "        cm = confusion_matrix(y_real, y_predict)\n",
    "        tn, fp, fn, tp = confusion_matrix(y_real, y_predict).ravel()\n",
    "        \n",
    "        if tn != 0:      \n",
    "            TNR = (tn) / (tn + fp)\n",
    "            NPV = (tn) / (tn + fn)\n",
    "            f1 = 2 * (TNR * NPV) / (TNR + NPV)\n",
    "        else:\n",
    "            f1 = -2   \n",
    "        f1_vals.append(f1)\n",
    "        \n",
    "    f1_vals = np.array(f1_vals)\n",
    "    f1_vals = np.nan_to_num(f1_vals, nan=-1)\n",
    "    return (np.argmax(f1_vals))/100"
   ]
  },
  {
   "cell_type": "code",
   "execution_count": 4,
   "metadata": {},
   "outputs": [],
   "source": [
    "def plot_cf_matrix(y_real, y_predict):\n",
    "    '''\n",
    "    Given y_real and y_predict, this method displays the results\n",
    "    (accuracy, recall, precision, f1) followed by the plot of the confusion matrix.\n",
    "    '''\n",
    "    print('results:', km.results(y_real, y_predict), '\\n')\n",
    "    \n",
    "    classes = ['High_svi', 'Low_svi']\n",
    "    cm = confusion_matrix(y_real, y_predict)\n",
    "    disp = sup.plot_confusion_matrix(cm, classes,\n",
    "                          normalize=False,\n",
    "                          title='Confusion matrix',\n",
    "                          cmap=plt.cm.Blues)\n",
    "    plt.show(disp)"
   ]
  },
  {
   "cell_type": "code",
   "execution_count": 17,
   "metadata": {},
   "outputs": [],
   "source": [
    "def over_sample(X, Y, sampler):\n",
    "    '''\n",
    "    This function over samples data X and labels Y. Because each piece of data is 2D (hence X is 3D),\n",
    "    we need to do some clever resizing since the imblearn Oversampling functions only work with a 2D X.\n",
    "    '''\n",
    "    \n",
    "    sampler = sampler(random_state=0)\n",
    "\n",
    "    orig_X_shape = X.shape\n",
    "    X_reshaped = np.reshape(X, (X.shape[0], X.shape[1]*X.shape[2]))\n",
    "    X_resampled, Y_resampled = sampler.fit_resample(X_reshaped, Y)\n",
    "    X_resampled = np.reshape(X_resampled, (X_resampled.shape[0], orig_X_shape[1], orig_X_shape[2]))\n",
    "    \n",
    "    return X_resampled, Y_resampled"
   ]
  },
  {
   "cell_type": "code",
   "execution_count": null,
   "metadata": {},
   "outputs": [],
   "source": []
  },
  {
   "cell_type": "code",
   "execution_count": 5,
   "metadata": {},
   "outputs": [],
   "source": [
    "#compiling data"
   ]
  },
  {
   "cell_type": "code",
   "execution_count": 6,
   "metadata": {},
   "outputs": [],
   "source": [
    "SVI_list = []\n",
    "for i in range(4):\n",
    "    df = pd.read_csv(f\"clean_tables/svi_{i+1}.csv\", index_col=\"date\")\n",
    "    df = df.drop(columns=['Settling_velocity', 'SV_label', 'SVI_label'])\n",
    "    df.index = pd.to_datetime(df.index, dayfirst=True)\n",
    "    SVI_list.append(df)"
   ]
  },
  {
   "cell_type": "code",
   "execution_count": 7,
   "metadata": {},
   "outputs": [],
   "source": [
    "temp_df = pd.read_csv(\"clean_tables/temperatur.csv\", index_col=\"date\")\n",
    "temp_df.index = pd.to_datetime(temp_df.index, dayfirst=True)\n",
    "sludge_age_df = pd.read_csv(\"clean_tables/sludge_age_f_m.csv\", index_col=\"date\")\n",
    "sludge_age_df.index = pd.to_datetime(sludge_age_df.index, dayfirst=True)"
   ]
  },
  {
   "cell_type": "code",
   "execution_count": 8,
   "metadata": {},
   "outputs": [],
   "source": [
    "reactor_list = []\n",
    "for i in range(4):\n",
    "    join = pd.concat([SVI_list[i], temp_df], axis=1)\n",
    "    if i <=1:\n",
    "        join = pd.concat([join, sludge_age_df.iloc[:, np.r_[0, 2]]], axis=1)\n",
    "    else:\n",
    "        join = pd.concat([join, sludge_age_df.iloc[:, np.r_[1, 3]]], axis=1)\n",
    "    join.columns = ['SVI', 'Temperature', 'F_M', 'Sludge Age']\n",
    "    reactor_list.append(join)"
   ]
  },
  {
   "cell_type": "code",
   "execution_count": 9,
   "metadata": {},
   "outputs": [
    {
     "data": {
      "text/html": [
       "<div>\n",
       "<style scoped>\n",
       "    .dataframe tbody tr th:only-of-type {\n",
       "        vertical-align: middle;\n",
       "    }\n",
       "\n",
       "    .dataframe tbody tr th {\n",
       "        vertical-align: top;\n",
       "    }\n",
       "\n",
       "    .dataframe thead th {\n",
       "        text-align: right;\n",
       "    }\n",
       "</style>\n",
       "<table border=\"1\" class=\"dataframe\">\n",
       "  <thead>\n",
       "    <tr style=\"text-align: right;\">\n",
       "      <th></th>\n",
       "      <th>SVI</th>\n",
       "      <th>Temperature</th>\n",
       "      <th>F_M</th>\n",
       "      <th>Sludge Age</th>\n",
       "    </tr>\n",
       "    <tr>\n",
       "      <th>date</th>\n",
       "      <th></th>\n",
       "      <th></th>\n",
       "      <th></th>\n",
       "      <th></th>\n",
       "    </tr>\n",
       "  </thead>\n",
       "  <tbody>\n",
       "    <tr>\n",
       "      <th>2010-01-01</th>\n",
       "      <td>88.649852</td>\n",
       "      <td>22.030</td>\n",
       "      <td>0.23</td>\n",
       "      <td>3.44</td>\n",
       "    </tr>\n",
       "    <tr>\n",
       "      <th>2010-01-02</th>\n",
       "      <td>86.480363</td>\n",
       "      <td>21.985</td>\n",
       "      <td>0.18</td>\n",
       "      <td>3.78</td>\n",
       "    </tr>\n",
       "    <tr>\n",
       "      <th>2010-01-03</th>\n",
       "      <td>96.370968</td>\n",
       "      <td>21.740</td>\n",
       "      <td>0.21</td>\n",
       "      <td>3.82</td>\n",
       "    </tr>\n",
       "    <tr>\n",
       "      <th>2010-01-04</th>\n",
       "      <td>109.427609</td>\n",
       "      <td>21.815</td>\n",
       "      <td>0.21</td>\n",
       "      <td>3.40</td>\n",
       "    </tr>\n",
       "    <tr>\n",
       "      <th>2010-01-05</th>\n",
       "      <td>100.929054</td>\n",
       "      <td>21.890</td>\n",
       "      <td>0.23</td>\n",
       "      <td>3.70</td>\n",
       "    </tr>\n",
       "    <tr>\n",
       "      <th>...</th>\n",
       "      <td>...</td>\n",
       "      <td>...</td>\n",
       "      <td>...</td>\n",
       "      <td>...</td>\n",
       "    </tr>\n",
       "    <tr>\n",
       "      <th>2020-12-27</th>\n",
       "      <td>159.420290</td>\n",
       "      <td>22.540</td>\n",
       "      <td>0.25</td>\n",
       "      <td>2.75</td>\n",
       "    </tr>\n",
       "    <tr>\n",
       "      <th>2020-12-28</th>\n",
       "      <td>147.887324</td>\n",
       "      <td>22.535</td>\n",
       "      <td>0.26</td>\n",
       "      <td>2.91</td>\n",
       "    </tr>\n",
       "    <tr>\n",
       "      <th>2020-12-29</th>\n",
       "      <td>152.173913</td>\n",
       "      <td>22.660</td>\n",
       "      <td>0.26</td>\n",
       "      <td>2.82</td>\n",
       "    </tr>\n",
       "    <tr>\n",
       "      <th>2020-12-30</th>\n",
       "      <td>148.725212</td>\n",
       "      <td>22.660</td>\n",
       "      <td>0.27</td>\n",
       "      <td>2.91</td>\n",
       "    </tr>\n",
       "    <tr>\n",
       "      <th>2020-12-31</th>\n",
       "      <td>152.777778</td>\n",
       "      <td>22.735</td>\n",
       "      <td>0.27</td>\n",
       "      <td>2.91</td>\n",
       "    </tr>\n",
       "  </tbody>\n",
       "</table>\n",
       "<p>4018 rows × 4 columns</p>\n",
       "</div>"
      ],
      "text/plain": [
       "                   SVI  Temperature   F_M  Sludge Age\n",
       "date                                                 \n",
       "2010-01-01   88.649852       22.030  0.23        3.44\n",
       "2010-01-02   86.480363       21.985  0.18        3.78\n",
       "2010-01-03   96.370968       21.740  0.21        3.82\n",
       "2010-01-04  109.427609       21.815  0.21        3.40\n",
       "2010-01-05  100.929054       21.890  0.23        3.70\n",
       "...                ...          ...   ...         ...\n",
       "2020-12-27  159.420290       22.540  0.25        2.75\n",
       "2020-12-28  147.887324       22.535  0.26        2.91\n",
       "2020-12-29  152.173913       22.660  0.26        2.82\n",
       "2020-12-30  148.725212       22.660  0.27        2.91\n",
       "2020-12-31  152.777778       22.735  0.27        2.91\n",
       "\n",
       "[4018 rows x 4 columns]"
      ]
     },
     "execution_count": 9,
     "metadata": {},
     "output_type": "execute_result"
    }
   ],
   "source": [
    "reactor_list[1]"
   ]
  },
  {
   "cell_type": "code",
   "execution_count": 10,
   "metadata": {},
   "outputs": [],
   "source": [
    "micro_list = []\n",
    "for i in range(4):\n",
    "    df = pd.read_csv(f\"clean_tables/micro_{i+1}.csv\", index_col=\"date\")\n",
    "    df.index = pd.to_datetime(df.index, dayfirst=True)\n",
    "    micro_list.append(df)"
   ]
  },
  {
   "cell_type": "code",
   "execution_count": 11,
   "metadata": {},
   "outputs": [
    {
     "data": {
      "text/html": [
       "<div>\n",
       "<style scoped>\n",
       "    .dataframe tbody tr th:only-of-type {\n",
       "        vertical-align: middle;\n",
       "    }\n",
       "\n",
       "    .dataframe tbody tr th {\n",
       "        vertical-align: top;\n",
       "    }\n",
       "\n",
       "    .dataframe thead th {\n",
       "        text-align: right;\n",
       "    }\n",
       "</style>\n",
       "<table border=\"1\" class=\"dataframe\">\n",
       "  <thead>\n",
       "    <tr style=\"text-align: right;\">\n",
       "      <th></th>\n",
       "      <th>arcella</th>\n",
       "      <th>nude ameba</th>\n",
       "      <th>aspidisca</th>\n",
       "      <th>trachelopylum</th>\n",
       "      <th>lionutus</th>\n",
       "      <th>paramecium</th>\n",
       "      <th>carchecium</th>\n",
       "      <th>epistylis</th>\n",
       "      <th>opercularia</th>\n",
       "      <th>podophyra</th>\n",
       "      <th>...</th>\n",
       "      <th>Floc Strength</th>\n",
       "      <th>Indian Ink</th>\n",
       "      <th>Filament index</th>\n",
       "      <th>Floc_size_small</th>\n",
       "      <th>Floc_size_medium</th>\n",
       "      <th>Floc_size_large</th>\n",
       "      <th>Shape_close</th>\n",
       "      <th>Shape_open</th>\n",
       "      <th>Filaments_in_floc</th>\n",
       "      <th>Free_filaments</th>\n",
       "    </tr>\n",
       "    <tr>\n",
       "      <th>date</th>\n",
       "      <th></th>\n",
       "      <th></th>\n",
       "      <th></th>\n",
       "      <th></th>\n",
       "      <th></th>\n",
       "      <th></th>\n",
       "      <th></th>\n",
       "      <th></th>\n",
       "      <th></th>\n",
       "      <th></th>\n",
       "      <th></th>\n",
       "      <th></th>\n",
       "      <th></th>\n",
       "      <th></th>\n",
       "      <th></th>\n",
       "      <th></th>\n",
       "      <th></th>\n",
       "      <th></th>\n",
       "      <th></th>\n",
       "      <th></th>\n",
       "      <th></th>\n",
       "    </tr>\n",
       "  </thead>\n",
       "  <tbody>\n",
       "    <tr>\n",
       "      <th>2010-02-18</th>\n",
       "      <td>40.0</td>\n",
       "      <td>4.0</td>\n",
       "      <td>2.0</td>\n",
       "      <td>0.0</td>\n",
       "      <td>6.0</td>\n",
       "      <td>0.0</td>\n",
       "      <td>1.0</td>\n",
       "      <td>4.0</td>\n",
       "      <td>4.0</td>\n",
       "      <td>0.0</td>\n",
       "      <td>...</td>\n",
       "      <td>NaN</td>\n",
       "      <td>NaN</td>\n",
       "      <td>3.0</td>\n",
       "      <td>0.0</td>\n",
       "      <td>1.0</td>\n",
       "      <td>1.0</td>\n",
       "      <td>0.0</td>\n",
       "      <td>1.0</td>\n",
       "      <td>1.0</td>\n",
       "      <td>1.0</td>\n",
       "    </tr>\n",
       "    <tr>\n",
       "      <th>2010-03-02</th>\n",
       "      <td>27.0</td>\n",
       "      <td>5.0</td>\n",
       "      <td>3.0</td>\n",
       "      <td>1.0</td>\n",
       "      <td>16.0</td>\n",
       "      <td>0.0</td>\n",
       "      <td>0.0</td>\n",
       "      <td>13.0</td>\n",
       "      <td>4.0</td>\n",
       "      <td>0.0</td>\n",
       "      <td>...</td>\n",
       "      <td>NaN</td>\n",
       "      <td>NaN</td>\n",
       "      <td>3.0</td>\n",
       "      <td>NaN</td>\n",
       "      <td>NaN</td>\n",
       "      <td>NaN</td>\n",
       "      <td>0.0</td>\n",
       "      <td>1.0</td>\n",
       "      <td>1.0</td>\n",
       "      <td>0.0</td>\n",
       "    </tr>\n",
       "    <tr>\n",
       "      <th>2010-03-08</th>\n",
       "      <td>27.0</td>\n",
       "      <td>8.0</td>\n",
       "      <td>14.0</td>\n",
       "      <td>1.0</td>\n",
       "      <td>9.0</td>\n",
       "      <td>1.0</td>\n",
       "      <td>0.0</td>\n",
       "      <td>11.0</td>\n",
       "      <td>9.0</td>\n",
       "      <td>0.0</td>\n",
       "      <td>...</td>\n",
       "      <td>NaN</td>\n",
       "      <td>NaN</td>\n",
       "      <td>3.0</td>\n",
       "      <td>NaN</td>\n",
       "      <td>NaN</td>\n",
       "      <td>NaN</td>\n",
       "      <td>1.0</td>\n",
       "      <td>1.0</td>\n",
       "      <td>1.0</td>\n",
       "      <td>1.0</td>\n",
       "    </tr>\n",
       "    <tr>\n",
       "      <th>2010-03-18</th>\n",
       "      <td>11.0</td>\n",
       "      <td>12.0</td>\n",
       "      <td>2.0</td>\n",
       "      <td>0.0</td>\n",
       "      <td>16.0</td>\n",
       "      <td>0.0</td>\n",
       "      <td>0.0</td>\n",
       "      <td>7.0</td>\n",
       "      <td>0.0</td>\n",
       "      <td>0.0</td>\n",
       "      <td>...</td>\n",
       "      <td>NaN</td>\n",
       "      <td>NaN</td>\n",
       "      <td>3.0</td>\n",
       "      <td>0.0</td>\n",
       "      <td>1.0</td>\n",
       "      <td>1.0</td>\n",
       "      <td>0.0</td>\n",
       "      <td>1.0</td>\n",
       "      <td>1.0</td>\n",
       "      <td>1.0</td>\n",
       "    </tr>\n",
       "    <tr>\n",
       "      <th>2010-04-08</th>\n",
       "      <td>12.0</td>\n",
       "      <td>6.0</td>\n",
       "      <td>10.0</td>\n",
       "      <td>0.0</td>\n",
       "      <td>13.0</td>\n",
       "      <td>1.0</td>\n",
       "      <td>0.0</td>\n",
       "      <td>1.0</td>\n",
       "      <td>1.0</td>\n",
       "      <td>0.0</td>\n",
       "      <td>...</td>\n",
       "      <td>NaN</td>\n",
       "      <td>NaN</td>\n",
       "      <td>3.0</td>\n",
       "      <td>0.0</td>\n",
       "      <td>1.0</td>\n",
       "      <td>1.0</td>\n",
       "      <td>0.0</td>\n",
       "      <td>1.0</td>\n",
       "      <td>1.0</td>\n",
       "      <td>1.0</td>\n",
       "    </tr>\n",
       "    <tr>\n",
       "      <th>...</th>\n",
       "      <td>...</td>\n",
       "      <td>...</td>\n",
       "      <td>...</td>\n",
       "      <td>...</td>\n",
       "      <td>...</td>\n",
       "      <td>...</td>\n",
       "      <td>...</td>\n",
       "      <td>...</td>\n",
       "      <td>...</td>\n",
       "      <td>...</td>\n",
       "      <td>...</td>\n",
       "      <td>...</td>\n",
       "      <td>...</td>\n",
       "      <td>...</td>\n",
       "      <td>...</td>\n",
       "      <td>...</td>\n",
       "      <td>...</td>\n",
       "      <td>...</td>\n",
       "      <td>...</td>\n",
       "      <td>...</td>\n",
       "      <td>...</td>\n",
       "    </tr>\n",
       "    <tr>\n",
       "      <th>2020-09-23</th>\n",
       "      <td>5.0</td>\n",
       "      <td>11.0</td>\n",
       "      <td>9.0</td>\n",
       "      <td>2.0</td>\n",
       "      <td>5.0</td>\n",
       "      <td>0.0</td>\n",
       "      <td>0.0</td>\n",
       "      <td>6.0</td>\n",
       "      <td>0.0</td>\n",
       "      <td>3.0</td>\n",
       "      <td>...</td>\n",
       "      <td>3.0</td>\n",
       "      <td>1.0</td>\n",
       "      <td>2.0</td>\n",
       "      <td>0.0</td>\n",
       "      <td>1.0</td>\n",
       "      <td>1.0</td>\n",
       "      <td>1.0</td>\n",
       "      <td>1.0</td>\n",
       "      <td>1.0</td>\n",
       "      <td>1.0</td>\n",
       "    </tr>\n",
       "    <tr>\n",
       "      <th>2020-10-21</th>\n",
       "      <td>7.0</td>\n",
       "      <td>57.0</td>\n",
       "      <td>55.0</td>\n",
       "      <td>0.0</td>\n",
       "      <td>12.0</td>\n",
       "      <td>0.0</td>\n",
       "      <td>14.0</td>\n",
       "      <td>26.0</td>\n",
       "      <td>0.0</td>\n",
       "      <td>0.0</td>\n",
       "      <td>...</td>\n",
       "      <td>1.0</td>\n",
       "      <td>3.0</td>\n",
       "      <td>3.0</td>\n",
       "      <td>1.0</td>\n",
       "      <td>1.0</td>\n",
       "      <td>1.0</td>\n",
       "      <td>0.0</td>\n",
       "      <td>1.0</td>\n",
       "      <td>1.0</td>\n",
       "      <td>1.0</td>\n",
       "    </tr>\n",
       "    <tr>\n",
       "      <th>2020-10-28</th>\n",
       "      <td>14.0</td>\n",
       "      <td>20.0</td>\n",
       "      <td>1.0</td>\n",
       "      <td>0.0</td>\n",
       "      <td>24.0</td>\n",
       "      <td>0.0</td>\n",
       "      <td>0.0</td>\n",
       "      <td>35.0</td>\n",
       "      <td>2.0</td>\n",
       "      <td>0.0</td>\n",
       "      <td>...</td>\n",
       "      <td>2.0</td>\n",
       "      <td>3.0</td>\n",
       "      <td>2.5</td>\n",
       "      <td>1.0</td>\n",
       "      <td>1.0</td>\n",
       "      <td>1.0</td>\n",
       "      <td>1.0</td>\n",
       "      <td>1.0</td>\n",
       "      <td>1.0</td>\n",
       "      <td>1.0</td>\n",
       "    </tr>\n",
       "    <tr>\n",
       "      <th>2020-11-11</th>\n",
       "      <td>23.0</td>\n",
       "      <td>86.0</td>\n",
       "      <td>17.0</td>\n",
       "      <td>1.0</td>\n",
       "      <td>29.0</td>\n",
       "      <td>0.0</td>\n",
       "      <td>0.0</td>\n",
       "      <td>18.0</td>\n",
       "      <td>0.0</td>\n",
       "      <td>0.0</td>\n",
       "      <td>...</td>\n",
       "      <td>3.0</td>\n",
       "      <td>2.0</td>\n",
       "      <td>2.5</td>\n",
       "      <td>1.0</td>\n",
       "      <td>1.0</td>\n",
       "      <td>1.0</td>\n",
       "      <td>1.0</td>\n",
       "      <td>1.0</td>\n",
       "      <td>1.0</td>\n",
       "      <td>1.0</td>\n",
       "    </tr>\n",
       "    <tr>\n",
       "      <th>2020-11-25</th>\n",
       "      <td>12.0</td>\n",
       "      <td>56.0</td>\n",
       "      <td>64.0</td>\n",
       "      <td>0.0</td>\n",
       "      <td>18.0</td>\n",
       "      <td>0.0</td>\n",
       "      <td>0.0</td>\n",
       "      <td>41.0</td>\n",
       "      <td>4.0</td>\n",
       "      <td>2.0</td>\n",
       "      <td>...</td>\n",
       "      <td>1.0</td>\n",
       "      <td>2.0</td>\n",
       "      <td>2.5</td>\n",
       "      <td>1.0</td>\n",
       "      <td>1.0</td>\n",
       "      <td>1.0</td>\n",
       "      <td>0.0</td>\n",
       "      <td>1.0</td>\n",
       "      <td>1.0</td>\n",
       "      <td>1.0</td>\n",
       "    </tr>\n",
       "  </tbody>\n",
       "</table>\n",
       "<p>362 rows × 37 columns</p>\n",
       "</div>"
      ],
      "text/plain": [
       "            arcella  nude ameba  aspidisca  trachelopylum  lionutus  \\\n",
       "date                                                                  \n",
       "2010-02-18     40.0         4.0        2.0            0.0       6.0   \n",
       "2010-03-02     27.0         5.0        3.0            1.0      16.0   \n",
       "2010-03-08     27.0         8.0       14.0            1.0       9.0   \n",
       "2010-03-18     11.0        12.0        2.0            0.0      16.0   \n",
       "2010-04-08     12.0         6.0       10.0            0.0      13.0   \n",
       "...             ...         ...        ...            ...       ...   \n",
       "2020-09-23      5.0        11.0        9.0            2.0       5.0   \n",
       "2020-10-21      7.0        57.0       55.0            0.0      12.0   \n",
       "2020-10-28     14.0        20.0        1.0            0.0      24.0   \n",
       "2020-11-11     23.0        86.0       17.0            1.0      29.0   \n",
       "2020-11-25     12.0        56.0       64.0            0.0      18.0   \n",
       "\n",
       "            paramecium  carchecium  epistylis  opercularia  podophyra  ...  \\\n",
       "date                                                                   ...   \n",
       "2010-02-18         0.0         1.0        4.0          4.0        0.0  ...   \n",
       "2010-03-02         0.0         0.0       13.0          4.0        0.0  ...   \n",
       "2010-03-08         1.0         0.0       11.0          9.0        0.0  ...   \n",
       "2010-03-18         0.0         0.0        7.0          0.0        0.0  ...   \n",
       "2010-04-08         1.0         0.0        1.0          1.0        0.0  ...   \n",
       "...                ...         ...        ...          ...        ...  ...   \n",
       "2020-09-23         0.0         0.0        6.0          0.0        3.0  ...   \n",
       "2020-10-21         0.0        14.0       26.0          0.0        0.0  ...   \n",
       "2020-10-28         0.0         0.0       35.0          2.0        0.0  ...   \n",
       "2020-11-11         0.0         0.0       18.0          0.0        0.0  ...   \n",
       "2020-11-25         0.0         0.0       41.0          4.0        2.0  ...   \n",
       "\n",
       "            Floc Strength  Indian Ink  Filament index  Floc_size_small  \\\n",
       "date                                                                     \n",
       "2010-02-18            NaN         NaN             3.0              0.0   \n",
       "2010-03-02            NaN         NaN             3.0              NaN   \n",
       "2010-03-08            NaN         NaN             3.0              NaN   \n",
       "2010-03-18            NaN         NaN             3.0              0.0   \n",
       "2010-04-08            NaN         NaN             3.0              0.0   \n",
       "...                   ...         ...             ...              ...   \n",
       "2020-09-23            3.0         1.0             2.0              0.0   \n",
       "2020-10-21            1.0         3.0             3.0              1.0   \n",
       "2020-10-28            2.0         3.0             2.5              1.0   \n",
       "2020-11-11            3.0         2.0             2.5              1.0   \n",
       "2020-11-25            1.0         2.0             2.5              1.0   \n",
       "\n",
       "            Floc_size_medium  Floc_size_large  Shape_close  Shape_open  \\\n",
       "date                                                                     \n",
       "2010-02-18               1.0              1.0          0.0         1.0   \n",
       "2010-03-02               NaN              NaN          0.0         1.0   \n",
       "2010-03-08               NaN              NaN          1.0         1.0   \n",
       "2010-03-18               1.0              1.0          0.0         1.0   \n",
       "2010-04-08               1.0              1.0          0.0         1.0   \n",
       "...                      ...              ...          ...         ...   \n",
       "2020-09-23               1.0              1.0          1.0         1.0   \n",
       "2020-10-21               1.0              1.0          0.0         1.0   \n",
       "2020-10-28               1.0              1.0          1.0         1.0   \n",
       "2020-11-11               1.0              1.0          1.0         1.0   \n",
       "2020-11-25               1.0              1.0          0.0         1.0   \n",
       "\n",
       "            Filaments_in_floc  Free_filaments  \n",
       "date                                           \n",
       "2010-02-18                1.0             1.0  \n",
       "2010-03-02                1.0             0.0  \n",
       "2010-03-08                1.0             1.0  \n",
       "2010-03-18                1.0             1.0  \n",
       "2010-04-08                1.0             1.0  \n",
       "...                       ...             ...  \n",
       "2020-09-23                1.0             1.0  \n",
       "2020-10-21                1.0             1.0  \n",
       "2020-10-28                1.0             1.0  \n",
       "2020-11-11                1.0             1.0  \n",
       "2020-11-25                1.0             1.0  \n",
       "\n",
       "[362 rows x 37 columns]"
      ]
     },
     "execution_count": 11,
     "metadata": {},
     "output_type": "execute_result"
    }
   ],
   "source": [
    "micro_list[0]"
   ]
  },
  {
   "cell_type": "code",
   "execution_count": 12,
   "metadata": {},
   "outputs": [],
   "source": [
    "join_list = []\n",
    "for i in range(4):\n",
    "    join = pd.concat([reactor_list[i], micro_list[i]], axis=1)\n",
    "    join_list.append(join)"
   ]
  },
  {
   "cell_type": "code",
   "execution_count": 13,
   "metadata": {},
   "outputs": [
    {
     "data": {
      "text/html": [
       "<div>\n",
       "<style scoped>\n",
       "    .dataframe tbody tr th:only-of-type {\n",
       "        vertical-align: middle;\n",
       "    }\n",
       "\n",
       "    .dataframe tbody tr th {\n",
       "        vertical-align: top;\n",
       "    }\n",
       "\n",
       "    .dataframe thead th {\n",
       "        text-align: right;\n",
       "    }\n",
       "</style>\n",
       "<table border=\"1\" class=\"dataframe\">\n",
       "  <thead>\n",
       "    <tr style=\"text-align: right;\">\n",
       "      <th></th>\n",
       "      <th>SVI</th>\n",
       "      <th>Temperature</th>\n",
       "      <th>F_M</th>\n",
       "      <th>Sludge Age</th>\n",
       "      <th>arcella</th>\n",
       "      <th>nude ameba</th>\n",
       "      <th>aspidisca</th>\n",
       "      <th>trachelopylum</th>\n",
       "      <th>lionutus</th>\n",
       "      <th>paramecium</th>\n",
       "      <th>...</th>\n",
       "      <th>Floc Strength</th>\n",
       "      <th>Indian Ink</th>\n",
       "      <th>Filament index</th>\n",
       "      <th>Floc_size_small</th>\n",
       "      <th>Floc_size_medium</th>\n",
       "      <th>Floc_size_large</th>\n",
       "      <th>Shape_close</th>\n",
       "      <th>Shape_open</th>\n",
       "      <th>Filaments_in_floc</th>\n",
       "      <th>Free_filaments</th>\n",
       "    </tr>\n",
       "    <tr>\n",
       "      <th>date</th>\n",
       "      <th></th>\n",
       "      <th></th>\n",
       "      <th></th>\n",
       "      <th></th>\n",
       "      <th></th>\n",
       "      <th></th>\n",
       "      <th></th>\n",
       "      <th></th>\n",
       "      <th></th>\n",
       "      <th></th>\n",
       "      <th></th>\n",
       "      <th></th>\n",
       "      <th></th>\n",
       "      <th></th>\n",
       "      <th></th>\n",
       "      <th></th>\n",
       "      <th></th>\n",
       "      <th></th>\n",
       "      <th></th>\n",
       "      <th></th>\n",
       "      <th></th>\n",
       "    </tr>\n",
       "  </thead>\n",
       "  <tbody>\n",
       "    <tr>\n",
       "      <th>2010-01-01</th>\n",
       "      <td>90.943683</td>\n",
       "      <td>22.030</td>\n",
       "      <td>0.23</td>\n",
       "      <td>3.44</td>\n",
       "      <td>NaN</td>\n",
       "      <td>NaN</td>\n",
       "      <td>NaN</td>\n",
       "      <td>NaN</td>\n",
       "      <td>NaN</td>\n",
       "      <td>NaN</td>\n",
       "      <td>...</td>\n",
       "      <td>NaN</td>\n",
       "      <td>NaN</td>\n",
       "      <td>NaN</td>\n",
       "      <td>NaN</td>\n",
       "      <td>NaN</td>\n",
       "      <td>NaN</td>\n",
       "      <td>NaN</td>\n",
       "      <td>NaN</td>\n",
       "      <td>NaN</td>\n",
       "      <td>NaN</td>\n",
       "    </tr>\n",
       "    <tr>\n",
       "      <th>2010-01-02</th>\n",
       "      <td>84.365325</td>\n",
       "      <td>21.985</td>\n",
       "      <td>0.18</td>\n",
       "      <td>3.78</td>\n",
       "      <td>NaN</td>\n",
       "      <td>NaN</td>\n",
       "      <td>NaN</td>\n",
       "      <td>NaN</td>\n",
       "      <td>NaN</td>\n",
       "      <td>NaN</td>\n",
       "      <td>...</td>\n",
       "      <td>NaN</td>\n",
       "      <td>NaN</td>\n",
       "      <td>NaN</td>\n",
       "      <td>NaN</td>\n",
       "      <td>NaN</td>\n",
       "      <td>NaN</td>\n",
       "      <td>NaN</td>\n",
       "      <td>NaN</td>\n",
       "      <td>NaN</td>\n",
       "      <td>NaN</td>\n",
       "    </tr>\n",
       "    <tr>\n",
       "      <th>2010-01-03</th>\n",
       "      <td>94.541139</td>\n",
       "      <td>21.740</td>\n",
       "      <td>0.21</td>\n",
       "      <td>3.82</td>\n",
       "      <td>NaN</td>\n",
       "      <td>NaN</td>\n",
       "      <td>NaN</td>\n",
       "      <td>NaN</td>\n",
       "      <td>NaN</td>\n",
       "      <td>NaN</td>\n",
       "      <td>...</td>\n",
       "      <td>NaN</td>\n",
       "      <td>NaN</td>\n",
       "      <td>NaN</td>\n",
       "      <td>NaN</td>\n",
       "      <td>NaN</td>\n",
       "      <td>NaN</td>\n",
       "      <td>NaN</td>\n",
       "      <td>NaN</td>\n",
       "      <td>NaN</td>\n",
       "      <td>NaN</td>\n",
       "    </tr>\n",
       "    <tr>\n",
       "      <th>2010-01-04</th>\n",
       "      <td>97.402597</td>\n",
       "      <td>21.815</td>\n",
       "      <td>0.21</td>\n",
       "      <td>3.40</td>\n",
       "      <td>NaN</td>\n",
       "      <td>NaN</td>\n",
       "      <td>NaN</td>\n",
       "      <td>NaN</td>\n",
       "      <td>NaN</td>\n",
       "      <td>NaN</td>\n",
       "      <td>...</td>\n",
       "      <td>NaN</td>\n",
       "      <td>NaN</td>\n",
       "      <td>NaN</td>\n",
       "      <td>NaN</td>\n",
       "      <td>NaN</td>\n",
       "      <td>NaN</td>\n",
       "      <td>NaN</td>\n",
       "      <td>NaN</td>\n",
       "      <td>NaN</td>\n",
       "      <td>NaN</td>\n",
       "    </tr>\n",
       "    <tr>\n",
       "      <th>2010-01-05</th>\n",
       "      <td>107.937685</td>\n",
       "      <td>21.890</td>\n",
       "      <td>0.23</td>\n",
       "      <td>3.70</td>\n",
       "      <td>NaN</td>\n",
       "      <td>NaN</td>\n",
       "      <td>NaN</td>\n",
       "      <td>NaN</td>\n",
       "      <td>NaN</td>\n",
       "      <td>NaN</td>\n",
       "      <td>...</td>\n",
       "      <td>NaN</td>\n",
       "      <td>NaN</td>\n",
       "      <td>NaN</td>\n",
       "      <td>NaN</td>\n",
       "      <td>NaN</td>\n",
       "      <td>NaN</td>\n",
       "      <td>NaN</td>\n",
       "      <td>NaN</td>\n",
       "      <td>NaN</td>\n",
       "      <td>NaN</td>\n",
       "    </tr>\n",
       "    <tr>\n",
       "      <th>...</th>\n",
       "      <td>...</td>\n",
       "      <td>...</td>\n",
       "      <td>...</td>\n",
       "      <td>...</td>\n",
       "      <td>...</td>\n",
       "      <td>...</td>\n",
       "      <td>...</td>\n",
       "      <td>...</td>\n",
       "      <td>...</td>\n",
       "      <td>...</td>\n",
       "      <td>...</td>\n",
       "      <td>...</td>\n",
       "      <td>...</td>\n",
       "      <td>...</td>\n",
       "      <td>...</td>\n",
       "      <td>...</td>\n",
       "      <td>...</td>\n",
       "      <td>...</td>\n",
       "      <td>...</td>\n",
       "      <td>...</td>\n",
       "      <td>...</td>\n",
       "    </tr>\n",
       "    <tr>\n",
       "      <th>2020-12-27</th>\n",
       "      <td>166.666667</td>\n",
       "      <td>22.540</td>\n",
       "      <td>0.25</td>\n",
       "      <td>2.75</td>\n",
       "      <td>NaN</td>\n",
       "      <td>NaN</td>\n",
       "      <td>NaN</td>\n",
       "      <td>NaN</td>\n",
       "      <td>NaN</td>\n",
       "      <td>NaN</td>\n",
       "      <td>...</td>\n",
       "      <td>NaN</td>\n",
       "      <td>NaN</td>\n",
       "      <td>NaN</td>\n",
       "      <td>NaN</td>\n",
       "      <td>NaN</td>\n",
       "      <td>NaN</td>\n",
       "      <td>NaN</td>\n",
       "      <td>NaN</td>\n",
       "      <td>NaN</td>\n",
       "      <td>NaN</td>\n",
       "    </tr>\n",
       "    <tr>\n",
       "      <th>2020-12-28</th>\n",
       "      <td>147.453083</td>\n",
       "      <td>22.535</td>\n",
       "      <td>0.26</td>\n",
       "      <td>2.91</td>\n",
       "      <td>NaN</td>\n",
       "      <td>NaN</td>\n",
       "      <td>NaN</td>\n",
       "      <td>NaN</td>\n",
       "      <td>NaN</td>\n",
       "      <td>NaN</td>\n",
       "      <td>...</td>\n",
       "      <td>NaN</td>\n",
       "      <td>NaN</td>\n",
       "      <td>NaN</td>\n",
       "      <td>NaN</td>\n",
       "      <td>NaN</td>\n",
       "      <td>NaN</td>\n",
       "      <td>NaN</td>\n",
       "      <td>NaN</td>\n",
       "      <td>NaN</td>\n",
       "      <td>NaN</td>\n",
       "    </tr>\n",
       "    <tr>\n",
       "      <th>2020-12-29</th>\n",
       "      <td>154.702970</td>\n",
       "      <td>22.660</td>\n",
       "      <td>0.26</td>\n",
       "      <td>2.82</td>\n",
       "      <td>NaN</td>\n",
       "      <td>NaN</td>\n",
       "      <td>NaN</td>\n",
       "      <td>NaN</td>\n",
       "      <td>NaN</td>\n",
       "      <td>NaN</td>\n",
       "      <td>...</td>\n",
       "      <td>NaN</td>\n",
       "      <td>NaN</td>\n",
       "      <td>NaN</td>\n",
       "      <td>NaN</td>\n",
       "      <td>NaN</td>\n",
       "      <td>NaN</td>\n",
       "      <td>NaN</td>\n",
       "      <td>NaN</td>\n",
       "      <td>NaN</td>\n",
       "      <td>NaN</td>\n",
       "    </tr>\n",
       "    <tr>\n",
       "      <th>2020-12-30</th>\n",
       "      <td>159.722222</td>\n",
       "      <td>22.660</td>\n",
       "      <td>0.27</td>\n",
       "      <td>2.91</td>\n",
       "      <td>NaN</td>\n",
       "      <td>NaN</td>\n",
       "      <td>NaN</td>\n",
       "      <td>NaN</td>\n",
       "      <td>NaN</td>\n",
       "      <td>NaN</td>\n",
       "      <td>...</td>\n",
       "      <td>NaN</td>\n",
       "      <td>NaN</td>\n",
       "      <td>NaN</td>\n",
       "      <td>NaN</td>\n",
       "      <td>NaN</td>\n",
       "      <td>NaN</td>\n",
       "      <td>NaN</td>\n",
       "      <td>NaN</td>\n",
       "      <td>NaN</td>\n",
       "      <td>NaN</td>\n",
       "    </tr>\n",
       "    <tr>\n",
       "      <th>2020-12-31</th>\n",
       "      <td>167.597765</td>\n",
       "      <td>22.735</td>\n",
       "      <td>0.27</td>\n",
       "      <td>2.91</td>\n",
       "      <td>NaN</td>\n",
       "      <td>NaN</td>\n",
       "      <td>NaN</td>\n",
       "      <td>NaN</td>\n",
       "      <td>NaN</td>\n",
       "      <td>NaN</td>\n",
       "      <td>...</td>\n",
       "      <td>NaN</td>\n",
       "      <td>NaN</td>\n",
       "      <td>NaN</td>\n",
       "      <td>NaN</td>\n",
       "      <td>NaN</td>\n",
       "      <td>NaN</td>\n",
       "      <td>NaN</td>\n",
       "      <td>NaN</td>\n",
       "      <td>NaN</td>\n",
       "      <td>NaN</td>\n",
       "    </tr>\n",
       "  </tbody>\n",
       "</table>\n",
       "<p>4018 rows × 41 columns</p>\n",
       "</div>"
      ],
      "text/plain": [
       "                   SVI  Temperature   F_M  Sludge Age  arcella  nude ameba  \\\n",
       "date                                                                         \n",
       "2010-01-01   90.943683       22.030  0.23        3.44      NaN         NaN   \n",
       "2010-01-02   84.365325       21.985  0.18        3.78      NaN         NaN   \n",
       "2010-01-03   94.541139       21.740  0.21        3.82      NaN         NaN   \n",
       "2010-01-04   97.402597       21.815  0.21        3.40      NaN         NaN   \n",
       "2010-01-05  107.937685       21.890  0.23        3.70      NaN         NaN   \n",
       "...                ...          ...   ...         ...      ...         ...   \n",
       "2020-12-27  166.666667       22.540  0.25        2.75      NaN         NaN   \n",
       "2020-12-28  147.453083       22.535  0.26        2.91      NaN         NaN   \n",
       "2020-12-29  154.702970       22.660  0.26        2.82      NaN         NaN   \n",
       "2020-12-30  159.722222       22.660  0.27        2.91      NaN         NaN   \n",
       "2020-12-31  167.597765       22.735  0.27        2.91      NaN         NaN   \n",
       "\n",
       "            aspidisca  trachelopylum  lionutus  paramecium  ...  \\\n",
       "date                                                        ...   \n",
       "2010-01-01        NaN            NaN       NaN         NaN  ...   \n",
       "2010-01-02        NaN            NaN       NaN         NaN  ...   \n",
       "2010-01-03        NaN            NaN       NaN         NaN  ...   \n",
       "2010-01-04        NaN            NaN       NaN         NaN  ...   \n",
       "2010-01-05        NaN            NaN       NaN         NaN  ...   \n",
       "...               ...            ...       ...         ...  ...   \n",
       "2020-12-27        NaN            NaN       NaN         NaN  ...   \n",
       "2020-12-28        NaN            NaN       NaN         NaN  ...   \n",
       "2020-12-29        NaN            NaN       NaN         NaN  ...   \n",
       "2020-12-30        NaN            NaN       NaN         NaN  ...   \n",
       "2020-12-31        NaN            NaN       NaN         NaN  ...   \n",
       "\n",
       "            Floc Strength  Indian Ink  Filament index  Floc_size_small  \\\n",
       "date                                                                     \n",
       "2010-01-01            NaN         NaN             NaN              NaN   \n",
       "2010-01-02            NaN         NaN             NaN              NaN   \n",
       "2010-01-03            NaN         NaN             NaN              NaN   \n",
       "2010-01-04            NaN         NaN             NaN              NaN   \n",
       "2010-01-05            NaN         NaN             NaN              NaN   \n",
       "...                   ...         ...             ...              ...   \n",
       "2020-12-27            NaN         NaN             NaN              NaN   \n",
       "2020-12-28            NaN         NaN             NaN              NaN   \n",
       "2020-12-29            NaN         NaN             NaN              NaN   \n",
       "2020-12-30            NaN         NaN             NaN              NaN   \n",
       "2020-12-31            NaN         NaN             NaN              NaN   \n",
       "\n",
       "            Floc_size_medium  Floc_size_large  Shape_close  Shape_open  \\\n",
       "date                                                                     \n",
       "2010-01-01               NaN              NaN          NaN         NaN   \n",
       "2010-01-02               NaN              NaN          NaN         NaN   \n",
       "2010-01-03               NaN              NaN          NaN         NaN   \n",
       "2010-01-04               NaN              NaN          NaN         NaN   \n",
       "2010-01-05               NaN              NaN          NaN         NaN   \n",
       "...                      ...              ...          ...         ...   \n",
       "2020-12-27               NaN              NaN          NaN         NaN   \n",
       "2020-12-28               NaN              NaN          NaN         NaN   \n",
       "2020-12-29               NaN              NaN          NaN         NaN   \n",
       "2020-12-30               NaN              NaN          NaN         NaN   \n",
       "2020-12-31               NaN              NaN          NaN         NaN   \n",
       "\n",
       "            Filaments_in_floc  Free_filaments  \n",
       "date                                           \n",
       "2010-01-01                NaN             NaN  \n",
       "2010-01-02                NaN             NaN  \n",
       "2010-01-03                NaN             NaN  \n",
       "2010-01-04                NaN             NaN  \n",
       "2010-01-05                NaN             NaN  \n",
       "...                       ...             ...  \n",
       "2020-12-27                NaN             NaN  \n",
       "2020-12-28                NaN             NaN  \n",
       "2020-12-29                NaN             NaN  \n",
       "2020-12-30                NaN             NaN  \n",
       "2020-12-31                NaN             NaN  \n",
       "\n",
       "[4018 rows x 41 columns]"
      ]
     },
     "execution_count": 13,
     "metadata": {},
     "output_type": "execute_result"
    }
   ],
   "source": [
    "join_list[0]"
   ]
  },
  {
   "cell_type": "code",
   "execution_count": null,
   "metadata": {},
   "outputs": [],
   "source": []
  },
  {
   "cell_type": "code",
   "execution_count": 298,
   "metadata": {},
   "outputs": [],
   "source": [
    "#model without resampling"
   ]
  },
  {
   "cell_type": "code",
   "execution_count": 486,
   "metadata": {},
   "outputs": [
    {
     "name": "stderr",
     "output_type": "stream",
     "text": [
      "100%|██████████| 7/7 [00:00<00:00, 53.60it/s]\n"
     ]
    }
   ],
   "source": [
    "X, Y = km.create_join_x_y_arr(join_list, n_steps_in=7, binary=True)\n",
    "X_normalize, Y_normalize, scalers = km.normalize(X, Y)\n",
    "X_normalize = np.nan_to_num(X_normalize, nan=-1)"
   ]
  },
  {
   "cell_type": "code",
   "execution_count": 487,
   "metadata": {},
   "outputs": [
    {
     "name": "stdout",
     "output_type": "stream",
     "text": [
      "Epoch 1/3\n",
      "14439/14439 [==============================] - 14s 997us/step - loss: 0.5820 - binary_accuracy: 0.6824\n",
      "Epoch 2/3\n",
      "14439/14439 [==============================] - 12s 860us/step - loss: 0.4626 - binary_accuracy: 0.7206\n",
      "Epoch 3/3\n",
      "14439/14439 [==============================] - 12s 858us/step - loss: 0.4256 - binary_accuracy: 0.7495\n"
     ]
    }
   ],
   "source": [
    "Xtrain, Xtest, ytrain, ytest = train_test_split(X_normalize, Y_normalize, test_size=0.10, random_state=42)\n",
    "model = Sequential()\n",
    "model.add(LSTM(units=50, activation='relu', name='first_lstm', recurrent_dropout=0.1, input_shape=(Xtrain.shape[1], Xtrain.shape[2])))\n",
    "model.add(Dense(25, activation='relu'))\n",
    "model.add(Dense(1, activation=\"sigmoid\"))\n",
    "model.compile(optimizer='adam', loss='binary_crossentropy', \n",
    "              metrics=[keras.metrics.BinaryAccuracy(name='binary_accuracy', dtype=None, threshold=0.5)])\n",
    "model.fit(Xtrain, ytrain, epochs=3, batch_size=10, shuffle=True)\n",
    "\n",
    "Yhat, Ytest = km.evaluate(model, Xtest, ytest, scalers, binary=True)\n",
    "y_real = Ytest.astype(int)\n",
    "threshold = threshold_for_max_f1(y_real, Yhat)\n",
    "y_predict = np.where(Yhat > threshold, 1, 0).astype(int)"
   ]
  },
  {
   "cell_type": "code",
   "execution_count": 488,
   "metadata": {},
   "outputs": [
    {
     "name": "stdout",
     "output_type": "stream",
     "text": [
      "results: (0.8130841121495327, 0.755859375, 0.6886120996441281, 0.7206703910614525) \n",
      "\n",
      "Confusion matrix, without normalization\n",
      "[[387 125]\n",
      " [175 918]]\n"
     ]
    },
    {
     "data": {
      "image/png": "[encoded data removed]",
      "text/plain": [
       "<Figure size 640x480 with 2 Axes>"
      ]
     },
     "metadata": {},
     "output_type": "display_data"
    }
   ],
   "source": [
    "plot_cf_matrix(y_real, y_predict)"
   ]
  },
  {
   "cell_type": "code",
   "execution_count": null,
   "metadata": {},
   "outputs": [],
   "source": []
  },
  {
   "cell_type": "code",
   "execution_count": 26,
   "metadata": {},
   "outputs": [],
   "source": [
    "#model with resampling"
   ]
  },
  {
   "cell_type": "code",
   "execution_count": 309,
   "metadata": {},
   "outputs": [
    {
     "name": "stderr",
     "output_type": "stream",
     "text": [
      "100%|██████████| 7/7 [00:00<00:00, 45.69it/s]\n"
     ]
    }
   ],
   "source": [
    "X, Y = km.create_join_x_y_arr(join_list, n_steps_in=7, binary=True)\n",
    "X_normalize, Y_normalize, scalers = km.normalize(X, Y)\n",
    "X_normalize = np.nan_to_num(X_normalize, nan=-1)\n",
    "# X_normalize, Y_normalize = over_sample(X_normalize, Y_normalize)"
   ]
  },
  {
   "cell_type": "code",
   "execution_count": 489,
   "metadata": {},
   "outputs": [
    {
     "name": "stdout",
     "output_type": "stream",
     "text": [
      "Epoch 1/6\n",
      "19564/19564 [==============================] - 18s 939us/step - loss: 0.5955 - binary_accuracy: 0.5879\n",
      "Epoch 2/6\n",
      "19564/19564 [==============================] - 17s 856us/step - loss: 0.4640 - binary_accuracy: 0.6923\n",
      "Epoch 3/6\n",
      "19564/19564 [==============================] - 17s 889us/step - loss: 0.4405 - binary_accuracy: 0.7297\n",
      "Epoch 4/6\n",
      "19564/19564 [==============================] - 17s 881us/step - loss: 0.4295 - binary_accuracy: 0.7482\n",
      "Epoch 5/6\n",
      "19564/19564 [==============================] - 17s 889us/step - loss: 0.4199 - binary_accuracy: 0.7590\n",
      "Epoch 6/6\n",
      "19564/19564 [==============================] - 17s 881us/step - loss: 0.4117 - binary_accuracy: 0.7666\n",
      "(0.8249221183800624, 0.71875, 0.7287128712871287, 0.7236971484759096)\n"
     ]
    }
   ],
   "source": [
    "# samplers_available = [RandomOverSampler, SMOTE, ADASYN, BorderlineSMOTE, SVMSMOTE]\n",
    "samplers = [SMOTE]\n",
    "results_list = []\n",
    "for sampler in samplers:\n",
    "    Xtrain, Xtest, ytrain, ytest = train_test_split(X_normalize, Y_normalize, test_size=0.10, random_state=42)\n",
    "    Xtrain, ytrain = over_sample(Xtrain, ytrain, sampler)\n",
    "\n",
    "    model = Sequential()\n",
    "    model.add(LSTM(units=50, activation='relu', name='first_lstm', recurrent_dropout=0.1, input_shape=(Xtrain.shape[1], Xtrain.shape[2])))\n",
    "    model.add(Dense(25, activation='relu'))\n",
    "    model.add(Dense(1, activation=\"sigmoid\"))\n",
    "    model.compile(optimizer='adam', loss='binary_crossentropy', \n",
    "                  metrics=[keras.metrics.BinaryAccuracy(name='binary_accuracy', dtype=None, threshold=0.5)])\n",
    "    model.fit(Xtrain, ytrain, epochs=6, batch_size=10, shuffle=True)\n",
    "\n",
    "    Yhat, Ytest = km.evaluate(model, Xtest, ytest, scalers, binary=True)\n",
    "    y_real = Ytest.astype(int)\n",
    "    threshold = threshold_for_max_f1(y_real, Yhat)\n",
    "    y_predict = np.where(Yhat > threshold, 1, 0).astype(int)\n",
    "    \n",
    "    print(km.results(y_real, y_predict))\n",
    "    results_list.append(km.results(y_real, y_predict))\n",
    "    "
   ]
  },
  {
   "cell_type": "code",
   "execution_count": 28,
   "metadata": {},
   "outputs": [
    {
     "name": "stderr",
     "output_type": "stream",
     "text": [
      "100%|██████████| 7/7 [00:00<00:00, 492.12it/s]\n"
     ]
    },
    {
     "name": "stdout",
     "output_type": "stream",
     "text": [
      "Epoch 1/6\n",
      "17400/17400 [==============================] - 17s 957us/step - loss: 0.4987 - binary_accuracy: 0.7033\n",
      "Epoch 2/6\n",
      "17400/17400 [==============================] - 16s 902us/step - loss: 0.4352 - binary_accuracy: 0.7614\n",
      "Epoch 3/6\n",
      "17400/17400 [==============================] - 16s 935us/step - loss: 0.4125 - binary_accuracy: 0.7776\n",
      "Epoch 4/6\n",
      "17400/17400 [==============================] - 14s 827us/step - loss: 0.4069 - binary_accuracy: 0.7858\n",
      "Epoch 5/6\n",
      "17400/17400 [==============================] - 14s 831us/step - loss: 0.4045 - binary_accuracy: 0.7908\n",
      "Epoch 6/6\n",
      "17400/17400 [==============================] - 15s 877us/step - loss: 0.3999 - binary_accuracy: 0.7944\n",
      "(0.824555936428794, 0.7611218568665378, 0.71350861287398, 0.7365465605989705)\n"
     ]
    }
   ],
   "source": [
    "Xtrain, Xtest, ytrain, ytest = get_Xtrain_Xtest_ytrain_ytest(7, 1, resample)\n",
    "\n",
    "samplers = [SMOTE]\n",
    "results_list = []\n",
    "for sampler in samplers:\n",
    "    \n",
    "    model = Sequential()\n",
    "    model.add(LSTM(units=50, activation='relu', name='first_lstm', recurrent_dropout=0.1, input_shape=(Xtrain.shape[1], Xtrain.shape[2])))\n",
    "    model.add(Dense(25, activation='relu'))\n",
    "    model.add(Dense(1, activation=\"sigmoid\"))\n",
    "    model.compile(optimizer='adam', loss='binary_crossentropy', \n",
    "                  metrics=[keras.metrics.BinaryAccuracy(name='binary_accuracy', dtype=None, threshold=0.5)])\n",
    "    model.fit(Xtrain, ytrain, epochs=6, batch_size=10, shuffle=True)\n",
    "\n",
    "    Yhat, Ytest = km.evaluate(model, Xtest, ytest, scalers, binary=True)\n",
    "    y_real = Ytest.astype(int)\n",
    "    threshold = threshold_for_max_f1(y_real, Yhat)\n",
    "    y_predict = np.where(Yhat > threshold, 1, 0).astype(int)\n",
    "    \n",
    "    print(km.results(y_real, y_predict))\n",
    "    results_list.append(km.results(y_real, y_predict))\n",
    "\n",
    "    "
   ]
  },
  {
   "cell_type": "code",
   "execution_count": 29,
   "metadata": {},
   "outputs": [
    {
     "name": "stdout",
     "output_type": "stream",
     "text": [
      "results: (0.824555936428794, 0.7611218568665378, 0.71350861287398, 0.7365465605989705) \n",
      "\n",
      "Confusion matrix, without normalization\n",
      "[[ 787  247]\n",
      " [ 316 1859]]\n"
     ]
    },
    {
     "data": {
      "image/png": "[encoded data removed]",
      "text/plain": [
       "<Figure size 640x480 with 2 Axes>"
      ]
     },
     "metadata": {},
     "output_type": "display_data"
    }
   ],
   "source": [
    "plot_cf_matrix(y_real, y_predict)"
   ]
  },
  {
   "cell_type": "code",
   "execution_count": null,
   "metadata": {},
   "outputs": [],
   "source": [
    "res = []"
   ]
  },
  {
   "cell_type": "code",
   "execution_count": 134,
   "metadata": {
    "scrolled": true
   },
   "outputs": [
    {
     "name": "stderr",
     "output_type": "stream",
     "text": [
      "100%|██████████| 7/7 [00:00<00:00, 460.38it/s]\n"
     ]
    },
    {
     "name": "stdout",
     "output_type": "stream",
     "text": [
      "Epoch 1/6\n",
      "15280/15280 [==============================] - 17s 1ms/step - loss: 0.5648 - binary_accuracy: 0.4962\n",
      "Epoch 2/6\n",
      "15280/15280 [==============================] - 14s 898us/step - loss: 0.4732 - binary_accuracy: 0.4994\n",
      "Epoch 3/6\n",
      "15280/15280 [==============================] - 14s 906us/step - loss: 0.4393 - binary_accuracy: 0.4999\n",
      "Epoch 4/6\n",
      "15280/15280 [==============================] - 14s 909us/step - loss: 0.4242 - binary_accuracy: 0.5112\n",
      "Epoch 5/6\n",
      "15280/15280 [==============================] - 14s 931us/step - loss: 0.4176 - binary_accuracy: 0.5544\n",
      "Epoch 6/6\n",
      "15280/15280 [==============================] - 15s 960us/step - loss: 0.4110 - binary_accuracy: 0.5862\n"
     ]
    },
    {
     "name": "stderr",
     "output_type": "stream",
     "text": [
      "100%|██████████| 7/7 [00:00<00:00, 470.51it/s]\n"
     ]
    },
    {
     "name": "stdout",
     "output_type": "stream",
     "text": [
      "Epoch 1/6\n",
      "15280/15280 [==============================] - 16s 1ms/step - loss: 0.5062 - binary_accuracy: 0.5414\n",
      "Epoch 2/6\n",
      "15280/15280 [==============================] - 15s 1ms/step - loss: 0.4285 - binary_accuracy: 0.6266\n",
      "Epoch 3/6\n",
      "15280/15280 [==============================] - 12s 810us/step - loss: 0.4149 - binary_accuracy: 0.6601\n",
      "Epoch 4/6\n",
      "15280/15280 [==============================] - 14s 896us/step - loss: 0.4094 - binary_accuracy: 0.6781\n",
      "Epoch 5/6\n",
      "15280/15280 [==============================] - 13s 849us/step - loss: 0.4047 - binary_accuracy: 0.6895\n",
      "Epoch 6/6\n",
      "15280/15280 [==============================] - 13s 848us/step - loss: 0.4050 - binary_accuracy: 0.6969\n"
     ]
    },
    {
     "data": {
      "text/plain": [
       "[0.7454965357967668,\n",
       " 0.7390134529147983,\n",
       " 0.7395588925387141,\n",
       " 0.7429864253393665,\n",
       " 0.7379830348727616,\n",
       " 0.7428311333636778,\n",
       " 0.7444933920704845,\n",
       " 0.7497700091996321,\n",
       " 0.7411873840445269,\n",
       " 0.7378277153558052,\n",
       " 0.7330716388616291,\n",
       " 0.7393617021276595,\n",
       " 0.7375820056232427,\n",
       " 0.7467149977344811]"
      ]
     },
     "execution_count": 134,
     "metadata": {},
     "output_type": "execute_result"
    }
   ],
   "source": [
    "def results_from_training_model(j = 50, k = 25, l = 4, m = 10, resample = SMOTE, recurrent_dropout = 0.1, threshold = 0.85, epochs = 6, batch_size = 10):\n",
    "    Xtrain, Xtest, ytrain, ytest, scalers = get_Xtrain_Xtest_ytrain_ytest_scalers(7, 1, resample)\n",
    "\n",
    "    model = Sequential()\n",
    "    model.add(LSTM(units=j, activation='relu', name='first_lstm', recurrent_dropout=recurrent_dropout, input_shape=(Xtrain.shape[1], Xtrain.shape[2])))\n",
    "    model.add(Dense(k, activation='relu'))\n",
    "    model.add(Dense(m, activation='relu'))\n",
    "    model.add(Dense(l, activation='relu'))\n",
    "    model.add(Dense(1, activation=\"sigmoid\"))\n",
    "\n",
    "    model.compile(optimizer='adam', loss='binary_crossentropy', \n",
    "                  metrics=[keras.metrics.BinaryAccuracy(name='binary_accuracy', dtype=None, threshold=threshold)])\n",
    "    model.fit(Xtrain, ytrain, epochs=epochs, batch_size=batch_size, shuffle=True)\n",
    "\n",
    "    \n",
    "    X_fit_threshold, Xtest, y_fit_threshold, ytest = train_test_split(Xtest, ytest, test_size=0.67, random_state=42)\n",
    "    Yhat, Ytest = km.evaluate(model, X_fit_threshold, y_fit_threshold, scalers, binary=True)\n",
    "    y_real = Ytest.astype(int)\n",
    "    threshold = threshold_for_max_f1(y_real, Yhat)\n",
    "    y_predict = np.where(Yhat > threshold, 1, 0).astype(int)\n",
    "    \n",
    "    Yhat, Ytest = km.evaluate(model, Xtest, ytest, scalers, binary=True)\n",
    "    y_real = Ytest.astype(int)\n",
    "#     threshold = threshold_for_max_f1(y_real, Yhat)\n",
    "    y_predict = np.where(Yhat > threshold, 1, 0).astype(int)\n",
    "        \n",
    "    return km.results(y_real, y_predict)\n",
    "\n",
    "# res.append(results_from_training_model(epochs = 6, l = 5))\n",
    "# res.append(results_from_training_model(epochs = 6, l = 6))\n",
    "# res.append(results_from_training_model(epochs = 6, l = 6, m = 12))\n",
    "# res.append(results_from_training_model(epochs = 6, l = 5, m = 11))\n",
    "# res.append(results_from_training_model(epochs = 6, l = 5, m = 9))\n",
    "# res.append(results_from_training_model(epochs = 6, l = 4))\n",
    "# res.append(results_from_training_model(epochs = 6, k = 24))\n",
    "# res.append(results_from_training_model(epochs = 6, k = 26))\n",
    "# res.append(results_from_training_model(epochs = 6, k = 30))\n",
    "# res.append(results_from_training_model(epochs = 6, k = 28))\n",
    "# res.append(results_from_training_model(epochs = 6, k = 27))\n",
    "# res.append(results_from_training_model(epochs = 6, k = 26))\n",
    "res.append(results_from_training_model(epochs = 6, k = 25))\n",
    "res.append(results_from_training_model(epochs = 6, k = 26))\n",
    "\n",
    "# res.append(results_from_training_model(epochs = 6, l = 6, m = 12))\n",
    "\n",
    "[x[3] for x in res]"
   ]
  },
  {
   "cell_type": "code",
   "execution_count": 99,
   "metadata": {},
   "outputs": [
    {
     "data": {
      "text/plain": [
       "[(0.8302180685358256,\n",
       "  0.7155963302752294,\n",
       "  0.7684729064039408,\n",
       "  0.7410926365795724)]"
      ]
     },
     "execution_count": 99,
     "metadata": {},
     "output_type": "execute_result"
    }
   ],
   "source": [
    "results_list"
   ]
  },
  {
   "cell_type": "code",
   "execution_count": 88,
   "metadata": {},
   "outputs": [
    {
     "data": {
      "text/plain": [
       "[(0.8255451713395638,\n",
       "  0.7339449541284404,\n",
       "  0.7476635514018691,\n",
       "  0.7407407407407407)]"
      ]
     },
     "execution_count": 88,
     "metadata": {},
     "output_type": "execute_result"
    }
   ],
   "source": [
    "results_list #50, 100, units, 0.85 threshold, 10 batch size, 1/5 train data"
   ]
  },
  {
   "cell_type": "code",
   "execution_count": 84,
   "metadata": {},
   "outputs": [
    {
     "data": {
      "text/plain": [
       "[(0.7963395638629284,\n",
       "  0.749112426035503,\n",
       "  0.6705508474576272,\n",
       "  0.7076579094466181)]"
      ]
     },
     "execution_count": 84,
     "metadata": {},
     "output_type": "execute_result"
    }
   ],
   "source": [
    "results_list #50, 100, units, 0.85 threshold, 10 batch size, 1/5 data, 0.2 train data, 0.8 test data"
   ]
  },
  {
   "cell_type": "code",
   "execution_count": 81,
   "metadata": {
    "scrolled": true
   },
   "outputs": [
    {
     "data": {
      "text/plain": [
       "[(0.8127921470863197,\n",
       "  0.7559912854030502,\n",
       "  0.6912350597609562,\n",
       "  0.7221644120707597)]"
      ]
     },
     "execution_count": 81,
     "metadata": {},
     "output_type": "execute_result"
    }
   ],
   "source": [
    "results_list #50, 100, units, 0.85 threshold, 10 batch size, 0.2 train data, 0.8 test data"
   ]
  },
  {
   "cell_type": "code",
   "execution_count": 76,
   "metadata": {},
   "outputs": [
    {
     "data": {
      "text/plain": [
       "[(0.8193146417445483,\n",
       "  0.8165137614678899,\n",
       "  0.7007874015748031,\n",
       "  0.7542372881355932)]"
      ]
     },
     "execution_count": 76,
     "metadata": {},
     "output_type": "execute_result"
    }
   ],
   "source": [
    "results_list #50, 100, units, 0.85 threshold, 10 batch size, 1/5 train data"
   ]
  },
  {
   "cell_type": "code",
   "execution_count": 74,
   "metadata": {},
   "outputs": [
    {
     "data": {
      "text/plain": [
       "[(0.8084112149532711,\n",
       "  0.8532110091743119,\n",
       "  0.6714801444043321,\n",
       "  0.7515151515151515)]"
      ]
     },
     "execution_count": 74,
     "metadata": {},
     "output_type": "execute_result"
    }
   ],
   "source": [
    "results_list #50, 100, units, 0.85 threshold, 10 batch size, 1/5 train data"
   ]
  },
  {
   "cell_type": "code",
   "execution_count": 71,
   "metadata": {},
   "outputs": [
    {
     "data": {
      "text/plain": [
       "[(0.8279837955749455,\n",
       "  0.7794970986460348,\n",
       "  0.7132743362831858,\n",
       "  0.744916820702403)]"
      ]
     },
     "execution_count": 71,
     "metadata": {},
     "output_type": "execute_result"
    }
   ],
   "source": [
    "results_list #50, 100, units, 0.85 threshold, 10 batch size"
   ]
  },
  {
   "cell_type": "code",
   "execution_count": 69,
   "metadata": {},
   "outputs": [
    {
     "data": {
      "text/plain": [
       "[(0.8270489248987224,\n",
       "  0.7611218568665378,\n",
       "  0.7187214611872146,\n",
       "  0.7393142320338186)]"
      ]
     },
     "execution_count": 69,
     "metadata": {},
     "output_type": "execute_result"
    }
   ],
   "source": [
    "results_list #50, 100, units, 0.85 threshold, 12 batch size"
   ]
  },
  {
   "cell_type": "code",
   "execution_count": 67,
   "metadata": {},
   "outputs": [
    {
     "data": {
      "text/plain": [
       "[(0.8254908071050171,\n",
       "  0.776595744680851,\n",
       "  0.7093639575971732,\n",
       "  0.7414589104339797)]"
      ]
     },
     "execution_count": 67,
     "metadata": {},
     "output_type": "execute_result"
    }
   ],
   "source": [
    "results_list #50, 100, units, 0.85 threshold, 8 batch size"
   ]
  },
  {
   "cell_type": "code",
   "execution_count": 65,
   "metadata": {},
   "outputs": [
    {
     "data": {
      "text/plain": [
       "[(0.8335930196322842,\n",
       "  0.7495164410058027,\n",
       "  0.7380952380952381,\n",
       "  0.7437619961612283)]"
      ]
     },
     "execution_count": 65,
     "metadata": {},
     "output_type": "execute_result"
    }
   ],
   "source": [
    "results_list #50, 100, units, 0.90 threshold, 10 batch size"
   ]
  },
  {
   "cell_type": "code",
   "execution_count": 63,
   "metadata": {},
   "outputs": [
    {
     "data": {
      "text/plain": [
       "[(0.8304767840448738,\n",
       "  0.7717601547388782,\n",
       "  0.7215189873417721,\n",
       "  0.7457943925233645)]"
      ]
     },
     "execution_count": 63,
     "metadata": {},
     "output_type": "execute_result"
    }
   ],
   "source": [
    "results_list #70, 140, units, 0.80 threshold"
   ]
  },
  {
   "cell_type": "code",
   "execution_count": 58,
   "metadata": {},
   "outputs": [
    {
     "data": {
      "text/plain": [
       "[(0.8335930196322842,\n",
       "  0.7591876208897486,\n",
       "  0.7336448598130841,\n",
       "  0.7461977186311788)]"
      ]
     },
     "execution_count": 58,
     "metadata": {},
     "output_type": "execute_result"
    }
   ],
   "source": [
    "results_list #50, 100, units, 0.80 threshold"
   ]
  },
  {
   "cell_type": "code",
   "execution_count": 56,
   "metadata": {},
   "outputs": [
    {
     "data": {
      "text/plain": [
       "[(0.8295419133686507,\n",
       "  0.7669245647969052,\n",
       "  0.721565059144677,\n",
       "  0.743553680262541)]"
      ]
     },
     "execution_count": 56,
     "metadata": {},
     "output_type": "execute_result"
    }
   ],
   "source": [
    "results_list #30, 60, units, 0.80 threshold"
   ]
  },
  {
   "cell_type": "code",
   "execution_count": 54,
   "metadata": {},
   "outputs": [
    {
     "data": {
      "text/plain": [
       "[(0.8264256777812402,\n",
       "  0.7620889748549323,\n",
       "  0.7170154686078253,\n",
       "  0.7388654477262073)]"
      ]
     },
     "execution_count": 54,
     "metadata": {},
     "output_type": "execute_result"
    }
   ],
   "source": [
    "results_list #25, 50, units, 0.80 threshold"
   ]
  },
  {
   "cell_type": "code",
   "execution_count": 52,
   "metadata": {},
   "outputs": [
    {
     "data": {
      "text/plain": [
       "[(0.8292302898099096,\n",
       "  0.7649903288201161,\n",
       "  0.7217153284671532,\n",
       "  0.7427230046948358)]"
      ]
     },
     "execution_count": 52,
     "metadata": {},
     "output_type": "execute_result"
    }
   ],
   "source": [
    "results_list"
   ]
  },
  {
   "cell_type": "code",
   "execution_count": 50,
   "metadata": {},
   "outputs": [
    {
     "data": {
      "text/plain": [
       "[(0.8261140542224992,\n",
       "  0.7688588007736944,\n",
       "  0.7136445242369839,\n",
       "  0.740223463687151)]"
      ]
     },
     "execution_count": 50,
     "metadata": {},
     "output_type": "execute_result"
    }
   ],
   "source": [
    "results_list"
   ]
  },
  {
   "cell_type": "code",
   "execution_count": 48,
   "metadata": {},
   "outputs": [
    {
     "data": {
      "text/plain": [
       "[(0.832034901838579,\n",
       "  0.7591876208897486,\n",
       "  0.7302325581395349,\n",
       "  0.7444286391654814)]"
      ]
     },
     "execution_count": 48,
     "metadata": {},
     "output_type": "execute_result"
    }
   ],
   "source": [
    "results_list"
   ]
  },
  {
   "cell_type": "code",
   "execution_count": 46,
   "metadata": {},
   "outputs": [
    {
     "data": {
      "text/plain": [
       "[(0.8298535369273917,\n",
       "  0.746615087040619,\n",
       "  0.7310606060606061,\n",
       "  0.738755980861244),\n",
       " (0.8311000311623559, 0.7330754352030948, 0.740234375, 0.7366375121477163),\n",
       " (0.8301651604861328,\n",
       "  0.7591876208897486,\n",
       "  0.7261794634597595,\n",
       "  0.7423167848699764)]"
      ]
     },
     "execution_count": 46,
     "metadata": {},
     "output_type": "execute_result"
    }
   ],
   "source": [
    "results_list"
   ]
  },
  {
   "cell_type": "code",
   "execution_count": 44,
   "metadata": {},
   "outputs": [
    {
     "data": {
      "text/plain": [
       "[(0.8357743845434715,\n",
       "  0.7359767891682786,\n",
       "  0.7497536945812808,\n",
       "  0.7428013665202539),\n",
       " (0.8289186662511686,\n",
       "  0.741779497098646,\n",
       "  0.7311725452812202,\n",
       "  0.7364378300528085),\n",
       " (0.8295419133686507,\n",
       "  0.7727272727272727,\n",
       "  0.7191719171917191,\n",
       "  0.744988344988345)]"
      ]
     },
     "execution_count": 44,
     "metadata": {},
     "output_type": "execute_result"
    }
   ],
   "source": [
    "results_list"
   ]
  },
  {
   "cell_type": "code",
   "execution_count": 42,
   "metadata": {},
   "outputs": [
    {
     "data": {
      "text/plain": [
       "[(0.8345278903085073,\n",
       "  0.7427466150870407,\n",
       "  0.7434656340755083,\n",
       "  0.7431059506531205),\n",
       " (0.8239326893113119,\n",
       "  0.776595744680851,\n",
       "  0.7062445030782761,\n",
       "  0.7397512666973745),\n",
       " (0.8329697725148021,\n",
       "  0.7620889748549323,\n",
       "  0.7309833024118738,\n",
       "  0.7462121212121211)]"
      ]
     },
     "execution_count": 42,
     "metadata": {},
     "output_type": "execute_result"
    }
   ],
   "source": [
    "results_list"
   ]
  },
  {
   "cell_type": "code",
   "execution_count": 40,
   "metadata": {},
   "outputs": [
    {
     "data": {
      "text/plain": [
       "[(0.8236210657525709,\n",
       "  0.769825918762089,\n",
       "  0.708185053380783,\n",
       "  0.7377201112140872),\n",
       " (0.824244312870053,\n",
       "  0.7727272727272727,\n",
       "  0.7083333333333334,\n",
       "  0.7391304347826088),\n",
       " (0.8261140542224992,\n",
       "  0.7736943907156673,\n",
       "  0.7117437722419929,\n",
       "  0.7414272474513439)]"
      ]
     },
     "execution_count": 40,
     "metadata": {},
     "output_type": "execute_result"
    }
   ],
   "source": [
    "results_list"
   ]
  },
  {
   "cell_type": "code",
   "execution_count": 36,
   "metadata": {},
   "outputs": [
    {
     "data": {
      "text/plain": [
       "[0.7083912841910058,\n",
       " 0.7344632768361582,\n",
       " 0.7445678416224047,\n",
       " 0.7457627118644068,\n",
       " 0.7456479690522245,\n",
       " 0.7445394112060778]"
      ]
     },
     "execution_count": 36,
     "metadata": {},
     "output_type": "execute_result"
    }
   ],
   "source": [
    "[x[3] for x in results_list]"
   ]
  },
  {
   "cell_type": "code",
   "execution_count": 38,
   "metadata": {},
   "outputs": [
    {
     "name": "stdout",
     "output_type": "stream",
     "text": [
      "results: (0.3222187597382362, 1.0, 0.3222187597382362, 0.4873909969361301) \n",
      "\n",
      "Confusion matrix, without normalization\n",
      "[[1034    0]\n",
      " [2175    0]]\n"
     ]
    },
    {
     "data": {
      "image/png": "[encoded data removed]",
      "text/plain": [
       "<Figure size 640x480 with 2 Axes>"
      ]
     },
     "metadata": {},
     "output_type": "display_data"
    }
   ],
   "source": [
    "plot_cf_matrix(y_real, y_predict)"
   ]
  },
  {
   "cell_type": "code",
   "execution_count": 25,
   "metadata": {},
   "outputs": [
    {
     "name": "stdout",
     "output_type": "stream",
     "text": [
      "results: (0.8008725459644749, 0.741779497098646, 0.6733977172958736, 0.7059364933271974) \n",
      "\n",
      "Confusion matrix, without normalization\n",
      "[[ 767  267]\n",
      " [ 372 1803]]\n"
     ]
    },
    {
     "data": {
      "image/png": "[encoded data removed]",
      "text/plain": [
       "<Figure size 640x480 with 2 Axes>"
      ]
     },
     "metadata": {},
     "output_type": "display_data"
    }
   ],
   "source": [
    "plot_cf_matrix(y_real, y_predict)"
   ]
  },
  {
   "cell_type": "code",
   "execution_count": null,
   "metadata": {},
   "outputs": [],
   "source": []
  },
  {
   "cell_type": "code",
   "execution_count": null,
   "metadata": {},
   "outputs": [],
   "source": [
    "#extra metrics"
   ]
  },
  {
   "cell_type": "code",
   "execution_count": 505,
   "metadata": {},
   "outputs": [],
   "source": [
    "# fpr, tpr, thresholds = roc_curve(Ytest, Yhat)"
   ]
  },
  {
   "cell_type": "code",
   "execution_count": 506,
   "metadata": {
    "scrolled": true
   },
   "outputs": [
    {
     "data": {
      "text/plain": [
       "0.8837595779963403"
      ]
     },
     "execution_count": 506,
     "metadata": {},
     "output_type": "execute_result"
    }
   ],
   "source": [
    "# auc(fpr, tpr)"
   ]
  },
  {
   "cell_type": "code",
   "execution_count": 507,
   "metadata": {},
   "outputs": [
    {
     "data": {
      "image/png": "[encoded data removed]",
      "text/plain": [
       "<Figure size 640x480 with 1 Axes>"
      ]
     },
     "metadata": {},
     "output_type": "display_data"
    }
   ],
   "source": [
    "# plt.plot(fpr, tpr)\n",
    "# plt.xlabel('False Positive Rate')\n",
    "# plt.ylabel('True Positive Rate')\n",
    "# plt.title('ROC curve')\n",
    "# plt.show()"
   ]
  },
  {
   "cell_type": "code",
   "execution_count": null,
   "metadata": {},
   "outputs": [],
   "source": []
  },
  {
   "cell_type": "code",
   "execution_count": null,
   "metadata": {},
   "outputs": [],
   "source": [
    "#general model training architecture"
   ]
  },
  {
   "cell_type": "code",
   "execution_count": 18,
   "metadata": {},
   "outputs": [],
   "source": [
    "model_names = {1: 'Simple LSTM',\n",
    "               2: 'Stacked LSTM',\n",
    "               3: 'Bidirectional LSTM',\n",
    "               4: 'CNN',\n",
    "               5: 'CNN LSTM',\n",
    "               6: 'LSTM Autoencoder',\n",
    "               7: 'Deep CNN',\n",
    "               8: 'GRU',\n",
    "               9: 'GRU CNN'}\n",
    "\n",
    "def plot_graphs_metrics(model, results_list, steps_in, steps_out):\n",
    "    model_name = model_names[model]\n",
    "    \n",
    "    #this block of code is because some models (like 6) require steps_in start at 3 instead of 1\n",
    "    shift_vals = {1: 1,\n",
    "                  3: 1,\n",
    "                  6: 3,\n",
    "                  9: 2}\n",
    "    shift_val = shift_vals[model]\n",
    "    \n",
    "    #plot graph of a metric result for all n_step_in and n_step_out values\n",
    "    x=list(range(1, steps_out))\n",
    "    label = ['accuracy', 'TNR', 'NPV', 'f1']\n",
    "    for z in range(4):\n",
    "        for i in range(steps_in-shift_val):\n",
    "            y=[]\n",
    "            for j in range(steps_out-1):\n",
    "                y.append(results_list[i*(steps_out-1):i*(steps_out-1) + (steps_out-1)][j][z])\n",
    "            plt.plot(x, y, label=f'n_steps_in={i+shift_val}')\n",
    "        plt.legend(loc='center left', bbox_to_anchor=(1, 0.5))\n",
    "        plt.xlabel(\"n_steps_out\")\n",
    "        plt.ylabel(label[z])\n",
    "        plt.title(model_name + \", 3 layers (50,25,1),\\n name='first_lstm', recurrent_dropout=0.1 \\n optimizer='adam', loss='binary_crossentropy' \")\n",
    "        plt.savefig(f\"figures/{model_name} {label[z]}.png\", bbox_inches=\"tight\")\n",
    "        plt.close()    \n",
    "    \n",
    "    #plot graph of all metric results for a n_step_in value\n",
    "    x=list(range(1, steps_out))\n",
    "    label = ['accuracy', 'TNR', 'NPV', 'f1']\n",
    "    for z in range(steps_in-shift_val):\n",
    "        for i in range(4):\n",
    "            y=[]\n",
    "            for j in range(steps_out-1):\n",
    "                y.append(results_list[z*(steps_out-1):z*(steps_out-1)+(steps_out-1)][j][i])\n",
    "            plt.plot(x, y, label=label[i])\n",
    "        plt.legend(loc='center left', bbox_to_anchor=(1, 0.5))\n",
    "        plt.xlabel(\"n_steps_out\")\n",
    "        plt.ylabel('Metric value')\n",
    "        plt.title(f\"{model_name}, 3 layers (50,25,1),\\n name='first_lstm', recurrent_dropout=0.1 \\n optimizer='adam', loss='binary_crossentropy' \\n n_steps_in={z+shift_val} \")\n",
    "        plt.savefig(f\"figures/{model_name} n_steps_in={z+shift_val}.png\", bbox_inches=\"tight\")\n",
    "        plt.close()"
   ]
  },
  {
   "cell_type": "code",
   "execution_count": 118,
   "metadata": {},
   "outputs": [],
   "source": [
    "#Helper functions\n",
    "def get_Xtrain_Xtest_ytrain_ytest_scalers(i, j, resample):\n",
    "    '''\n",
    "    Returns (Xtrain, Xtest, ytrain, ytest) based on number of steps in, number of steps out,\n",
    "    and the parameter specifying which resampler we're using (or None).\n",
    "    '''\n",
    "    X, Y = km.create_join_x_y_arr(reactor_list, n_steps_in=i, n_steps_out = j, binary=True)\n",
    "    X_normalize, Y_normalize, scalers = km.normalize(X, Y)\n",
    "    X_normalize = np.nan_to_num(X_normalize, nan=-1)\n",
    "    ### reduces size of dataset to test size (=0.2 rn)\n",
    "#     Xtrash, X_normalize, Ytrash, Y_normalize = train_test_split(X_normalize, Y_normalize, test_size=0.20, random_state=42)\n",
    "    ### reduces size of dataset\n",
    "    Xtrain, Xtest, ytrain, ytest = train_test_split(X_normalize, Y_normalize, test_size=0.30, random_state=42)\n",
    "    \n",
    "    if resample != None:\n",
    "        Xtrain, ytrain = over_sample(Xtrain, ytrain, resample)\n",
    "    return Xtrain, Xtest, ytrain, ytest, scalers\n",
    "\n",
    "\n",
    "#Model type 1\n",
    "def train_SIMPLE_LSTM_model(epochs, steps_in, steps_out, resample):\n",
    "    results_list = []\n",
    "    for i in tqdm(range(7, steps_in)):\n",
    "        for j in tqdm(range(1, steps_out)):\n",
    "            Xtrain, Xtest, ytrain, ytest, scalers = get_Xtrain_Xtest_ytrain_ytest_scalers(i, j, resample)\n",
    "            \n",
    "            features = Xtrain.shape[2]\n",
    "            model = Sequential()\n",
    "            model.add(LSTM(units=50, activation='relu', name='first_lstm', recurrent_dropout=0.1, input_shape=(Xtrain.shape[1], Xtrain.shape[2])))\n",
    "            model.add(Dense(25, activation='relu'))\n",
    "            model.add(Dense(1, activation=\"sigmoid\"))\n",
    "            \n",
    "            model.compile(optimizer=Adam(learning_rate=0.0005), loss='binary_crossentropy')\n",
    "#             model.compile(optimizer='adam', loss='binary_crossentropy', \n",
    "#                   metrics=[keras.metrics.BinaryAccuracy(name='binary_accuracy', dtype=None, threshold=0.5)])\n",
    "    \n",
    "            model.fit(Xtrain, ytrain, epochs=epochs, batch_size=10, shuffle=True)\n",
    "            \n",
    "            Yhat, Ytest = km.evaluate(model, Xtest, ytest, scalers, binary=True)\n",
    "            y_real = Ytest.astype(int)\n",
    "            threshold = threshold_for_max_f1(y_real, Yhat)\n",
    "            y_predict = np.where(Yhat > threshold, 1, 0).astype(int)\n",
    "            results_list.append(km.results(y_real, y_predict))\n",
    "            print('inputs', (epochs, steps_in, steps_out), 'outputs', km.results(y_real, y_predict))\n",
    "                  \n",
    "    return results_list\n",
    "\n",
    "#Model type 3\n",
    "def train_BIDIRECTIONAL_LSTM_model(epochs, steps_in, steps_out, resample):\n",
    "    results_list = []\n",
    "    for i in range(1, steps_in):\n",
    "        for j in range(1, steps_out):\n",
    "            Xtrain, Xtest, ytrain, ytest = get_Xtrain_Xtest_ytrain_ytest_scalers(i, j, resample)\n",
    "            \n",
    "            features = Xtrain.shape[2]\n",
    "            model = Sequential()\n",
    "            model.add(Bidirectional(LSTM(100, return_sequences=True, activation='relu')))\n",
    "            model.add(Bidirectional(LSTM(50, return_sequences=True, activation='relu')))\n",
    "            model.add(Bidirectional(LSTM(20, activation='relu')))\n",
    "            model.add(Dense(1, activation=\"sigmoid\"))\n",
    "            \n",
    "            model.compile(optimizer=Adam(learning_rate=0.0001), loss='binary_crossentropy')\n",
    "            model.fit(Xtrain, ytrain, epochs=epochs, batch_size=10, shuffle=True)\n",
    "            \n",
    "            Yhat, Ytest = km.evaluate(model, Xtest, ytest, scalers, binary=True)\n",
    "            y_real = Ytest.astype(int)\n",
    "            threshold = threshold_for_max_f1(y_real, Yhat)\n",
    "            y_predict = np.where(Yhat > threshold, 1, 0).astype(int)\n",
    "            results_list.append(km.results(y_real, y_predict))\n",
    "    return results_list\n",
    "\n",
    "#Model type 6\n",
    "#For some reason we need steps_in to be at least 3 for this one\n",
    "#This probably has to do with the pooling, Convolution, or Dropout layers\n",
    "def train_LSTM_AUTOENCODER_model(epochs, steps_in, steps_out, resample):\n",
    "    results_list = []\n",
    "    for i in range(3, steps_in):\n",
    "        for j in range(1, steps_out):\n",
    "            Xtrain, Xtest, ytrain, ytest = get_Xtrain_Xtest_ytrain_ytest_scalers(i, j, resample)\n",
    "            \n",
    "            features = Xtrain.shape[2]\n",
    "            model = Sequential()\n",
    "            model.add(Conv1D(filters=128, \n",
    "                             kernel_size=2, \n",
    "                             activation='relu', \n",
    "                             name='extractor', \n",
    "                             input_shape=(Xtrain.shape[1], Xtrain.shape[2])))\n",
    "            model.add(Dropout(0.3))\n",
    "            model.add(MaxPooling1D(pool_size=2))\n",
    "            model.add(Bidirectional(LSTM(50, activation='relu', input_shape=(Xtrain.shape[1], Xtrain.shape[2]))))\n",
    "            model.add(RepeatVector(10))\n",
    "            model.add(Bidirectional(LSTM(50, activation='relu')))\n",
    "            model.add(Dense(1))\n",
    "\n",
    "            model.compile(optimizer=Adam(learning_rate=0.0001), loss='binary_crossentropy')\n",
    "            model.fit(Xtrain, ytrain, epochs=epochs, batch_size=10, shuffle=True)\n",
    "            \n",
    "            Yhat, Ytest = km.evaluate(model, Xtest, ytest, scalers, binary=True)\n",
    "            y_real = Ytest.astype(int)\n",
    "            threshold = threshold_for_max_f1(y_real, Yhat)\n",
    "            y_predict = np.where(Yhat > threshold, 1, 0).astype(int)\n",
    "            results_list.append(km.results(y_real, y_predict))\n",
    "    return results_list\n",
    "\n",
    "#Model type 9\n",
    "#steps_in must be at least 2 for this one.\n",
    "def train_GRU_CNN_model(epochs, steps_in, steps_out, resample):\n",
    "    results_list = []\n",
    "    for i in range(2, steps_in):\n",
    "        for j in range(1, steps_out):\n",
    "            Xtrain, Xtest, ytrain, ytest = get_Xtrain_Xtest_ytrain_ytest_scalers(i, j, resample)\n",
    "            \n",
    "            features = Xtrain.shape[2]\n",
    "            inp_seq = Input(shape=(Xtrain.shape[1], Xtrain.shape[2]))\n",
    "            x = Bidirectional(GRU(100, return_sequences=True))(inp_seq)\n",
    "            x = AveragePooling1D(2)(x)\n",
    "            x = Conv1D(100, 3, activation='relu', padding='same',\n",
    "                       name='extractor')(x)\n",
    "            x = Flatten()(x)\n",
    "            x = Dense(16, activation='relu')(x)\n",
    "            x = Dropout(0.5)(x)\n",
    "\n",
    "            out = Dense(1, activation=\"sigmoid\")(x)\n",
    "\n",
    "            model = Model(inp_seq, out)\n",
    "\n",
    "            \n",
    "            model.compile(optimizer=Adam(learning_rate=0.0001), loss='binary_crossentropy')\n",
    "            model.fit(Xtrain, ytrain, epochs=epochs, batch_size=10, shuffle=True)\n",
    "            \n",
    "            Yhat, Ytest = km.evaluate(model, Xtest, ytest, scalers, binary=True)\n",
    "            y_real = Ytest.astype(int)\n",
    "            threshold = threshold_for_max_f1(y_real, Yhat)\n",
    "            y_predict = np.where(Yhat > threshold, 1, 0).astype(int)\n",
    "            results_list.append(km.results(y_real, y_predict))\n",
    "    return results_list"
   ]
  },
  {
   "cell_type": "code",
   "execution_count": 33,
   "metadata": {
    "scrolled": true
   },
   "outputs": [
    {
     "name": "stderr",
     "output_type": "stream",
     "text": [
      "  0%|          | 0/1 [00:00<?, ?it/s]\n",
      "  0%|          | 0/1 [00:00<?, ?it/s]\u001b[A\n",
      "\n",
      "100%|██████████| 7/7 [00:00<00:00, 333.95it/s]\n"
     ]
    },
    {
     "name": "stdout",
     "output_type": "stream",
     "text": [
      "Epoch 1/6\n",
      "17400/17400 [==============================] - 17s 976us/step - loss: 0.5155\n",
      "Epoch 2/6\n",
      "17400/17400 [==============================] - 14s 811us/step - loss: 0.4524\n",
      "Epoch 3/6\n",
      "17400/17400 [==============================] - 16s 915us/step - loss: 0.4325\n",
      "Epoch 4/6\n",
      "17400/17400 [==============================] - 15s 841us/step - loss: 0.4190\n",
      "Epoch 5/6\n",
      "17400/17400 [==============================] - 15s 865us/step - loss: 0.4120\n",
      "Epoch 6/6\n",
      "17400/17400 [==============================] - 14s 808us/step - loss: 0.4074\n"
     ]
    },
    {
     "name": "stderr",
     "output_type": "stream",
     "text": [
      "\n",
      "100%|██████████| 1/1 [01:33<00:00, 93.72s/it]\u001b[A\n",
      "100%|██████████| 1/1 [01:33<00:00, 93.72s/it]"
     ]
    },
    {
     "name": "stdout",
     "output_type": "stream",
     "text": [
      "inputs (6, 8, 2) outputs (0.8236210657525709, 0.7707930367504836, 0.7078152753108348, 0.7379629629629629)\n"
     ]
    },
    {
     "name": "stderr",
     "output_type": "stream",
     "text": [
      "\n"
     ]
    },
    {
     "ename": "IndexError",
     "evalue": "list index out of range",
     "output_type": "error",
     "traceback": [
      "\u001b[0;31m---------------------------------------------------------------------------\u001b[0m",
      "\u001b[0;31mIndexError\u001b[0m                                Traceback (most recent call last)",
      "\u001b[0;32m<ipython-input-33-17d699cf953d>\u001b[0m in \u001b[0;36m<module>\u001b[0;34m\u001b[0m\n\u001b[1;32m     22\u001b[0m \u001b[0;34m\u001b[0m\u001b[0m\n\u001b[1;32m     23\u001b[0m     \u001b[0mlist_of_result_lists\u001b[0m\u001b[0;34m[\u001b[0m\u001b[0mm\u001b[0m\u001b[0;34m]\u001b[0m \u001b[0;34m=\u001b[0m \u001b[0mresults_list\u001b[0m\u001b[0;34m\u001b[0m\u001b[0;34m\u001b[0m\u001b[0m\n\u001b[0;32m---> 24\u001b[0;31m     \u001b[0mplot_graphs_metrics\u001b[0m\u001b[0;34m(\u001b[0m\u001b[0mm\u001b[0m\u001b[0;34m,\u001b[0m \u001b[0mresults_list\u001b[0m\u001b[0;34m,\u001b[0m \u001b[0msteps_in\u001b[0m\u001b[0;34m,\u001b[0m \u001b[0msteps_out\u001b[0m\u001b[0;34m)\u001b[0m\u001b[0;34m\u001b[0m\u001b[0;34m\u001b[0m\u001b[0m\n\u001b[0m",
      "\u001b[0;32m<ipython-input-18-4d30666976dc>\u001b[0m in \u001b[0;36mplot_graphs_metrics\u001b[0;34m(model, results_list, steps_in, steps_out)\u001b[0m\n\u001b[1;32m     26\u001b[0m             \u001b[0my\u001b[0m\u001b[0;34m=\u001b[0m\u001b[0;34m[\u001b[0m\u001b[0;34m]\u001b[0m\u001b[0;34m\u001b[0m\u001b[0;34m\u001b[0m\u001b[0m\n\u001b[1;32m     27\u001b[0m             \u001b[0;32mfor\u001b[0m \u001b[0mj\u001b[0m \u001b[0;32min\u001b[0m \u001b[0mrange\u001b[0m\u001b[0;34m(\u001b[0m\u001b[0msteps_out\u001b[0m\u001b[0;34m-\u001b[0m\u001b[0;36m1\u001b[0m\u001b[0;34m)\u001b[0m\u001b[0;34m:\u001b[0m\u001b[0;34m\u001b[0m\u001b[0;34m\u001b[0m\u001b[0m\n\u001b[0;32m---> 28\u001b[0;31m                 \u001b[0my\u001b[0m\u001b[0;34m.\u001b[0m\u001b[0mappend\u001b[0m\u001b[0;34m(\u001b[0m\u001b[0mresults_list\u001b[0m\u001b[0;34m[\u001b[0m\u001b[0mi\u001b[0m\u001b[0;34m*\u001b[0m\u001b[0;34m(\u001b[0m\u001b[0msteps_out\u001b[0m\u001b[0;34m-\u001b[0m\u001b[0;36m1\u001b[0m\u001b[0;34m)\u001b[0m\u001b[0;34m:\u001b[0m\u001b[0mi\u001b[0m\u001b[0;34m*\u001b[0m\u001b[0;34m(\u001b[0m\u001b[0msteps_out\u001b[0m\u001b[0;34m-\u001b[0m\u001b[0;36m1\u001b[0m\u001b[0;34m)\u001b[0m \u001b[0;34m+\u001b[0m \u001b[0;34m(\u001b[0m\u001b[0msteps_out\u001b[0m\u001b[0;34m-\u001b[0m\u001b[0;36m1\u001b[0m\u001b[0;34m)\u001b[0m\u001b[0;34m]\u001b[0m\u001b[0;34m[\u001b[0m\u001b[0mj\u001b[0m\u001b[0;34m]\u001b[0m\u001b[0;34m[\u001b[0m\u001b[0mz\u001b[0m\u001b[0;34m]\u001b[0m\u001b[0;34m)\u001b[0m\u001b[0;34m\u001b[0m\u001b[0;34m\u001b[0m\u001b[0m\n\u001b[0m\u001b[1;32m     29\u001b[0m             \u001b[0mplt\u001b[0m\u001b[0;34m.\u001b[0m\u001b[0mplot\u001b[0m\u001b[0;34m(\u001b[0m\u001b[0mx\u001b[0m\u001b[0;34m,\u001b[0m \u001b[0my\u001b[0m\u001b[0;34m,\u001b[0m \u001b[0mlabel\u001b[0m\u001b[0;34m=\u001b[0m\u001b[0;34mf'n_steps_in={i+shift_val}'\u001b[0m\u001b[0;34m)\u001b[0m\u001b[0;34m\u001b[0m\u001b[0;34m\u001b[0m\u001b[0m\n\u001b[1;32m     30\u001b[0m         \u001b[0mplt\u001b[0m\u001b[0;34m.\u001b[0m\u001b[0mlegend\u001b[0m\u001b[0;34m(\u001b[0m\u001b[0mloc\u001b[0m\u001b[0;34m=\u001b[0m\u001b[0;34m'center left'\u001b[0m\u001b[0;34m,\u001b[0m \u001b[0mbbox_to_anchor\u001b[0m\u001b[0;34m=\u001b[0m\u001b[0;34m(\u001b[0m\u001b[0;36m1\u001b[0m\u001b[0;34m,\u001b[0m \u001b[0;36m0.5\u001b[0m\u001b[0;34m)\u001b[0m\u001b[0;34m)\u001b[0m\u001b[0;34m\u001b[0m\u001b[0;34m\u001b[0m\u001b[0m\n",
      "\u001b[0;31mIndexError\u001b[0m: list index out of range"
     ]
    }
   ],
   "source": [
    "#Code to run models\n",
    "list_of_result_lists = {}\n",
    "models_list = [1]\n",
    "\n",
    "epochs = 6\n",
    "steps_in = 7\n",
    "steps_out = 1\n",
    "resample = SMOTE\n",
    "\n",
    "steps_in += 1\n",
    "steps_out += 1\n",
    "\n",
    "for m in models_list:\n",
    "    if m == 1:\n",
    "        results_list = train_SIMPLE_LSTM_model(epochs, steps_in, steps_out, resample)\n",
    "    elif m == 3:\n",
    "        results_list = train_BIDIRECTIONAL_LSTM_model(epochs, steps_in, steps_out, resample)\n",
    "    elif m == 6:\n",
    "        results_list = train_LSTM_AUTOENCODER_model(epochs, steps_in, steps_out, resample)\n",
    "    elif m == 9:\n",
    "        results_list = train_GRU_CNN_model(epochs, steps_in, steps_out, resample)\n",
    "    \n",
    "    list_of_result_lists[m] = results_list\n",
    "    plot_graphs_metrics(m, results_list, steps_in, steps_out)"
   ]
  },
  {
   "cell_type": "code",
   "execution_count": null,
   "metadata": {},
   "outputs": [],
   "source": [
    "results_list"
   ]
  },
  {
   "cell_type": "code",
   "execution_count": 517,
   "metadata": {},
   "outputs": [
    {
     "data": {
      "text/plain": [
       "[(0.7181082762912259,\n",
       "  0.8696461824953445,\n",
       "  0.5494117647058824,\n",
       "  0.6733958183129056)]"
      ]
     },
     "execution_count": 517,
     "metadata": {},
     "output_type": "execute_result"
    }
   ],
   "source": [
    "results_list"
   ]
  },
  {
   "cell_type": "code",
   "execution_count": null,
   "metadata": {},
   "outputs": [],
   "source": [
    "list_of_result_lists"
   ]
  },
  {
   "cell_type": "code",
   "execution_count": null,
   "metadata": {},
   "outputs": [],
   "source": [
    "# list_of_result_lists[6]"
   ]
  }
 ],
 "metadata": {
  "kernelspec": {
   "display_name": "TF",
   "language": "python",
   "name": "tf"
  },
  "language_info": {
   "codemirror_mode": {
    "name": "ipython",
    "version": 3
   },
   "file_extension": ".py",
   "mimetype": "text/x-python",
   "name": "python",
   "nbconvert_exporter": "python",
   "pygments_lexer": "ipython3",
   "version": "3.7.9"
  }
 },
 "nbformat": 4,
 "nbformat_minor": 4
}
